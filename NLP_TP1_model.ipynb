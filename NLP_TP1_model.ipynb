{
  "cells": [
    {
      "cell_type": "markdown",
      "metadata": {
        "id": "S78bcOuNV57Y"
      },
      "source": [
        "**Facultad de Ciencias Exactas, Ingeniería y Agrimensura - UNR**\n",
        "\n",
        "Tecnicatura Universitaria en Inteligencia Artificial\n",
        "\n",
        "# Procesamiento del Lenguaje Natural - Trabajo Práctico N°: 1.\n",
        "\n",
        "Integrantes:\n",
        "- Pace, Bruno. Legajo: P-5295/7.\n",
        "- Sancho Almenar, Mariano. Legajo: S-5778/9."
      ]
    },
    {
      "cell_type": "code",
      "execution_count": 1,
      "metadata": {
        "id": "C9bC598hV57b",
        "outputId": "990f9cf6-b46b-47e4-bc0e-f6e9e5dd417c",
        "colab": {
          "base_uri": "https://localhost:8080/"
        }
      },
      "outputs": [
        {
          "output_type": "stream",
          "name": "stdout",
          "text": [
            "Requirement already satisfied: sentiment_analysis_spanish in /usr/local/lib/python3.10/dist-packages (0.0.25)\n",
            "Requirement already satisfied: transformers in /usr/local/lib/python3.10/dist-packages (4.44.2)\n",
            "Requirement already satisfied: filelock in /usr/local/lib/python3.10/dist-packages (from transformers) (3.16.1)\n",
            "Requirement already satisfied: huggingface-hub<1.0,>=0.23.2 in /usr/local/lib/python3.10/dist-packages (from transformers) (0.24.7)\n",
            "Requirement already satisfied: numpy>=1.17 in /usr/local/lib/python3.10/dist-packages (from transformers) (1.26.4)\n",
            "Requirement already satisfied: packaging>=20.0 in /usr/local/lib/python3.10/dist-packages (from transformers) (24.1)\n",
            "Requirement already satisfied: pyyaml>=5.1 in /usr/local/lib/python3.10/dist-packages (from transformers) (6.0.2)\n",
            "Requirement already satisfied: regex!=2019.12.17 in /usr/local/lib/python3.10/dist-packages (from transformers) (2024.9.11)\n",
            "Requirement already satisfied: requests in /usr/local/lib/python3.10/dist-packages (from transformers) (2.32.3)\n",
            "Requirement already satisfied: safetensors>=0.4.1 in /usr/local/lib/python3.10/dist-packages (from transformers) (0.4.5)\n",
            "Requirement already satisfied: tokenizers<0.20,>=0.19 in /usr/local/lib/python3.10/dist-packages (from transformers) (0.19.1)\n",
            "Requirement already satisfied: tqdm>=4.27 in /usr/local/lib/python3.10/dist-packages (from transformers) (4.66.6)\n",
            "Requirement already satisfied: fsspec>=2023.5.0 in /usr/local/lib/python3.10/dist-packages (from huggingface-hub<1.0,>=0.23.2->transformers) (2024.10.0)\n",
            "Requirement already satisfied: typing-extensions>=3.7.4.3 in /usr/local/lib/python3.10/dist-packages (from huggingface-hub<1.0,>=0.23.2->transformers) (4.12.2)\n",
            "Requirement already satisfied: charset-normalizer<4,>=2 in /usr/local/lib/python3.10/dist-packages (from requests->transformers) (3.4.0)\n",
            "Requirement already satisfied: idna<4,>=2.5 in /usr/local/lib/python3.10/dist-packages (from requests->transformers) (3.10)\n",
            "Requirement already satisfied: urllib3<3,>=1.21.1 in /usr/local/lib/python3.10/dist-packages (from requests->transformers) (2.2.3)\n",
            "Requirement already satisfied: certifi>=2017.4.17 in /usr/local/lib/python3.10/dist-packages (from requests->transformers) (2024.8.30)\n",
            "Collecting https://github.com/explosion/spacy-models/releases/download/es_core_news_lg-3.5.0/es_core_news_lg-3.5.0.tar.gz\n",
            "  Downloading https://github.com/explosion/spacy-models/releases/download/es_core_news_lg-3.5.0/es_core_news_lg-3.5.0.tar.gz (568.0 MB)\n",
            "\u001b[2K     \u001b[90m━━━━━━━━━━━━━━━━━━━━━━━━━━━━━━━━━━━━━━━━\u001b[0m \u001b[32m568.0/568.0 MB\u001b[0m \u001b[31m1.4 MB/s\u001b[0m eta \u001b[36m0:00:00\u001b[0m\n",
            "\u001b[?25h  Preparing metadata (setup.py) ... \u001b[?25l\u001b[?25hdone\n",
            "Requirement already satisfied: spacy<3.6.0,>=3.5.0 in /usr/local/lib/python3.10/dist-packages (from es_core_news_lg==3.5.0) (3.5.4)\n",
            "Requirement already satisfied: spacy-legacy<3.1.0,>=3.0.11 in /usr/local/lib/python3.10/dist-packages (from spacy<3.6.0,>=3.5.0->es_core_news_lg==3.5.0) (3.0.12)\n",
            "Requirement already satisfied: spacy-loggers<2.0.0,>=1.0.0 in /usr/local/lib/python3.10/dist-packages (from spacy<3.6.0,>=3.5.0->es_core_news_lg==3.5.0) (1.0.5)\n",
            "Requirement already satisfied: murmurhash<1.1.0,>=0.28.0 in /usr/local/lib/python3.10/dist-packages (from spacy<3.6.0,>=3.5.0->es_core_news_lg==3.5.0) (1.0.10)\n",
            "Requirement already satisfied: cymem<2.1.0,>=2.0.2 in /usr/local/lib/python3.10/dist-packages (from spacy<3.6.0,>=3.5.0->es_core_news_lg==3.5.0) (2.0.8)\n",
            "Requirement already satisfied: preshed<3.1.0,>=3.0.2 in /usr/local/lib/python3.10/dist-packages (from spacy<3.6.0,>=3.5.0->es_core_news_lg==3.5.0) (3.0.9)\n",
            "Requirement already satisfied: thinc<8.2.0,>=8.1.8 in /usr/local/lib/python3.10/dist-packages (from spacy<3.6.0,>=3.5.0->es_core_news_lg==3.5.0) (8.1.12)\n",
            "Requirement already satisfied: wasabi<1.2.0,>=0.9.1 in /usr/local/lib/python3.10/dist-packages (from spacy<3.6.0,>=3.5.0->es_core_news_lg==3.5.0) (1.1.3)\n",
            "Requirement already satisfied: srsly<3.0.0,>=2.4.3 in /usr/local/lib/python3.10/dist-packages (from spacy<3.6.0,>=3.5.0->es_core_news_lg==3.5.0) (2.4.8)\n",
            "Requirement already satisfied: catalogue<2.1.0,>=2.0.6 in /usr/local/lib/python3.10/dist-packages (from spacy<3.6.0,>=3.5.0->es_core_news_lg==3.5.0) (2.0.10)\n",
            "Requirement already satisfied: typer<0.10.0,>=0.3.0 in /usr/local/lib/python3.10/dist-packages (from spacy<3.6.0,>=3.5.0->es_core_news_lg==3.5.0) (0.9.4)\n",
            "Requirement already satisfied: pathy>=0.10.0 in /usr/local/lib/python3.10/dist-packages (from spacy<3.6.0,>=3.5.0->es_core_news_lg==3.5.0) (0.11.0)\n",
            "Requirement already satisfied: smart-open<7.0.0,>=5.2.1 in /usr/local/lib/python3.10/dist-packages (from spacy<3.6.0,>=3.5.0->es_core_news_lg==3.5.0) (6.4.0)\n",
            "Requirement already satisfied: tqdm<5.0.0,>=4.38.0 in /usr/local/lib/python3.10/dist-packages (from spacy<3.6.0,>=3.5.0->es_core_news_lg==3.5.0) (4.66.6)\n",
            "Requirement already satisfied: numpy>=1.15.0 in /usr/local/lib/python3.10/dist-packages (from spacy<3.6.0,>=3.5.0->es_core_news_lg==3.5.0) (1.26.4)\n",
            "Requirement already satisfied: requests<3.0.0,>=2.13.0 in /usr/local/lib/python3.10/dist-packages (from spacy<3.6.0,>=3.5.0->es_core_news_lg==3.5.0) (2.32.3)\n",
            "Requirement already satisfied: pydantic!=1.8,!=1.8.1,<1.11.0,>=1.7.4 in /usr/local/lib/python3.10/dist-packages (from spacy<3.6.0,>=3.5.0->es_core_news_lg==3.5.0) (1.10.18)\n",
            "Requirement already satisfied: jinja2 in /usr/local/lib/python3.10/dist-packages (from spacy<3.6.0,>=3.5.0->es_core_news_lg==3.5.0) (3.1.4)\n",
            "Requirement already satisfied: setuptools in /usr/local/lib/python3.10/dist-packages (from spacy<3.6.0,>=3.5.0->es_core_news_lg==3.5.0) (75.1.0)\n",
            "Requirement already satisfied: packaging>=20.0 in /usr/local/lib/python3.10/dist-packages (from spacy<3.6.0,>=3.5.0->es_core_news_lg==3.5.0) (24.1)\n",
            "Requirement already satisfied: langcodes<4.0.0,>=3.2.0 in /usr/local/lib/python3.10/dist-packages (from spacy<3.6.0,>=3.5.0->es_core_news_lg==3.5.0) (3.4.1)\n",
            "Requirement already satisfied: language-data>=1.2 in /usr/local/lib/python3.10/dist-packages (from langcodes<4.0.0,>=3.2.0->spacy<3.6.0,>=3.5.0->es_core_news_lg==3.5.0) (1.2.0)\n",
            "Requirement already satisfied: pathlib-abc==0.1.1 in /usr/local/lib/python3.10/dist-packages (from pathy>=0.10.0->spacy<3.6.0,>=3.5.0->es_core_news_lg==3.5.0) (0.1.1)\n",
            "Requirement already satisfied: typing-extensions>=4.2.0 in /usr/local/lib/python3.10/dist-packages (from pydantic!=1.8,!=1.8.1,<1.11.0,>=1.7.4->spacy<3.6.0,>=3.5.0->es_core_news_lg==3.5.0) (4.12.2)\n",
            "Requirement already satisfied: charset-normalizer<4,>=2 in /usr/local/lib/python3.10/dist-packages (from requests<3.0.0,>=2.13.0->spacy<3.6.0,>=3.5.0->es_core_news_lg==3.5.0) (3.4.0)\n",
            "Requirement already satisfied: idna<4,>=2.5 in /usr/local/lib/python3.10/dist-packages (from requests<3.0.0,>=2.13.0->spacy<3.6.0,>=3.5.0->es_core_news_lg==3.5.0) (3.10)\n",
            "Requirement already satisfied: urllib3<3,>=1.21.1 in /usr/local/lib/python3.10/dist-packages (from requests<3.0.0,>=2.13.0->spacy<3.6.0,>=3.5.0->es_core_news_lg==3.5.0) (2.2.3)\n",
            "Requirement already satisfied: certifi>=2017.4.17 in /usr/local/lib/python3.10/dist-packages (from requests<3.0.0,>=2.13.0->spacy<3.6.0,>=3.5.0->es_core_news_lg==3.5.0) (2024.8.30)\n",
            "Requirement already satisfied: blis<0.8.0,>=0.7.8 in /usr/local/lib/python3.10/dist-packages (from thinc<8.2.0,>=8.1.8->spacy<3.6.0,>=3.5.0->es_core_news_lg==3.5.0) (0.7.11)\n",
            "Requirement already satisfied: confection<1.0.0,>=0.0.1 in /usr/local/lib/python3.10/dist-packages (from thinc<8.2.0,>=8.1.8->spacy<3.6.0,>=3.5.0->es_core_news_lg==3.5.0) (0.1.5)\n",
            "Requirement already satisfied: click<9.0.0,>=7.1.1 in /usr/local/lib/python3.10/dist-packages (from typer<0.10.0,>=0.3.0->spacy<3.6.0,>=3.5.0->es_core_news_lg==3.5.0) (8.1.7)\n",
            "Requirement already satisfied: MarkupSafe>=2.0 in /usr/local/lib/python3.10/dist-packages (from jinja2->spacy<3.6.0,>=3.5.0->es_core_news_lg==3.5.0) (3.0.2)\n",
            "Requirement already satisfied: marisa-trie>=0.7.7 in /usr/local/lib/python3.10/dist-packages (from language-data>=1.2->langcodes<4.0.0,>=3.2.0->spacy<3.6.0,>=3.5.0->es_core_news_lg==3.5.0) (1.2.1)\n"
          ]
        }
      ],
      "source": [
        "# Datasets\n",
        "import pandas as pd\n",
        "\n",
        "# Modelado:\n",
        "!pip install sentiment_analysis_spanish\n",
        "!pip install transformers\n",
        "!pip install https://github.com/explosion/spacy-models/releases/download/es_core_news_lg-3.5.0/es_core_news_lg-3.5.0.tar.gz\n",
        "!pip install gliner\n",
        "from gliner import GLiNER\n",
        "from transformers import BertTokenizer, BertForSequenceClassification\n",
        "from transformers import pipeline\n",
        "from sklearn.model_selection import train_test_split\n",
        "from sklearn.feature_extraction.text import TfidfVectorizer\n",
        "from sklearn.linear_model import LogisticRegression\n",
        "from sklearn.metrics import accuracy_score, classification_report\n",
        "import nltk\n",
        "import spacy\n",
        "from sentiment_analysis_spanish import sentiment_analysis\n",
        "\n",
        "# Configuración de warnings:\n",
        "import warnings\n",
        "warnings.filterwarnings('ignore')"
      ]
    },
    {
      "cell_type": "markdown",
      "source": [
        "## Prompts\n",
        "\n",
        "Ingreso del usuario mediante teclado de los prompts a evaluar por el programa."
      ],
      "metadata": {
        "id": "p19kyk5qZCL9"
      }
    },
    {
      "cell_type": "code",
      "source": [
        "def sentiment_input() -> str:\n",
        "  \"\"\"\n",
        "  Inicia el programa y pide al usuario que ingrese un prompt.\n",
        "  \"\"\"\n",
        "  print('¡Bienvenido al recomendador de actividades!')\n",
        "  sentiment_input = input(\"¿Cómo te sientes hoy?: \")\n",
        "  return sentiment_input"
      ],
      "metadata": {
        "id": "naLzIvyvZBzL"
      },
      "execution_count": 2,
      "outputs": []
    },
    {
      "cell_type": "code",
      "source": [
        "def preference_input() -> str:\n",
        "  \"\"\"\n",
        "  Pide al usuario que ingrese su temática a explorar.\n",
        "  \"\"\"\n",
        "  preference_input = input(\"¿Qué tipo de temática querés abordar?: \")\n",
        "  return preference_input"
      ],
      "metadata": {
        "id": "5u9M-iRdfrJj"
      },
      "execution_count": 3,
      "outputs": []
    },
    {
      "cell_type": "markdown",
      "metadata": {
        "id": "XrzLF0X5V57d"
      },
      "source": [
        "## Modelado\n",
        "- Se utiliza transformers para clasificar el estado de ánimo de la persona. Este puede ser: \"Alegre\", \"Melancólico\" o \"Ni fu ni fa\"."
      ]
    },
    {
      "cell_type": "markdown",
      "source": [
        "### Transformers"
      ],
      "metadata": {
        "id": "0CU0LSSAgXcj"
      }
    },
    {
      "cell_type": "code",
      "execution_count": 4,
      "metadata": {
        "id": "8iRSbNLeV57e",
        "outputId": "f1ce624a-04ed-4fad-ca04-6cd28c22eae3",
        "colab": {
          "base_uri": "https://localhost:8080/"
        }
      },
      "outputs": [
        {
          "output_type": "stream",
          "name": "stderr",
          "text": [
            "/usr/local/lib/python3.10/dist-packages/huggingface_hub/utils/_token.py:89: UserWarning: \n",
            "The secret `HF_TOKEN` does not exist in your Colab secrets.\n",
            "To authenticate with the Hugging Face Hub, create a token in your settings tab (https://huggingface.co/settings/tokens), set it as secret in your Google Colab and restart your session.\n",
            "You will be able to reuse this secret in all of your notebooks.\n",
            "Please note that authentication is recommended but still optional to access public models or datasets.\n",
            "  warnings.warn(\n",
            "/usr/local/lib/python3.10/dist-packages/transformers/tokenization_utils_base.py:1601: FutureWarning: `clean_up_tokenization_spaces` was not set. It will be set to `True` by default. This behavior will be depracted in transformers v4.45, and will be then set to `False` by default. For more details check this issue: https://github.com/huggingface/transformers/issues/31884\n",
            "  warnings.warn(\n"
          ]
        }
      ],
      "source": [
        "# Cargamos el tokenizador y el modelo.\n",
        "model_name: str = \"nlptown/bert-base-multilingual-uncased-sentiment\"\n",
        "tokenizer: BertTokenizer = BertTokenizer.from_pretrained(model_name)\n",
        "model: BertForSequenceClassification = BertForSequenceClassification.from_pretrained(model_name)\n",
        "\n",
        "\n",
        "# Creación de pipeline.\n",
        "nlp: pipeline = pipeline(\"sentiment-analysis\", model=model, tokenizer=tokenizer)"
      ]
    },
    {
      "cell_type": "code",
      "execution_count": 5,
      "metadata": {
        "id": "Eh0ab-v4V57f"
      },
      "outputs": [],
      "source": [
        "def get_sentiment(text: str) -> str:\n",
        "    \"\"\"\n",
        "    Retorna el sentimiento de un texto, mediante el uso de transformers.\n",
        "    \"\"\"\n",
        "    label: str = nlp(text)[0]['label']\n",
        "    score: float = nlp(text)[0]['score']\n",
        "\n",
        "    if label in ['5 stars', '4 stars']:\n",
        "        print(score)\n",
        "        return 'Alegre'\n",
        "    elif label == '3 stars':\n",
        "        print(score)\n",
        "        return 'Ni fu ni fa'\n",
        "    elif label in ['2 stars', '1 star']:\n",
        "        print(score)\n",
        "        return 'Melancólico'"
      ]
    },
    {
      "cell_type": "code",
      "execution_count": 6,
      "metadata": {
        "collapsed": true,
        "id": "sdl2HFD9V57f",
        "outputId": "1d578cb1-c993-477f-9d0e-2b295fd90492",
        "colab": {
          "base_uri": "https://localhost:8080/"
        }
      },
      "outputs": [
        {
          "output_type": "stream",
          "name": "stdout",
          "text": [
            "0.7204190492630005\n",
            "Estoy muy feliz -> Alegre\n",
            "0.5104050636291504\n",
            "Me siento entusiasmado -> Alegre\n",
            "0.4654117822647095\n",
            "Estoy tranquilo -> Alegre\n",
            "0.3073946535587311\n",
            "Me siento relajado -> Melancólico\n",
            "0.6528457999229431\n",
            "Estoy aburrido -> Melancólico\n",
            "0.32323989272117615\n",
            "Me siento nostálgico -> Alegre\n",
            "0.5161958932876587\n",
            "Estoy un poco triste -> Ni fu ni fa\n",
            "0.3490581214427948\n",
            "Me siento melancólico -> Melancólico\n",
            "0.6465574502944946\n",
            "Estoy frustrado -> Melancólico\n",
            "0.45507076382637024\n",
            "Me siento ansioso -> Alegre\n",
            "0.6622191667556763\n",
            "Estoy enojado -> Melancólico\n",
            "0.469738245010376\n",
            "Me siento decepcionado -> Melancólico\n",
            "0.6982787847518921\n",
            "Estoy muy emocionado -> Alegre\n",
            "0.38369399309158325\n",
            "Me siento inspirado -> Alegre\n",
            "0.6665818095207214\n",
            "Estoy cansado -> Melancólico\n",
            "0.40258100628852844\n",
            "Me siento agotado -> Melancólico\n",
            "0.35649794340133667\n",
            "Estoy preocupado -> Melancólico\n",
            "0.30568787455558777\n",
            "Me siento optimista -> Ni fu ni fa\n",
            "0.4021136164665222\n",
            "Estoy motivado -> Alegre\n",
            "0.45900627970695496\n",
            "Me siento agradecido -> Alegre\n",
            "0.5986759066581726\n",
            "Estoy desconcentrado -> Melancólico\n",
            "0.40013623237609863\n",
            "Me siento esperanzado -> Alegre\n",
            "0.721733808517456\n",
            "Estoy estresado -> Melancólico\n",
            "0.5222796201705933\n",
            "Me siento insatisfecho -> Melancólico\n",
            "0.49637967348098755\n",
            "Estoy satisfecho -> Alegre\n",
            "0.3431619703769684\n",
            "Me siento apático -> Melancólico\n",
            "0.47068098187446594\n",
            "Estoy en paz -> Alegre\n",
            "0.4387659430503845\n",
            "Me siento irritado -> Melancólico\n",
            "0.5843652486801147\n",
            "Estoy un poco nervioso -> Ni fu ni fa\n",
            "0.3784652352333069\n",
            "Me siento confiado -> Alegre\n",
            "0.3130936026573181\n",
            "Estoy renovado -> Alegre\n",
            "0.25980812311172485\n",
            "Me siento pleno -> Ni fu ni fa\n",
            "0.6606146693229675\n",
            "Estoy resignado -> Melancólico\n",
            "0.25144141912460327\n",
            "Me siento inquieto -> Alegre\n",
            "0.49626633524894714\n",
            "Estoy contento -> Alegre\n",
            "0.43724098801612854\n",
            "Me siento vulnerable -> Melancólico\n",
            "0.5553121566772461\n",
            "Estoy enamorado -> Alegre\n",
            "0.480991393327713\n",
            "Me siento frustrado -> Melancólico\n",
            "0.6224414110183716\n",
            "Estoy ilusionado -> Alegre\n",
            "0.3604552149772644\n",
            "Me siento reflexivo -> Ni fu ni fa\n",
            "0.5599895715713501\n",
            "Estoy agradecido -> Alegre\n",
            "0.449918270111084\n",
            "Me siento emocionalmente agotado -> Melancólico\n"
          ]
        }
      ],
      "source": [
        "test_list: list[str] = [\n",
        "    \"Estoy muy feliz\",\n",
        "    \"Me siento entusiasmado\",\n",
        "    \"Estoy tranquilo\",\n",
        "    \"Me siento relajado\",\n",
        "    \"Estoy aburrido\",\n",
        "    \"Me siento nostálgico\",\n",
        "    \"Estoy un poco triste\",\n",
        "    \"Me siento melancólico\",\n",
        "    \"Estoy frustrado\",\n",
        "    \"Me siento ansioso\",\n",
        "    \"Estoy enojado\",\n",
        "    \"Me siento decepcionado\",\n",
        "    \"Estoy muy emocionado\",\n",
        "    \"Me siento inspirado\",\n",
        "    \"Estoy cansado\",\n",
        "    \"Me siento agotado\",\n",
        "    \"Estoy preocupado\",\n",
        "    \"Me siento optimista\",\n",
        "    \"Estoy motivado\",\n",
        "    \"Me siento agradecido\",\n",
        "    \"Estoy desconcentrado\",\n",
        "    \"Me siento esperanzado\",\n",
        "    \"Estoy estresado\",\n",
        "    \"Me siento insatisfecho\",\n",
        "    \"Estoy satisfecho\",\n",
        "    \"Me siento apático\",\n",
        "    \"Estoy en paz\",\n",
        "    \"Me siento irritado\",\n",
        "    \"Estoy un poco nervioso\",\n",
        "    \"Me siento confiado\",\n",
        "    \"Estoy renovado\",\n",
        "    \"Me siento pleno\",\n",
        "    \"Estoy resignado\",\n",
        "    \"Me siento inquieto\",\n",
        "    \"Estoy contento\",\n",
        "    \"Me siento vulnerable\",\n",
        "    \"Estoy enamorado\",\n",
        "    \"Me siento frustrado\",\n",
        "    \"Estoy ilusionado\",\n",
        "    \"Me siento reflexivo\",\n",
        "    \"Estoy agradecido\",\n",
        "    \"Me siento emocionalmente agotado\"\n",
        "]\n",
        "\n",
        "for text in test_list:\n",
        "  print(f'{text} -> {get_sentiment(text)}')"
      ]
    },
    {
      "cell_type": "markdown",
      "source": [
        "### sentiment_analysis_spanish library\n",
        "\n",
        "A fin de realizar una comparación, utilizamos sentiment-analysis sobre la misma lista de test.\n",
        "\n",
        "El rendimiento obtenido es inferior, teniendo en cuenta que un resultado cercano a uno es un texto positivo, cercano a cero es negativo y en los valores medios es neutro. Por eso se optó por los transformers.\n",
        "\n",
        "Para obtener esta conclusión se visitó la [Documentación](https://pypi.org/project/sentiment-analysis-spanish/)."
      ],
      "metadata": {
        "id": "z_BQuQ9UgiRU"
      }
    },
    {
      "cell_type": "code",
      "execution_count": 7,
      "metadata": {
        "collapsed": true,
        "id": "sFUkNaZMV57g",
        "outputId": "bf4e6c09-4022-488b-9cc8-b1d09a66a4bb",
        "colab": {
          "base_uri": "https://localhost:8080/"
        }
      },
      "outputs": [
        {
          "output_type": "stream",
          "name": "stderr",
          "text": [
            "/usr/local/lib/python3.10/dist-packages/sklearn/base.py:376: InconsistentVersionWarning: Trying to unpickle estimator CountVectorizer from version 0.23.2 when using version 1.5.2. This might lead to breaking code or invalid results. Use at your own risk. For more info please refer to:\n",
            "https://scikit-learn.org/stable/model_persistence.html#security-maintainability-limitations\n",
            "  warnings.warn(\n",
            "/usr/local/lib/python3.10/dist-packages/sklearn/base.py:376: InconsistentVersionWarning: Trying to unpickle estimator MultinomialNB from version 0.23.2 when using version 1.5.2. This might lead to breaking code or invalid results. Use at your own risk. For more info please refer to:\n",
            "https://scikit-learn.org/stable/model_persistence.html#security-maintainability-limitations\n",
            "  warnings.warn(\n"
          ]
        }
      ],
      "source": [
        "sentiment = sentiment_analysis.SentimentAnalysisSpanish()"
      ]
    },
    {
      "cell_type": "markdown",
      "source": [],
      "metadata": {
        "id": "R5edCVQhgoxS"
      }
    },
    {
      "cell_type": "code",
      "source": [
        "for texto in test_list:\n",
        "  print(f'{texto} -> {sentiment.sentiment(texto)}')"
      ],
      "metadata": {
        "collapsed": true,
        "id": "zz6aD182fPfv",
        "outputId": "1bb10446-6c8a-4af7-acee-cbc32054f057",
        "colab": {
          "base_uri": "https://localhost:8080/"
        }
      },
      "execution_count": 8,
      "outputs": [
        {
          "output_type": "stream",
          "name": "stdout",
          "text": [
            "Estoy muy feliz -> 0.6889487711193526\n",
            "Me siento entusiasmado -> 0.0728752984896165\n",
            "Estoy tranquilo -> 0.7826378949098491\n",
            "Me siento relajado -> 0.23951579470116582\n",
            "Estoy aburrido -> 0.31062133515766494\n",
            "Me siento nostálgico -> 0.0728752984896165\n",
            "Estoy un poco triste -> 0.04078651378014973\n",
            "Me siento melancólico -> 0.0728752984896165\n",
            "Estoy frustrado -> 0.31062133515766494\n",
            "Me siento ansioso -> 0.0728752984896165\n",
            "Estoy enojado -> 0.31062133515766494\n",
            "Me siento decepcionado -> 0.005644903897282337\n",
            "Estoy muy emocionado -> 0.537734459784737\n",
            "Me siento inspirado -> 0.0728752984896165\n",
            "Estoy cansado -> 0.31062133515766494\n",
            "Me siento agotado -> 0.0728752984896165\n",
            "Estoy preocupado -> 0.31062133515766494\n",
            "Me siento optimista -> 0.0728752984896165\n",
            "Estoy motivado -> 0.31062133515766494\n",
            "Me siento agradecido -> 0.0728752984896165\n",
            "Estoy desconcentrado -> 0.31062133515766494\n",
            "Me siento esperanzado -> 0.0728752984896165\n",
            "Estoy estresado -> 0.31062133515766494\n",
            "Me siento insatisfecho -> 0.0728752984896165\n",
            "Estoy satisfecho -> 0.31062133515766494\n",
            "Me siento apático -> 0.0728752984896165\n",
            "Estoy en paz -> 0.30160317594964886\n",
            "Me siento irritado -> 0.0728752984896165\n",
            "Estoy un poco nervioso -> 0.40047998155699016\n",
            "Me siento confiado -> 0.0728752984896165\n",
            "Estoy renovado -> 0.592384185163465\n",
            "Me siento pleno -> 0.24540937211136493\n",
            "Estoy resignado -> 0.31062133515766494\n",
            "Me siento inquieto -> 0.0728752984896165\n",
            "Estoy contento -> 0.3890029009603382\n",
            "Me siento vulnerable -> 0.0728752984896165\n",
            "Estoy enamorado -> 0.31062133515766494\n",
            "Me siento frustrado -> 0.0728752984896165\n",
            "Estoy ilusionado -> 0.31062133515766494\n",
            "Me siento reflexivo -> 0.0728752984896165\n",
            "Estoy agradecido -> 0.31062133515766494\n",
            "Me siento emocionalmente agotado -> 0.0728752984896165\n"
          ]
        }
      ]
    },
    {
      "cell_type": "markdown",
      "source": [
        "### NER\n",
        "\n",
        "Se emplea para la identificación de entidades que facilitarán la búsqueda en los datos, entendiendo y analizando tanto sus preferencias como el contexto."
      ],
      "metadata": {
        "id": "CUQpWw0bh96O"
      }
    },
    {
      "cell_type": "code",
      "source": [
        "ner = spacy.load('es_core_news_lg')"
      ],
      "metadata": {
        "id": "CMAhZMkHiUPp"
      },
      "execution_count": 9,
      "outputs": []
    },
    {
      "cell_type": "code",
      "source": [
        "for texto in test_list:\n",
        "  doc = ner(texto)\n",
        "  for ent in doc.ents:\n",
        "    print(f'Entidad: {ent.text}, Etiqueta: {ent.label_}, Explicación: {spacy.explain(ent.label_)}')"
      ],
      "metadata": {
        "id": "vcxT_E8quanl",
        "outputId": "05cc76e6-57b5-4ffa-9463-2e53ebfc3be0",
        "colab": {
          "base_uri": "https://localhost:8080/"
        }
      },
      "execution_count": 12,
      "outputs": [
        {
          "output_type": "stream",
          "name": "stdout",
          "text": [
            "Entidad: Estoy muy feliz, Etiqueta: MISC, Explicación: Miscellaneous entities, e.g. events, nationalities, products or works of art\n",
            "Entidad: Estoy enojado, Etiqueta: MISC, Explicación: Miscellaneous entities, e.g. events, nationalities, products or works of art\n",
            "Entidad: Estoy cansado, Etiqueta: MISC, Explicación: Miscellaneous entities, e.g. events, nationalities, products or works of art\n",
            "Entidad: Estoy estresado, Etiqueta: MISC, Explicación: Miscellaneous entities, e.g. events, nationalities, products or works of art\n",
            "Entidad: Estoy en paz, Etiqueta: MISC, Explicación: Miscellaneous entities, e.g. events, nationalities, products or works of art\n",
            "Entidad: Estoy enamorado, Etiqueta: MISC, Explicación: Miscellaneous entities, e.g. events, nationalities, products or works of art\n"
          ]
        }
      ]
    },
    {
      "cell_type": "code",
      "source": [
        "!pip install gliner\n",
        "from gliner import GLiNER\n",
        "\n",
        "gliner_model = GLiNER.from_pretrained(\"urchade/gliner_multi-v2.1\")"
      ],
      "metadata": {
        "id": "-QBKoA89wC0W",
        "outputId": "0925e338-818d-400f-99e6-c6a1ffb36505",
        "colab": {
          "base_uri": "https://localhost:8080/",
          "height": 659,
          "referenced_widgets": [
            "0e40e1ed9d1242f5837cf84ccee840b4",
            "5be4947888aa4aa2b8d8d70c381b7288",
            "3d3c0ef7a48d4f8aa50b4c50b64014b9",
            "2e9ff06978c345a4943bf408fe24de70",
            "a1f5718e27c847128e6094b1d94caeec",
            "224f8549e9da45d9839e824b523ddb9d",
            "94e4e0905c7c443eb1392f6381846e0c",
            "5d810b88b2534adabfff30e1a09ed9f2",
            "21f5fe6bc45048ddbd1581612ef33f9f",
            "fec386cb49a84888aba3f34c96a1c0e7",
            "85409a4857964a3d98dfb4e856109209"
          ]
        }
      },
      "execution_count": 21,
      "outputs": [
        {
          "output_type": "stream",
          "name": "stdout",
          "text": [
            "Requirement already satisfied: gliner in /usr/local/lib/python3.10/dist-packages (0.2.13)\n",
            "Requirement already satisfied: torch>=2.0.0 in /usr/local/lib/python3.10/dist-packages (from gliner) (2.5.0+cu121)\n",
            "Requirement already satisfied: transformers>=4.38.2 in /usr/local/lib/python3.10/dist-packages (from gliner) (4.44.2)\n",
            "Requirement already satisfied: huggingface-hub>=0.21.4 in /usr/local/lib/python3.10/dist-packages (from gliner) (0.24.7)\n",
            "Requirement already satisfied: tqdm in /usr/local/lib/python3.10/dist-packages (from gliner) (4.66.6)\n",
            "Requirement already satisfied: onnxruntime in /usr/local/lib/python3.10/dist-packages (from gliner) (1.20.0)\n",
            "Requirement already satisfied: sentencepiece in /usr/local/lib/python3.10/dist-packages (from gliner) (0.2.0)\n",
            "Requirement already satisfied: filelock in /usr/local/lib/python3.10/dist-packages (from huggingface-hub>=0.21.4->gliner) (3.16.1)\n",
            "Requirement already satisfied: fsspec>=2023.5.0 in /usr/local/lib/python3.10/dist-packages (from huggingface-hub>=0.21.4->gliner) (2024.10.0)\n",
            "Requirement already satisfied: packaging>=20.9 in /usr/local/lib/python3.10/dist-packages (from huggingface-hub>=0.21.4->gliner) (24.1)\n",
            "Requirement already satisfied: pyyaml>=5.1 in /usr/local/lib/python3.10/dist-packages (from huggingface-hub>=0.21.4->gliner) (6.0.2)\n",
            "Requirement already satisfied: requests in /usr/local/lib/python3.10/dist-packages (from huggingface-hub>=0.21.4->gliner) (2.32.3)\n",
            "Requirement already satisfied: typing-extensions>=3.7.4.3 in /usr/local/lib/python3.10/dist-packages (from huggingface-hub>=0.21.4->gliner) (4.12.2)\n",
            "Requirement already satisfied: networkx in /usr/local/lib/python3.10/dist-packages (from torch>=2.0.0->gliner) (3.4.2)\n",
            "Requirement already satisfied: jinja2 in /usr/local/lib/python3.10/dist-packages (from torch>=2.0.0->gliner) (3.1.4)\n",
            "Requirement already satisfied: sympy==1.13.1 in /usr/local/lib/python3.10/dist-packages (from torch>=2.0.0->gliner) (1.13.1)\n",
            "Requirement already satisfied: mpmath<1.4,>=1.1.0 in /usr/local/lib/python3.10/dist-packages (from sympy==1.13.1->torch>=2.0.0->gliner) (1.3.0)\n",
            "Requirement already satisfied: numpy>=1.17 in /usr/local/lib/python3.10/dist-packages (from transformers>=4.38.2->gliner) (1.26.4)\n",
            "Requirement already satisfied: regex!=2019.12.17 in /usr/local/lib/python3.10/dist-packages (from transformers>=4.38.2->gliner) (2024.9.11)\n",
            "Requirement already satisfied: safetensors>=0.4.1 in /usr/local/lib/python3.10/dist-packages (from transformers>=4.38.2->gliner) (0.4.5)\n",
            "Requirement already satisfied: tokenizers<0.20,>=0.19 in /usr/local/lib/python3.10/dist-packages (from transformers>=4.38.2->gliner) (0.19.1)\n",
            "Requirement already satisfied: coloredlogs in /usr/local/lib/python3.10/dist-packages (from onnxruntime->gliner) (15.0.1)\n",
            "Requirement already satisfied: flatbuffers in /usr/local/lib/python3.10/dist-packages (from onnxruntime->gliner) (24.3.25)\n",
            "Requirement already satisfied: protobuf in /usr/local/lib/python3.10/dist-packages (from onnxruntime->gliner) (3.20.3)\n",
            "Requirement already satisfied: humanfriendly>=9.1 in /usr/local/lib/python3.10/dist-packages (from coloredlogs->onnxruntime->gliner) (10.0)\n",
            "Requirement already satisfied: MarkupSafe>=2.0 in /usr/local/lib/python3.10/dist-packages (from jinja2->torch>=2.0.0->gliner) (3.0.2)\n",
            "Requirement already satisfied: charset-normalizer<4,>=2 in /usr/local/lib/python3.10/dist-packages (from requests->huggingface-hub>=0.21.4->gliner) (3.4.0)\n",
            "Requirement already satisfied: idna<4,>=2.5 in /usr/local/lib/python3.10/dist-packages (from requests->huggingface-hub>=0.21.4->gliner) (3.10)\n",
            "Requirement already satisfied: urllib3<3,>=1.21.1 in /usr/local/lib/python3.10/dist-packages (from requests->huggingface-hub>=0.21.4->gliner) (2.2.3)\n",
            "Requirement already satisfied: certifi>=2017.4.17 in /usr/local/lib/python3.10/dist-packages (from requests->huggingface-hub>=0.21.4->gliner) (2024.8.30)\n"
          ]
        },
        {
          "output_type": "display_data",
          "data": {
            "text/plain": [
              "Fetching 4 files:   0%|          | 0/4 [00:00<?, ?it/s]"
            ],
            "application/vnd.jupyter.widget-view+json": {
              "version_major": 2,
              "version_minor": 0,
              "model_id": "0e40e1ed9d1242f5837cf84ccee840b4"
            }
          },
          "metadata": {}
        },
        {
          "output_type": "stream",
          "name": "stderr",
          "text": [
            "/usr/local/lib/python3.10/dist-packages/transformers/tokenization_utils_base.py:1601: FutureWarning: `clean_up_tokenization_spaces` was not set. It will be set to `True` by default. This behavior will be depracted in transformers v4.45, and will be then set to `False` by default. For more details check this issue: https://github.com/huggingface/transformers/issues/31884\n",
            "  warnings.warn(\n",
            "/usr/local/lib/python3.10/dist-packages/transformers/convert_slow_tokenizer.py:551: UserWarning: The sentencepiece tokenizer that you are converting to a fast tokenizer uses the byte fallback option which is not implemented in the fast tokenizers. In practice this means that the fast version of the tokenizer can produce unknown tokens whereas the sentencepiece version would have converted these unknown tokens into a sequence of byte tokens matching the original piece of text.\n",
            "  warnings.warn(\n"
          ]
        }
      ]
    },
    {
      "cell_type": "code",
      "source": [
        "gliner_model.eval()\n",
        "\n",
        "labels: list[str] = [\"person\", \"book\", \"location\", \"date\", \"actor\", \"character\",\"game\"]\n",
        "\n",
        "\n",
        "for text in test_list:\n",
        "  entities = gliner_model.predict_entities(text, labels, threshold=0.4)\n",
        "  for entity in entities:\n",
        "    print(entity, \"=>\", entity[\"label\"])"
      ],
      "metadata": {
        "id": "X_9tBRu1wmEh",
        "outputId": "df42444f-e04d-4b78-e47a-f447786a966a",
        "colab": {
          "base_uri": "https://localhost:8080/"
        }
      },
      "execution_count": 24,
      "outputs": [
        {
          "output_type": "stream",
          "name": "stderr",
          "text": [
            "Asking to truncate to max_length but no maximum length is provided and the model has no predefined maximum length. Default to no truncation.\n"
          ]
        }
      ]
    },
    {
      "cell_type": "markdown",
      "source": [
        "### POS"
      ],
      "metadata": {
        "id": "ZlProbuox1wK"
      }
    },
    {
      "cell_type": "code",
      "source": [
        "pos = spacy.load('es_core_news_lg')\n",
        "\n",
        "data = []\n",
        "# Procesar el texto con el modelo de spaCy\n",
        "for text in test_list:\n",
        "  doc = pos(texto)\n",
        "  for token in doc:\n",
        "      data.append([token.text, token.pos_, spacy.explain(token.pos_)])\n",
        "\n",
        "\n",
        "df = pd.DataFrame(data, columns=['Palabra', 'Etiqueta POS', 'Explicación'])\n",
        "\n",
        "print(df)"
      ],
      "metadata": {
        "id": "CbIw5PxFx24D",
        "outputId": "cebc22bf-7255-4eb4-8c47-fd8ce8471129",
        "colab": {
          "base_uri": "https://localhost:8080/"
        }
      },
      "execution_count": 29,
      "outputs": [
        {
          "output_type": "stream",
          "name": "stdout",
          "text": [
            "     Palabra Etiqueta POS               Explicación\n",
            "0       Juan        PROPN               proper noun\n",
            "1          y        CCONJ  coordinating conjunction\n",
            "2      Pedro        PROPN               proper noun\n",
            "3     fueron          AUX                 auxiliary\n",
            "4         al          ADP                adposition\n",
            "..       ...          ...                       ...\n",
            "793    perro        PROPN               proper noun\n",
            "794  buscaba         VERB                      verb\n",
            "795       un          DET                determiner\n",
            "796    hueso         NOUN                      noun\n",
            "797        .        PUNCT               punctuation\n",
            "\n",
            "[798 rows x 3 columns]\n"
          ]
        }
      ]
    }
  ],
  "metadata": {
    "kernelspec": {
      "display_name": ".venv_nlp",
      "language": "python",
      "name": "python3"
    },
    "language_info": {
      "name": "python",
      "version": "3.12.7"
    },
    "colab": {
      "provenance": []
    },
    "widgets": {
      "application/vnd.jupyter.widget-state+json": {
        "0e40e1ed9d1242f5837cf84ccee840b4": {
          "model_module": "@jupyter-widgets/controls",
          "model_name": "HBoxModel",
          "model_module_version": "1.5.0",
          "state": {
            "_dom_classes": [],
            "_model_module": "@jupyter-widgets/controls",
            "_model_module_version": "1.5.0",
            "_model_name": "HBoxModel",
            "_view_count": null,
            "_view_module": "@jupyter-widgets/controls",
            "_view_module_version": "1.5.0",
            "_view_name": "HBoxView",
            "box_style": "",
            "children": [
              "IPY_MODEL_5be4947888aa4aa2b8d8d70c381b7288",
              "IPY_MODEL_3d3c0ef7a48d4f8aa50b4c50b64014b9",
              "IPY_MODEL_2e9ff06978c345a4943bf408fe24de70"
            ],
            "layout": "IPY_MODEL_a1f5718e27c847128e6094b1d94caeec"
          }
        },
        "5be4947888aa4aa2b8d8d70c381b7288": {
          "model_module": "@jupyter-widgets/controls",
          "model_name": "HTMLModel",
          "model_module_version": "1.5.0",
          "state": {
            "_dom_classes": [],
            "_model_module": "@jupyter-widgets/controls",
            "_model_module_version": "1.5.0",
            "_model_name": "HTMLModel",
            "_view_count": null,
            "_view_module": "@jupyter-widgets/controls",
            "_view_module_version": "1.5.0",
            "_view_name": "HTMLView",
            "description": "",
            "description_tooltip": null,
            "layout": "IPY_MODEL_224f8549e9da45d9839e824b523ddb9d",
            "placeholder": "​",
            "style": "IPY_MODEL_94e4e0905c7c443eb1392f6381846e0c",
            "value": "Fetching 4 files: 100%"
          }
        },
        "3d3c0ef7a48d4f8aa50b4c50b64014b9": {
          "model_module": "@jupyter-widgets/controls",
          "model_name": "FloatProgressModel",
          "model_module_version": "1.5.0",
          "state": {
            "_dom_classes": [],
            "_model_module": "@jupyter-widgets/controls",
            "_model_module_version": "1.5.0",
            "_model_name": "FloatProgressModel",
            "_view_count": null,
            "_view_module": "@jupyter-widgets/controls",
            "_view_module_version": "1.5.0",
            "_view_name": "ProgressView",
            "bar_style": "success",
            "description": "",
            "description_tooltip": null,
            "layout": "IPY_MODEL_5d810b88b2534adabfff30e1a09ed9f2",
            "max": 4,
            "min": 0,
            "orientation": "horizontal",
            "style": "IPY_MODEL_21f5fe6bc45048ddbd1581612ef33f9f",
            "value": 4
          }
        },
        "2e9ff06978c345a4943bf408fe24de70": {
          "model_module": "@jupyter-widgets/controls",
          "model_name": "HTMLModel",
          "model_module_version": "1.5.0",
          "state": {
            "_dom_classes": [],
            "_model_module": "@jupyter-widgets/controls",
            "_model_module_version": "1.5.0",
            "_model_name": "HTMLModel",
            "_view_count": null,
            "_view_module": "@jupyter-widgets/controls",
            "_view_module_version": "1.5.0",
            "_view_name": "HTMLView",
            "description": "",
            "description_tooltip": null,
            "layout": "IPY_MODEL_fec386cb49a84888aba3f34c96a1c0e7",
            "placeholder": "​",
            "style": "IPY_MODEL_85409a4857964a3d98dfb4e856109209",
            "value": " 4/4 [00:00&lt;00:00, 226.94it/s]"
          }
        },
        "a1f5718e27c847128e6094b1d94caeec": {
          "model_module": "@jupyter-widgets/base",
          "model_name": "LayoutModel",
          "model_module_version": "1.2.0",
          "state": {
            "_model_module": "@jupyter-widgets/base",
            "_model_module_version": "1.2.0",
            "_model_name": "LayoutModel",
            "_view_count": null,
            "_view_module": "@jupyter-widgets/base",
            "_view_module_version": "1.2.0",
            "_view_name": "LayoutView",
            "align_content": null,
            "align_items": null,
            "align_self": null,
            "border": null,
            "bottom": null,
            "display": null,
            "flex": null,
            "flex_flow": null,
            "grid_area": null,
            "grid_auto_columns": null,
            "grid_auto_flow": null,
            "grid_auto_rows": null,
            "grid_column": null,
            "grid_gap": null,
            "grid_row": null,
            "grid_template_areas": null,
            "grid_template_columns": null,
            "grid_template_rows": null,
            "height": null,
            "justify_content": null,
            "justify_items": null,
            "left": null,
            "margin": null,
            "max_height": null,
            "max_width": null,
            "min_height": null,
            "min_width": null,
            "object_fit": null,
            "object_position": null,
            "order": null,
            "overflow": null,
            "overflow_x": null,
            "overflow_y": null,
            "padding": null,
            "right": null,
            "top": null,
            "visibility": null,
            "width": null
          }
        },
        "224f8549e9da45d9839e824b523ddb9d": {
          "model_module": "@jupyter-widgets/base",
          "model_name": "LayoutModel",
          "model_module_version": "1.2.0",
          "state": {
            "_model_module": "@jupyter-widgets/base",
            "_model_module_version": "1.2.0",
            "_model_name": "LayoutModel",
            "_view_count": null,
            "_view_module": "@jupyter-widgets/base",
            "_view_module_version": "1.2.0",
            "_view_name": "LayoutView",
            "align_content": null,
            "align_items": null,
            "align_self": null,
            "border": null,
            "bottom": null,
            "display": null,
            "flex": null,
            "flex_flow": null,
            "grid_area": null,
            "grid_auto_columns": null,
            "grid_auto_flow": null,
            "grid_auto_rows": null,
            "grid_column": null,
            "grid_gap": null,
            "grid_row": null,
            "grid_template_areas": null,
            "grid_template_columns": null,
            "grid_template_rows": null,
            "height": null,
            "justify_content": null,
            "justify_items": null,
            "left": null,
            "margin": null,
            "max_height": null,
            "max_width": null,
            "min_height": null,
            "min_width": null,
            "object_fit": null,
            "object_position": null,
            "order": null,
            "overflow": null,
            "overflow_x": null,
            "overflow_y": null,
            "padding": null,
            "right": null,
            "top": null,
            "visibility": null,
            "width": null
          }
        },
        "94e4e0905c7c443eb1392f6381846e0c": {
          "model_module": "@jupyter-widgets/controls",
          "model_name": "DescriptionStyleModel",
          "model_module_version": "1.5.0",
          "state": {
            "_model_module": "@jupyter-widgets/controls",
            "_model_module_version": "1.5.0",
            "_model_name": "DescriptionStyleModel",
            "_view_count": null,
            "_view_module": "@jupyter-widgets/base",
            "_view_module_version": "1.2.0",
            "_view_name": "StyleView",
            "description_width": ""
          }
        },
        "5d810b88b2534adabfff30e1a09ed9f2": {
          "model_module": "@jupyter-widgets/base",
          "model_name": "LayoutModel",
          "model_module_version": "1.2.0",
          "state": {
            "_model_module": "@jupyter-widgets/base",
            "_model_module_version": "1.2.0",
            "_model_name": "LayoutModel",
            "_view_count": null,
            "_view_module": "@jupyter-widgets/base",
            "_view_module_version": "1.2.0",
            "_view_name": "LayoutView",
            "align_content": null,
            "align_items": null,
            "align_self": null,
            "border": null,
            "bottom": null,
            "display": null,
            "flex": null,
            "flex_flow": null,
            "grid_area": null,
            "grid_auto_columns": null,
            "grid_auto_flow": null,
            "grid_auto_rows": null,
            "grid_column": null,
            "grid_gap": null,
            "grid_row": null,
            "grid_template_areas": null,
            "grid_template_columns": null,
            "grid_template_rows": null,
            "height": null,
            "justify_content": null,
            "justify_items": null,
            "left": null,
            "margin": null,
            "max_height": null,
            "max_width": null,
            "min_height": null,
            "min_width": null,
            "object_fit": null,
            "object_position": null,
            "order": null,
            "overflow": null,
            "overflow_x": null,
            "overflow_y": null,
            "padding": null,
            "right": null,
            "top": null,
            "visibility": null,
            "width": null
          }
        },
        "21f5fe6bc45048ddbd1581612ef33f9f": {
          "model_module": "@jupyter-widgets/controls",
          "model_name": "ProgressStyleModel",
          "model_module_version": "1.5.0",
          "state": {
            "_model_module": "@jupyter-widgets/controls",
            "_model_module_version": "1.5.0",
            "_model_name": "ProgressStyleModel",
            "_view_count": null,
            "_view_module": "@jupyter-widgets/base",
            "_view_module_version": "1.2.0",
            "_view_name": "StyleView",
            "bar_color": null,
            "description_width": ""
          }
        },
        "fec386cb49a84888aba3f34c96a1c0e7": {
          "model_module": "@jupyter-widgets/base",
          "model_name": "LayoutModel",
          "model_module_version": "1.2.0",
          "state": {
            "_model_module": "@jupyter-widgets/base",
            "_model_module_version": "1.2.0",
            "_model_name": "LayoutModel",
            "_view_count": null,
            "_view_module": "@jupyter-widgets/base",
            "_view_module_version": "1.2.0",
            "_view_name": "LayoutView",
            "align_content": null,
            "align_items": null,
            "align_self": null,
            "border": null,
            "bottom": null,
            "display": null,
            "flex": null,
            "flex_flow": null,
            "grid_area": null,
            "grid_auto_columns": null,
            "grid_auto_flow": null,
            "grid_auto_rows": null,
            "grid_column": null,
            "grid_gap": null,
            "grid_row": null,
            "grid_template_areas": null,
            "grid_template_columns": null,
            "grid_template_rows": null,
            "height": null,
            "justify_content": null,
            "justify_items": null,
            "left": null,
            "margin": null,
            "max_height": null,
            "max_width": null,
            "min_height": null,
            "min_width": null,
            "object_fit": null,
            "object_position": null,
            "order": null,
            "overflow": null,
            "overflow_x": null,
            "overflow_y": null,
            "padding": null,
            "right": null,
            "top": null,
            "visibility": null,
            "width": null
          }
        },
        "85409a4857964a3d98dfb4e856109209": {
          "model_module": "@jupyter-widgets/controls",
          "model_name": "DescriptionStyleModel",
          "model_module_version": "1.5.0",
          "state": {
            "_model_module": "@jupyter-widgets/controls",
            "_model_module_version": "1.5.0",
            "_model_name": "DescriptionStyleModel",
            "_view_count": null,
            "_view_module": "@jupyter-widgets/base",
            "_view_module_version": "1.2.0",
            "_view_name": "StyleView",
            "description_width": ""
          }
        }
      }
    }
  },
  "nbformat": 4,
  "nbformat_minor": 0
}