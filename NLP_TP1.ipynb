{
  "nbformat": 4,
  "nbformat_minor": 0,
  "metadata": {
    "colab": {
      "provenance": []
    },
    "kernelspec": {
      "name": "python3",
      "display_name": "Python 3"
    },
    "language_info": {
      "name": "python"
    }
  },
  "cells": [
    {
      "cell_type": "markdown",
      "source": [
        "**Facultad de Ciencias Exactas, Ingeniería y Agrimensura - UNR**\n",
        "\n",
        "Tecnicatura Universitaria en Inteligencia Artificial\n",
        "\n",
        "# Procesamiento del Lenguaje Natural - Trabajo Práctico N°:1.\n",
        "\n",
        "Integrantes:\n",
        "- Pace, Bruno. Legajo: P-5295/7.\n",
        "- Sancho Almenar, Mariano. Legajo:\n",
        "\n"
      ],
      "metadata": {
        "id": "cDRrEL3ncLd0"
      }
    },
    {
      "cell_type": "code",
      "execution_count": 54,
      "metadata": {
        "id": "Yrk9pe9fbtar"
      },
      "outputs": [],
      "source": [
        "import requests\n",
        "from bs4 import BeautifulSoup\n",
        "import pandas as pd\n",
        "from io import StringIO"
      ]
    },
    {
      "cell_type": "markdown",
      "source": [
        "## Lectura de DF"
      ],
      "metadata": {
        "id": "xyYNZsyOsCW9"
      }
    },
    {
      "cell_type": "markdown",
      "source": [
        "Descargamos los dataset desde el link, para no lidiar con inconvenientes al abrir y cerrar sesiones de colab."
      ],
      "metadata": {
        "id": "UhVY0N61thoT"
      }
    },
    {
      "cell_type": "code",
      "source": [
        "!wget -O bgg_database.csv 'https://drive.google.com/uc?id=1yIWOgUV5WyskQvmq48QvF2Lzr0LxpAdq'\n",
        "!wget -O IMDB-Movie-Data.csv 'https://drive.google.com/uc?id=1YCu3xhZq4C5dYyekiluMabwyWBqQyd2c'"
      ],
      "metadata": {
        "colab": {
          "base_uri": "https://localhost:8080/"
        },
        "collapsed": true,
        "id": "kgAi8hhXsII3",
        "outputId": "48e53f87-fb99-4123-a150-97d9e2f6a440"
      },
      "execution_count": 154,
      "outputs": [
        {
          "output_type": "stream",
          "name": "stdout",
          "text": [
            "--2024-10-29 14:36:38--  https://drive.google.com/uc?id=1yIWOgUV5WyskQvmq48QvF2Lzr0LxpAdq\n",
            "Resolving drive.google.com (drive.google.com)... 172.253.117.113, 172.253.117.100, 172.253.117.102, ...\n",
            "Connecting to drive.google.com (drive.google.com)|172.253.117.113|:443... connected.\n",
            "HTTP request sent, awaiting response... 303 See Other\n",
            "Location: https://drive.usercontent.google.com/download?id=1yIWOgUV5WyskQvmq48QvF2Lzr0LxpAdq [following]\n",
            "--2024-10-29 14:36:38--  https://drive.usercontent.google.com/download?id=1yIWOgUV5WyskQvmq48QvF2Lzr0LxpAdq\n",
            "Resolving drive.usercontent.google.com (drive.usercontent.google.com)... 173.194.202.132, 2607:f8b0:400e:c00::84\n",
            "Connecting to drive.usercontent.google.com (drive.usercontent.google.com)|173.194.202.132|:443... connected.\n",
            "HTTP request sent, awaiting response... 200 OK\n",
            "Length: 1833113 (1.7M) [application/octet-stream]\n",
            "Saving to: ‘bgg_database.csv’\n",
            "\n",
            "bgg_database.csv    100%[===================>]   1.75M  --.-KB/s    in 0.01s   \n",
            "\n",
            "2024-10-29 14:36:41 (156 MB/s) - ‘bgg_database.csv’ saved [1833113/1833113]\n",
            "\n",
            "--2024-10-29 14:36:41--  https://drive.google.com/uc?id=1YCu3xhZq4C5dYyekiluMabwyWBqQyd2c\n",
            "Resolving drive.google.com (drive.google.com)... 172.253.117.113, 172.253.117.100, 172.253.117.102, ...\n",
            "Connecting to drive.google.com (drive.google.com)|172.253.117.113|:443... connected.\n",
            "HTTP request sent, awaiting response... 303 See Other\n",
            "Location: https://drive.usercontent.google.com/download?id=1YCu3xhZq4C5dYyekiluMabwyWBqQyd2c [following]\n",
            "--2024-10-29 14:36:41--  https://drive.usercontent.google.com/download?id=1YCu3xhZq4C5dYyekiluMabwyWBqQyd2c\n",
            "Resolving drive.usercontent.google.com (drive.usercontent.google.com)... 173.194.202.132, 2607:f8b0:400e:c00::84\n",
            "Connecting to drive.usercontent.google.com (drive.usercontent.google.com)|173.194.202.132|:443... connected.\n",
            "HTTP request sent, awaiting response... 200 OK\n",
            "Length: 309028 (302K) [application/octet-stream]\n",
            "Saving to: ‘IMDB-Movie-Data.csv’\n",
            "\n",
            "IMDB-Movie-Data.csv 100%[===================>] 301.79K  --.-KB/s    in 0.003s  \n",
            "\n",
            "2024-10-29 14:36:44 (90.2 MB/s) - ‘IMDB-Movie-Data.csv’ saved [309028/309028]\n",
            "\n"
          ]
        }
      ]
    },
    {
      "cell_type": "code",
      "source": [
        "df_juegos: pd.DataFrame = pd.read_csv('bgg_database.csv')\n",
        "df_peliculas: pd.DataFrame = pd.read_csv('IMDB-Movie-Data.csv')"
      ],
      "metadata": {
        "id": "fg81qDOrsk2Q"
      },
      "execution_count": 155,
      "outputs": []
    },
    {
      "cell_type": "markdown",
      "source": [
        "### Web Scrapping"
      ],
      "metadata": {
        "id": "Nk2tnZ4XsFWa"
      }
    },
    {
      "cell_type": "code",
      "source": [
        "url: str = 'https://www.gutenberg.org/browse/scores/top1000.php#books-last1'"
      ],
      "metadata": {
        "id": "GX8NQZgzdDa9"
      },
      "execution_count": 3,
      "outputs": []
    },
    {
      "cell_type": "code",
      "source": [
        "response: requests.models = requests.get(url)\n",
        "\n",
        "#extraigo el contenido de la página web\n",
        "soup: BeautifulSoup = BeautifulSoup(response.text, 'html.parser')\n",
        "\n",
        "#luego de la inspección, vemos que necesitamos la información de page_content\n",
        "libro_div = soup.find('div', class_='page_content')\n",
        "\n",
        "#divido para quedarme con los títulos\n",
        "paragraphs = libro_div.find_all('a')"
      ],
      "metadata": {
        "collapsed": true,
        "id": "gr1xsQwSdHzd"
      },
      "execution_count": 158,
      "outputs": []
    },
    {
      "cell_type": "code",
      "source": [
        "#creo lista para poder crear el df\n",
        "libro: list = [par.text for par in paragraphs]\n",
        "libro = libro[1::] #mediante slicing salteo la primera linea con información que no nos interesa."
      ],
      "metadata": {
        "id": "vNUlA3Izl9XY"
      },
      "execution_count": 173,
      "outputs": []
    },
    {
      "cell_type": "code",
      "source": [
        "df_libros: pd.DataFrame = pd.DataFrame(libro, columns=['Libro'])"
      ],
      "metadata": {
        "collapsed": true,
        "id": "JT7BsurZjaE1"
      },
      "execution_count": 174,
      "outputs": []
    },
    {
      "cell_type": "code",
      "source": [
        "def limpieza_top(libro: str) -> bool:\n",
        "  \"\"\"\n",
        "  Chequea si en string existe el substring 'Top 1000'. Retorna un booleano\n",
        "  \"\"\"\n",
        "  if 'Top 1000' in libro:\n",
        "    return True\n",
        "  else:\n",
        "    return False"
      ],
      "metadata": {
        "id": "RNVGon5unlWk"
      },
      "execution_count": 175,
      "outputs": []
    },
    {
      "cell_type": "code",
      "source": [
        "df_libros['es_ruido'] = df_libros['Libro'].apply(limpieza_top)"
      ],
      "metadata": {
        "id": "aHVFrOx-nPJY"
      },
      "execution_count": 176,
      "outputs": []
    },
    {
      "cell_type": "code",
      "source": [
        "df_libros.drop(df_libros[df_libros['es_ruido'] == True].index, inplace=True)"
      ],
      "metadata": {
        "id": "wn_I_juFoGhY"
      },
      "execution_count": 177,
      "outputs": []
    },
    {
      "cell_type": "code",
      "source": [
        "df_libros = df_libros.drop('es_ruido', axis=1)"
      ],
      "metadata": {
        "id": "5mVRD29to-io"
      },
      "execution_count": 178,
      "outputs": []
    },
    {
      "cell_type": "code",
      "source": [
        "df_libros.reset_index(drop=True, inplace=True)"
      ],
      "metadata": {
        "id": "MvXbrbgkpK0R"
      },
      "execution_count": 179,
      "outputs": []
    },
    {
      "cell_type": "code",
      "source": [
        "df_libros = df_libros.drop_duplicates()"
      ],
      "metadata": {
        "id": "3PRNKEgVpNSW"
      },
      "execution_count": 180,
      "outputs": []
    },
    {
      "cell_type": "code",
      "source": [
        "df_libros.info()"
      ],
      "metadata": {
        "colab": {
          "base_uri": "https://localhost:8080/"
        },
        "id": "SPZz1P-Opu_D",
        "outputId": "f02d8e27-01e9-4859-bc12-a0af0007dc05"
      },
      "execution_count": 181,
      "outputs": [
        {
          "output_type": "stream",
          "name": "stdout",
          "text": [
            "<class 'pandas.core.frame.DataFrame'>\n",
            "Index: 5988 entries, 0 to 5999\n",
            "Data columns (total 1 columns):\n",
            " #   Column  Non-Null Count  Dtype \n",
            "---  ------  --------------  ----- \n",
            " 0   Libro   5988 non-null   object\n",
            "dtypes: object(1)\n",
            "memory usage: 93.6+ KB\n"
          ]
        }
      ]
    },
    {
      "cell_type": "code",
      "source": [
        "df_libros.head()"
      ],
      "metadata": {
        "colab": {
          "base_uri": "https://localhost:8080/",
          "height": 206
        },
        "id": "1sI7ti87v9yl",
        "outputId": "9b9ffb2f-c86b-40f8-fa8d-3e7ab9c5750f"
      },
      "execution_count": 182,
      "outputs": [
        {
          "output_type": "execute_result",
          "data": {
            "text/plain": [
              "                                               Libro\n",
              "0  Frankenstein; Or, The Modern Prometheus by Mar...\n",
              "1          Pride and Prejudice by Jane Austen (2920)\n",
              "2   The Scarlet Letter by Nathaniel Hawthorne (2562)\n",
              "3  Moby Dick; Or, The Whale by Herman Melville (2...\n",
              "4     Romeo and Juliet by William Shakespeare (2426)"
            ],
            "text/html": [
              "\n",
              "  <div id=\"df-5e14a240-c57c-408a-a6c7-bee37a0c9e69\" class=\"colab-df-container\">\n",
              "    <div>\n",
              "<style scoped>\n",
              "    .dataframe tbody tr th:only-of-type {\n",
              "        vertical-align: middle;\n",
              "    }\n",
              "\n",
              "    .dataframe tbody tr th {\n",
              "        vertical-align: top;\n",
              "    }\n",
              "\n",
              "    .dataframe thead th {\n",
              "        text-align: right;\n",
              "    }\n",
              "</style>\n",
              "<table border=\"1\" class=\"dataframe\">\n",
              "  <thead>\n",
              "    <tr style=\"text-align: right;\">\n",
              "      <th></th>\n",
              "      <th>Libro</th>\n",
              "    </tr>\n",
              "  </thead>\n",
              "  <tbody>\n",
              "    <tr>\n",
              "      <th>0</th>\n",
              "      <td>Frankenstein; Or, The Modern Prometheus by Mar...</td>\n",
              "    </tr>\n",
              "    <tr>\n",
              "      <th>1</th>\n",
              "      <td>Pride and Prejudice by Jane Austen (2920)</td>\n",
              "    </tr>\n",
              "    <tr>\n",
              "      <th>2</th>\n",
              "      <td>The Scarlet Letter by Nathaniel Hawthorne (2562)</td>\n",
              "    </tr>\n",
              "    <tr>\n",
              "      <th>3</th>\n",
              "      <td>Moby Dick; Or, The Whale by Herman Melville (2...</td>\n",
              "    </tr>\n",
              "    <tr>\n",
              "      <th>4</th>\n",
              "      <td>Romeo and Juliet by William Shakespeare (2426)</td>\n",
              "    </tr>\n",
              "  </tbody>\n",
              "</table>\n",
              "</div>\n",
              "    <div class=\"colab-df-buttons\">\n",
              "\n",
              "  <div class=\"colab-df-container\">\n",
              "    <button class=\"colab-df-convert\" onclick=\"convertToInteractive('df-5e14a240-c57c-408a-a6c7-bee37a0c9e69')\"\n",
              "            title=\"Convert this dataframe to an interactive table.\"\n",
              "            style=\"display:none;\">\n",
              "\n",
              "  <svg xmlns=\"http://www.w3.org/2000/svg\" height=\"24px\" viewBox=\"0 -960 960 960\">\n",
              "    <path d=\"M120-120v-720h720v720H120Zm60-500h600v-160H180v160Zm220 220h160v-160H400v160Zm0 220h160v-160H400v160ZM180-400h160v-160H180v160Zm440 0h160v-160H620v160ZM180-180h160v-160H180v160Zm440 0h160v-160H620v160Z\"/>\n",
              "  </svg>\n",
              "    </button>\n",
              "\n",
              "  <style>\n",
              "    .colab-df-container {\n",
              "      display:flex;\n",
              "      gap: 12px;\n",
              "    }\n",
              "\n",
              "    .colab-df-convert {\n",
              "      background-color: #E8F0FE;\n",
              "      border: none;\n",
              "      border-radius: 50%;\n",
              "      cursor: pointer;\n",
              "      display: none;\n",
              "      fill: #1967D2;\n",
              "      height: 32px;\n",
              "      padding: 0 0 0 0;\n",
              "      width: 32px;\n",
              "    }\n",
              "\n",
              "    .colab-df-convert:hover {\n",
              "      background-color: #E2EBFA;\n",
              "      box-shadow: 0px 1px 2px rgba(60, 64, 67, 0.3), 0px 1px 3px 1px rgba(60, 64, 67, 0.15);\n",
              "      fill: #174EA6;\n",
              "    }\n",
              "\n",
              "    .colab-df-buttons div {\n",
              "      margin-bottom: 4px;\n",
              "    }\n",
              "\n",
              "    [theme=dark] .colab-df-convert {\n",
              "      background-color: #3B4455;\n",
              "      fill: #D2E3FC;\n",
              "    }\n",
              "\n",
              "    [theme=dark] .colab-df-convert:hover {\n",
              "      background-color: #434B5C;\n",
              "      box-shadow: 0px 1px 3px 1px rgba(0, 0, 0, 0.15);\n",
              "      filter: drop-shadow(0px 1px 2px rgba(0, 0, 0, 0.3));\n",
              "      fill: #FFFFFF;\n",
              "    }\n",
              "  </style>\n",
              "\n",
              "    <script>\n",
              "      const buttonEl =\n",
              "        document.querySelector('#df-5e14a240-c57c-408a-a6c7-bee37a0c9e69 button.colab-df-convert');\n",
              "      buttonEl.style.display =\n",
              "        google.colab.kernel.accessAllowed ? 'block' : 'none';\n",
              "\n",
              "      async function convertToInteractive(key) {\n",
              "        const element = document.querySelector('#df-5e14a240-c57c-408a-a6c7-bee37a0c9e69');\n",
              "        const dataTable =\n",
              "          await google.colab.kernel.invokeFunction('convertToInteractive',\n",
              "                                                    [key], {});\n",
              "        if (!dataTable) return;\n",
              "\n",
              "        const docLinkHtml = 'Like what you see? Visit the ' +\n",
              "          '<a target=\"_blank\" href=https://colab.research.google.com/notebooks/data_table.ipynb>data table notebook</a>'\n",
              "          + ' to learn more about interactive tables.';\n",
              "        element.innerHTML = '';\n",
              "        dataTable['output_type'] = 'display_data';\n",
              "        await google.colab.output.renderOutput(dataTable, element);\n",
              "        const docLink = document.createElement('div');\n",
              "        docLink.innerHTML = docLinkHtml;\n",
              "        element.appendChild(docLink);\n",
              "      }\n",
              "    </script>\n",
              "  </div>\n",
              "\n",
              "\n",
              "<div id=\"df-65b8eb06-7c32-4608-a127-4c7e67a6dd12\">\n",
              "  <button class=\"colab-df-quickchart\" onclick=\"quickchart('df-65b8eb06-7c32-4608-a127-4c7e67a6dd12')\"\n",
              "            title=\"Suggest charts\"\n",
              "            style=\"display:none;\">\n",
              "\n",
              "<svg xmlns=\"http://www.w3.org/2000/svg\" height=\"24px\"viewBox=\"0 0 24 24\"\n",
              "     width=\"24px\">\n",
              "    <g>\n",
              "        <path d=\"M19 3H5c-1.1 0-2 .9-2 2v14c0 1.1.9 2 2 2h14c1.1 0 2-.9 2-2V5c0-1.1-.9-2-2-2zM9 17H7v-7h2v7zm4 0h-2V7h2v10zm4 0h-2v-4h2v4z\"/>\n",
              "    </g>\n",
              "</svg>\n",
              "  </button>\n",
              "\n",
              "<style>\n",
              "  .colab-df-quickchart {\n",
              "      --bg-color: #E8F0FE;\n",
              "      --fill-color: #1967D2;\n",
              "      --hover-bg-color: #E2EBFA;\n",
              "      --hover-fill-color: #174EA6;\n",
              "      --disabled-fill-color: #AAA;\n",
              "      --disabled-bg-color: #DDD;\n",
              "  }\n",
              "\n",
              "  [theme=dark] .colab-df-quickchart {\n",
              "      --bg-color: #3B4455;\n",
              "      --fill-color: #D2E3FC;\n",
              "      --hover-bg-color: #434B5C;\n",
              "      --hover-fill-color: #FFFFFF;\n",
              "      --disabled-bg-color: #3B4455;\n",
              "      --disabled-fill-color: #666;\n",
              "  }\n",
              "\n",
              "  .colab-df-quickchart {\n",
              "    background-color: var(--bg-color);\n",
              "    border: none;\n",
              "    border-radius: 50%;\n",
              "    cursor: pointer;\n",
              "    display: none;\n",
              "    fill: var(--fill-color);\n",
              "    height: 32px;\n",
              "    padding: 0;\n",
              "    width: 32px;\n",
              "  }\n",
              "\n",
              "  .colab-df-quickchart:hover {\n",
              "    background-color: var(--hover-bg-color);\n",
              "    box-shadow: 0 1px 2px rgba(60, 64, 67, 0.3), 0 1px 3px 1px rgba(60, 64, 67, 0.15);\n",
              "    fill: var(--button-hover-fill-color);\n",
              "  }\n",
              "\n",
              "  .colab-df-quickchart-complete:disabled,\n",
              "  .colab-df-quickchart-complete:disabled:hover {\n",
              "    background-color: var(--disabled-bg-color);\n",
              "    fill: var(--disabled-fill-color);\n",
              "    box-shadow: none;\n",
              "  }\n",
              "\n",
              "  .colab-df-spinner {\n",
              "    border: 2px solid var(--fill-color);\n",
              "    border-color: transparent;\n",
              "    border-bottom-color: var(--fill-color);\n",
              "    animation:\n",
              "      spin 1s steps(1) infinite;\n",
              "  }\n",
              "\n",
              "  @keyframes spin {\n",
              "    0% {\n",
              "      border-color: transparent;\n",
              "      border-bottom-color: var(--fill-color);\n",
              "      border-left-color: var(--fill-color);\n",
              "    }\n",
              "    20% {\n",
              "      border-color: transparent;\n",
              "      border-left-color: var(--fill-color);\n",
              "      border-top-color: var(--fill-color);\n",
              "    }\n",
              "    30% {\n",
              "      border-color: transparent;\n",
              "      border-left-color: var(--fill-color);\n",
              "      border-top-color: var(--fill-color);\n",
              "      border-right-color: var(--fill-color);\n",
              "    }\n",
              "    40% {\n",
              "      border-color: transparent;\n",
              "      border-right-color: var(--fill-color);\n",
              "      border-top-color: var(--fill-color);\n",
              "    }\n",
              "    60% {\n",
              "      border-color: transparent;\n",
              "      border-right-color: var(--fill-color);\n",
              "    }\n",
              "    80% {\n",
              "      border-color: transparent;\n",
              "      border-right-color: var(--fill-color);\n",
              "      border-bottom-color: var(--fill-color);\n",
              "    }\n",
              "    90% {\n",
              "      border-color: transparent;\n",
              "      border-bottom-color: var(--fill-color);\n",
              "    }\n",
              "  }\n",
              "</style>\n",
              "\n",
              "  <script>\n",
              "    async function quickchart(key) {\n",
              "      const quickchartButtonEl =\n",
              "        document.querySelector('#' + key + ' button');\n",
              "      quickchartButtonEl.disabled = true;  // To prevent multiple clicks.\n",
              "      quickchartButtonEl.classList.add('colab-df-spinner');\n",
              "      try {\n",
              "        const charts = await google.colab.kernel.invokeFunction(\n",
              "            'suggestCharts', [key], {});\n",
              "      } catch (error) {\n",
              "        console.error('Error during call to suggestCharts:', error);\n",
              "      }\n",
              "      quickchartButtonEl.classList.remove('colab-df-spinner');\n",
              "      quickchartButtonEl.classList.add('colab-df-quickchart-complete');\n",
              "    }\n",
              "    (() => {\n",
              "      let quickchartButtonEl =\n",
              "        document.querySelector('#df-65b8eb06-7c32-4608-a127-4c7e67a6dd12 button');\n",
              "      quickchartButtonEl.style.display =\n",
              "        google.colab.kernel.accessAllowed ? 'block' : 'none';\n",
              "    })();\n",
              "  </script>\n",
              "</div>\n",
              "\n",
              "    </div>\n",
              "  </div>\n"
            ],
            "application/vnd.google.colaboratory.intrinsic+json": {
              "type": "dataframe",
              "variable_name": "df_libros",
              "summary": "{\n  \"name\": \"df_libros\",\n  \"rows\": 5988,\n  \"fields\": [\n    {\n      \"column\": \"Libro\",\n      \"properties\": {\n        \"dtype\": \"string\",\n        \"num_unique_values\": 5988,\n        \"samples\": [\n          \"Suetonius (1014)\",\n          \"Th\\u00e9r\\u00e8se, de Lisieux, Saint (3304)\",\n          \"The Awakening, and Selected Short Stories by Kate Chopin (5872)\"\n        ],\n        \"semantic_type\": \"\",\n        \"description\": \"\"\n      }\n    }\n  ]\n}"
            }
          },
          "metadata": {},
          "execution_count": 182
        }
      ]
    }
  ]
}