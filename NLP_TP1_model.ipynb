{
 "cells": [
  {
   "cell_type": "markdown",
   "metadata": {},
   "source": [
    "**Facultad de Ciencias Exactas, Ingeniería y Agrimensura - UNR**\n",
    "\n",
    "Tecnicatura Universitaria en Inteligencia Artificial\n",
    "\n",
    "# Procesamiento del Lenguaje Natural - Trabajo Práctico N°: 1.\n",
    "\n",
    "Integrantes:\n",
    "- Pace, Bruno. Legajo: P-5295/7.\n",
    "- Sancho Almenar, Mariano. Legajo: S-5778/9."
   ]
  },
  {
   "cell_type": "code",
   "execution_count": null,
   "metadata": {},
   "outputs": [],
   "source": [
    "# datasets\n",
    "import pandas as pd\n",
    "\n",
    "# modelado\n",
    "from transformers import BertTokenizer, BertForSequenceClassification\n",
    "from transformers import pipeline\n",
    "from sklearn.model_selection import train_test_split\n",
    "from sklearn.feature_extraction.text import TfidfVectorizer\n",
    "from sklearn.linear_model import LogisticRegression\n",
    "from sklearn.metrics import accuracy_score, classification_report\n",
    "import nltk\n",
    "import spacy\n",
    "from sentiment_analysis_spanish import sentiment_analysis"
   ]
  },
  {
   "cell_type": "markdown",
   "metadata": {},
   "source": [
    "## Modelado\n",
    "- Se utiliza transformers para clasificar el estado de ánimo de la persona. Este puede ser: \"Alegre\", \"Melancólico\" o \"Ni fu ni fa\"."
   ]
  },
  {
   "cell_type": "code",
   "execution_count": null,
   "metadata": {},
   "outputs": [],
   "source": [
    "# Cargamos el tokenizador y el modelo.\n",
    "model_name: str = \"nlptown/bert-base-multilingual-uncased-sentiment\"\n",
    "tokenizer: BertTokenizer = BertTokenizer.from_pretrained(model_name)\n",
    "model: BertForSequenceClassification = BertForSequenceClassification.from_pretrained(model_name)\n",
    "\n",
    "\n",
    "# Creación de pipeline.\n",
    "nlp: pipeline = pipeline(\"sentiment-analysis\", model=model, tokenizer=tokenizer)"
   ]
  },
  {
   "cell_type": "code",
   "execution_count": null,
   "metadata": {},
   "outputs": [],
   "source": [
    "def get_sentiment(text: str) -> str:\n",
    "    \"\"\"\n",
    "    Retorna el sentimiento de un texto, mediante el uso de transformers.\n",
    "    \"\"\"\n",
    "    label: str = nlp(text)[0]['label']\n",
    "    score: float = nlp(text)[0]['score']\n",
    "\n",
    "    if label in ['5 stars', '4 stars']:\n",
    "        print(score)\n",
    "        return 'Alegre'\n",
    "    elif label == '3 stars':\n",
    "        print(score)\n",
    "        return 'Ni fu ni fa'\n",
    "    elif label in ['2 stars', '1 star']:\n",
    "        print(score)\n",
    "        return 'Melancólico'"
   ]
  },
  {
   "cell_type": "code",
   "execution_count": null,
   "metadata": {},
   "outputs": [],
   "source": [
    "test_list: list[str] = [\n",
    "    # Frases alegres\n",
    "    \"No puedo esperar para sentir la brisa del mar y disfrutar del sol en la playa.\",\n",
    "    \"Tengo muchas ganas de jugar al voleibol en la arena con mis amigos.\",\n",
    "    \"Estoy emocionado por las cenas al aire libre y las caminatas por la playa.\",\n",
    "\n",
    "    # Frases neutras\n",
    "    \"Voy a la playa, pero espero que el clima no arruine mis planes.\",\n",
    "    \"Me gustaría leer un buen libro si no puedo salir por la lluvia.\",\n",
    "    \"Aún estoy organizando lo que haré durante mis vacaciones.\",\n",
    "\n",
    "    # Frases melancólicas\n",
    "    \"No estoy seguro de que la lluvia me deje disfrutar de mis vacaciones.\",\n",
    "    \"Me siento un poco decepcionado por la posibilidad de mal tiempo.\",\n",
    "    \"Ojalá pudiera cambiar el clima para disfrutar más de mis días libres.\",\n",
    "\n",
    "    # Frases de frustración\n",
    "    \"No sé qué hacer si llueve todos los días de mis vacaciones.\",\n",
    "    \"Quiero disfrutar, pero la lluvia arruina todo.\",\n",
    "    \"Me molesta pensar que no podré hacer nada divertido en la playa.\",\n",
    "\n",
    "    # Frases optimistas\n",
    "    \"Si llueve, siempre hay buenas películas que puedo ver.\",\n",
    "    \"Aprovecharé los días de lluvia para leer más libros que tengo pendientes.\",\n",
    "    \"Estoy listo para adaptarme; siempre puedo jugar a algo divertido en casa.\"\n",
    "]\n",
    "\n",
    "for text in test_list:\n",
    "  print(f'{text} -> {get_sentiment(text)}')"
   ]
  },
  {
   "cell_type": "markdown",
   "metadata": {},
   "source": [
    "A fin de realizar una comparación, utilizamos sentiment-analysis sobre la misma lista de test."
   ]
  },
  {
   "cell_type": "code",
   "execution_count": null,
   "metadata": {},
   "outputs": [],
   "source": [
    "sentiment = sentiment_analysis.SentimentAnalysisSpanish()\n",
    "\n",
    "for texto in test_list:\n",
    "  print(f'{texto} -> {sentiment.sentiment(texto)}')"
   ]
  },
  {
   "cell_type": "markdown",
   "metadata": {},
   "source": [
    "El rendimiento obtenido es inferior, por eso se optó por los transformers."
   ]
  }
 ],
 "metadata": {
  "kernelspec": {
   "display_name": ".venv_nlp",
   "language": "python",
   "name": "python3"
  },
  "language_info": {
   "name": "python",
   "version": "3.12.7"
  }
 },
 "nbformat": 4,
 "nbformat_minor": 2
}
