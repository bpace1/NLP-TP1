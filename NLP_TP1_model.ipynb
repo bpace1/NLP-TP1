{
  "cells": [
    {
      "cell_type": "markdown",
      "metadata": {
        "id": "S78bcOuNV57Y"
      },
      "source": [
        "**Facultad de Ciencias Exactas, Ingeniería y Agrimensura - UNR**\n",
        "\n",
        "Tecnicatura Universitaria en Inteligencia Artificial\n",
        "\n",
        "# Procesamiento del Lenguaje Natural - Trabajo Práctico N°: 1.\n",
        "\n",
        "Integrantes:\n",
        "- Pace, Bruno. Legajo: P-5295/7.\n",
        "- Sancho Almenar, Mariano. Legajo: S-5778/9."
      ]
    },
    {
      "cell_type": "code",
      "execution_count": 43,
      "metadata": {
        "id": "C9bC598hV57b",
        "outputId": "1f29efc8-ff01-4d0a-caff-b97a6ba0e639",
        "colab": {
          "base_uri": "https://localhost:8080/"
        }
      },
      "outputs": [
        {
          "output_type": "stream",
          "name": "stdout",
          "text": [
            "Requirement already satisfied: sentiment_analysis_spanish in /usr/local/lib/python3.10/dist-packages (0.0.25)\n",
            "Requirement already satisfied: transformers in /usr/local/lib/python3.10/dist-packages (4.44.2)\n",
            "Requirement already satisfied: filelock in /usr/local/lib/python3.10/dist-packages (from transformers) (3.16.1)\n",
            "Requirement already satisfied: huggingface-hub<1.0,>=0.23.2 in /usr/local/lib/python3.10/dist-packages (from transformers) (0.24.7)\n",
            "Requirement already satisfied: numpy>=1.17 in /usr/local/lib/python3.10/dist-packages (from transformers) (1.26.4)\n",
            "Requirement already satisfied: packaging>=20.0 in /usr/local/lib/python3.10/dist-packages (from transformers) (24.1)\n",
            "Requirement already satisfied: pyyaml>=5.1 in /usr/local/lib/python3.10/dist-packages (from transformers) (6.0.2)\n",
            "Requirement already satisfied: regex!=2019.12.17 in /usr/local/lib/python3.10/dist-packages (from transformers) (2024.9.11)\n",
            "Requirement already satisfied: requests in /usr/local/lib/python3.10/dist-packages (from transformers) (2.32.3)\n",
            "Requirement already satisfied: safetensors>=0.4.1 in /usr/local/lib/python3.10/dist-packages (from transformers) (0.4.5)\n",
            "Requirement already satisfied: tokenizers<0.20,>=0.19 in /usr/local/lib/python3.10/dist-packages (from transformers) (0.19.1)\n",
            "Requirement already satisfied: tqdm>=4.27 in /usr/local/lib/python3.10/dist-packages (from transformers) (4.66.6)\n",
            "Requirement already satisfied: fsspec>=2023.5.0 in /usr/local/lib/python3.10/dist-packages (from huggingface-hub<1.0,>=0.23.2->transformers) (2024.10.0)\n",
            "Requirement already satisfied: typing-extensions>=3.7.4.3 in /usr/local/lib/python3.10/dist-packages (from huggingface-hub<1.0,>=0.23.2->transformers) (4.12.2)\n",
            "Requirement already satisfied: charset-normalizer<4,>=2 in /usr/local/lib/python3.10/dist-packages (from requests->transformers) (3.4.0)\n",
            "Requirement already satisfied: idna<4,>=2.5 in /usr/local/lib/python3.10/dist-packages (from requests->transformers) (3.10)\n",
            "Requirement already satisfied: urllib3<3,>=1.21.1 in /usr/local/lib/python3.10/dist-packages (from requests->transformers) (2.2.3)\n",
            "Requirement already satisfied: certifi>=2017.4.17 in /usr/local/lib/python3.10/dist-packages (from requests->transformers) (2024.8.30)\n",
            "Collecting https://github.com/explosion/spacy-models/releases/download/es_core_news_lg-3.5.0/es_core_news_lg-3.5.0.tar.gz\n",
            "  Downloading https://github.com/explosion/spacy-models/releases/download/es_core_news_lg-3.5.0/es_core_news_lg-3.5.0.tar.gz (568.0 MB)\n",
            "\u001b[2K     \u001b[90m━━━━━━━━━━━━━━━━━━━━━━━━━━━━━━━━━━━━━━━━\u001b[0m \u001b[32m568.0/568.0 MB\u001b[0m \u001b[31m860.6 kB/s\u001b[0m eta \u001b[36m0:00:00\u001b[0m\n",
            "\u001b[?25h  Preparing metadata (setup.py) ... \u001b[?25l\u001b[?25hdone\n",
            "Requirement already satisfied: spacy<3.6.0,>=3.5.0 in /usr/local/lib/python3.10/dist-packages (from es_core_news_lg==3.5.0) (3.5.4)\n",
            "Requirement already satisfied: spacy-legacy<3.1.0,>=3.0.11 in /usr/local/lib/python3.10/dist-packages (from spacy<3.6.0,>=3.5.0->es_core_news_lg==3.5.0) (3.0.12)\n",
            "Requirement already satisfied: spacy-loggers<2.0.0,>=1.0.0 in /usr/local/lib/python3.10/dist-packages (from spacy<3.6.0,>=3.5.0->es_core_news_lg==3.5.0) (1.0.5)\n",
            "Requirement already satisfied: murmurhash<1.1.0,>=0.28.0 in /usr/local/lib/python3.10/dist-packages (from spacy<3.6.0,>=3.5.0->es_core_news_lg==3.5.0) (1.0.10)\n",
            "Requirement already satisfied: cymem<2.1.0,>=2.0.2 in /usr/local/lib/python3.10/dist-packages (from spacy<3.6.0,>=3.5.0->es_core_news_lg==3.5.0) (2.0.8)\n",
            "Requirement already satisfied: preshed<3.1.0,>=3.0.2 in /usr/local/lib/python3.10/dist-packages (from spacy<3.6.0,>=3.5.0->es_core_news_lg==3.5.0) (3.0.9)\n",
            "Requirement already satisfied: thinc<8.2.0,>=8.1.8 in /usr/local/lib/python3.10/dist-packages (from spacy<3.6.0,>=3.5.0->es_core_news_lg==3.5.0) (8.1.12)\n",
            "Requirement already satisfied: wasabi<1.2.0,>=0.9.1 in /usr/local/lib/python3.10/dist-packages (from spacy<3.6.0,>=3.5.0->es_core_news_lg==3.5.0) (1.1.3)\n",
            "Requirement already satisfied: srsly<3.0.0,>=2.4.3 in /usr/local/lib/python3.10/dist-packages (from spacy<3.6.0,>=3.5.0->es_core_news_lg==3.5.0) (2.4.8)\n",
            "Requirement already satisfied: catalogue<2.1.0,>=2.0.6 in /usr/local/lib/python3.10/dist-packages (from spacy<3.6.0,>=3.5.0->es_core_news_lg==3.5.0) (2.0.10)\n",
            "Requirement already satisfied: typer<0.10.0,>=0.3.0 in /usr/local/lib/python3.10/dist-packages (from spacy<3.6.0,>=3.5.0->es_core_news_lg==3.5.0) (0.9.4)\n",
            "Requirement already satisfied: pathy>=0.10.0 in /usr/local/lib/python3.10/dist-packages (from spacy<3.6.0,>=3.5.0->es_core_news_lg==3.5.0) (0.11.0)\n",
            "Requirement already satisfied: smart-open<7.0.0,>=5.2.1 in /usr/local/lib/python3.10/dist-packages (from spacy<3.6.0,>=3.5.0->es_core_news_lg==3.5.0) (6.4.0)\n",
            "Requirement already satisfied: tqdm<5.0.0,>=4.38.0 in /usr/local/lib/python3.10/dist-packages (from spacy<3.6.0,>=3.5.0->es_core_news_lg==3.5.0) (4.66.6)\n",
            "Requirement already satisfied: numpy>=1.15.0 in /usr/local/lib/python3.10/dist-packages (from spacy<3.6.0,>=3.5.0->es_core_news_lg==3.5.0) (1.26.4)\n",
            "Requirement already satisfied: requests<3.0.0,>=2.13.0 in /usr/local/lib/python3.10/dist-packages (from spacy<3.6.0,>=3.5.0->es_core_news_lg==3.5.0) (2.32.3)\n",
            "Requirement already satisfied: pydantic!=1.8,!=1.8.1,<1.11.0,>=1.7.4 in /usr/local/lib/python3.10/dist-packages (from spacy<3.6.0,>=3.5.0->es_core_news_lg==3.5.0) (1.10.18)\n",
            "Requirement already satisfied: jinja2 in /usr/local/lib/python3.10/dist-packages (from spacy<3.6.0,>=3.5.0->es_core_news_lg==3.5.0) (3.1.4)\n",
            "Requirement already satisfied: setuptools in /usr/local/lib/python3.10/dist-packages (from spacy<3.6.0,>=3.5.0->es_core_news_lg==3.5.0) (75.1.0)\n",
            "Requirement already satisfied: packaging>=20.0 in /usr/local/lib/python3.10/dist-packages (from spacy<3.6.0,>=3.5.0->es_core_news_lg==3.5.0) (24.1)\n",
            "Requirement already satisfied: langcodes<4.0.0,>=3.2.0 in /usr/local/lib/python3.10/dist-packages (from spacy<3.6.0,>=3.5.0->es_core_news_lg==3.5.0) (3.4.1)\n",
            "Requirement already satisfied: language-data>=1.2 in /usr/local/lib/python3.10/dist-packages (from langcodes<4.0.0,>=3.2.0->spacy<3.6.0,>=3.5.0->es_core_news_lg==3.5.0) (1.2.0)\n",
            "Requirement already satisfied: pathlib-abc==0.1.1 in /usr/local/lib/python3.10/dist-packages (from pathy>=0.10.0->spacy<3.6.0,>=3.5.0->es_core_news_lg==3.5.0) (0.1.1)\n",
            "Requirement already satisfied: typing-extensions>=4.2.0 in /usr/local/lib/python3.10/dist-packages (from pydantic!=1.8,!=1.8.1,<1.11.0,>=1.7.4->spacy<3.6.0,>=3.5.0->es_core_news_lg==3.5.0) (4.12.2)\n",
            "Requirement already satisfied: charset-normalizer<4,>=2 in /usr/local/lib/python3.10/dist-packages (from requests<3.0.0,>=2.13.0->spacy<3.6.0,>=3.5.0->es_core_news_lg==3.5.0) (3.4.0)\n",
            "Requirement already satisfied: idna<4,>=2.5 in /usr/local/lib/python3.10/dist-packages (from requests<3.0.0,>=2.13.0->spacy<3.6.0,>=3.5.0->es_core_news_lg==3.5.0) (3.10)\n",
            "Requirement already satisfied: urllib3<3,>=1.21.1 in /usr/local/lib/python3.10/dist-packages (from requests<3.0.0,>=2.13.0->spacy<3.6.0,>=3.5.0->es_core_news_lg==3.5.0) (2.2.3)\n",
            "Requirement already satisfied: certifi>=2017.4.17 in /usr/local/lib/python3.10/dist-packages (from requests<3.0.0,>=2.13.0->spacy<3.6.0,>=3.5.0->es_core_news_lg==3.5.0) (2024.8.30)\n",
            "Requirement already satisfied: blis<0.8.0,>=0.7.8 in /usr/local/lib/python3.10/dist-packages (from thinc<8.2.0,>=8.1.8->spacy<3.6.0,>=3.5.0->es_core_news_lg==3.5.0) (0.7.11)\n",
            "Requirement already satisfied: confection<1.0.0,>=0.0.1 in /usr/local/lib/python3.10/dist-packages (from thinc<8.2.0,>=8.1.8->spacy<3.6.0,>=3.5.0->es_core_news_lg==3.5.0) (0.1.5)\n",
            "Requirement already satisfied: click<9.0.0,>=7.1.1 in /usr/local/lib/python3.10/dist-packages (from typer<0.10.0,>=0.3.0->spacy<3.6.0,>=3.5.0->es_core_news_lg==3.5.0) (8.1.7)\n",
            "Requirement already satisfied: MarkupSafe>=2.0 in /usr/local/lib/python3.10/dist-packages (from jinja2->spacy<3.6.0,>=3.5.0->es_core_news_lg==3.5.0) (3.0.2)\n",
            "Requirement already satisfied: marisa-trie>=0.7.7 in /usr/local/lib/python3.10/dist-packages (from language-data>=1.2->langcodes<4.0.0,>=3.2.0->spacy<3.6.0,>=3.5.0->es_core_news_lg==3.5.0) (1.2.1)\n",
            "Requirement already satisfied: gliner in /usr/local/lib/python3.10/dist-packages (0.2.13)\n",
            "Requirement already satisfied: torch>=2.0.0 in /usr/local/lib/python3.10/dist-packages (from gliner) (2.5.0+cu121)\n",
            "Requirement already satisfied: transformers>=4.38.2 in /usr/local/lib/python3.10/dist-packages (from gliner) (4.44.2)\n",
            "Requirement already satisfied: huggingface-hub>=0.21.4 in /usr/local/lib/python3.10/dist-packages (from gliner) (0.24.7)\n",
            "Requirement already satisfied: tqdm in /usr/local/lib/python3.10/dist-packages (from gliner) (4.66.6)\n",
            "Requirement already satisfied: onnxruntime in /usr/local/lib/python3.10/dist-packages (from gliner) (1.20.0)\n",
            "Requirement already satisfied: sentencepiece in /usr/local/lib/python3.10/dist-packages (from gliner) (0.2.0)\n",
            "Requirement already satisfied: filelock in /usr/local/lib/python3.10/dist-packages (from huggingface-hub>=0.21.4->gliner) (3.16.1)\n",
            "Requirement already satisfied: fsspec>=2023.5.0 in /usr/local/lib/python3.10/dist-packages (from huggingface-hub>=0.21.4->gliner) (2024.10.0)\n",
            "Requirement already satisfied: packaging>=20.9 in /usr/local/lib/python3.10/dist-packages (from huggingface-hub>=0.21.4->gliner) (24.1)\n",
            "Requirement already satisfied: pyyaml>=5.1 in /usr/local/lib/python3.10/dist-packages (from huggingface-hub>=0.21.4->gliner) (6.0.2)\n",
            "Requirement already satisfied: requests in /usr/local/lib/python3.10/dist-packages (from huggingface-hub>=0.21.4->gliner) (2.32.3)\n",
            "Requirement already satisfied: typing-extensions>=3.7.4.3 in /usr/local/lib/python3.10/dist-packages (from huggingface-hub>=0.21.4->gliner) (4.12.2)\n",
            "Requirement already satisfied: networkx in /usr/local/lib/python3.10/dist-packages (from torch>=2.0.0->gliner) (3.4.2)\n",
            "Requirement already satisfied: jinja2 in /usr/local/lib/python3.10/dist-packages (from torch>=2.0.0->gliner) (3.1.4)\n",
            "Requirement already satisfied: sympy==1.13.1 in /usr/local/lib/python3.10/dist-packages (from torch>=2.0.0->gliner) (1.13.1)\n",
            "Requirement already satisfied: mpmath<1.4,>=1.1.0 in /usr/local/lib/python3.10/dist-packages (from sympy==1.13.1->torch>=2.0.0->gliner) (1.3.0)\n",
            "Requirement already satisfied: numpy>=1.17 in /usr/local/lib/python3.10/dist-packages (from transformers>=4.38.2->gliner) (1.26.4)\n",
            "Requirement already satisfied: regex!=2019.12.17 in /usr/local/lib/python3.10/dist-packages (from transformers>=4.38.2->gliner) (2024.9.11)\n",
            "Requirement already satisfied: safetensors>=0.4.1 in /usr/local/lib/python3.10/dist-packages (from transformers>=4.38.2->gliner) (0.4.5)\n",
            "Requirement already satisfied: tokenizers<0.20,>=0.19 in /usr/local/lib/python3.10/dist-packages (from transformers>=4.38.2->gliner) (0.19.1)\n",
            "Requirement already satisfied: coloredlogs in /usr/local/lib/python3.10/dist-packages (from onnxruntime->gliner) (15.0.1)\n",
            "Requirement already satisfied: flatbuffers in /usr/local/lib/python3.10/dist-packages (from onnxruntime->gliner) (24.3.25)\n",
            "Requirement already satisfied: protobuf in /usr/local/lib/python3.10/dist-packages (from onnxruntime->gliner) (3.20.3)\n",
            "Requirement already satisfied: humanfriendly>=9.1 in /usr/local/lib/python3.10/dist-packages (from coloredlogs->onnxruntime->gliner) (10.0)\n",
            "Requirement already satisfied: MarkupSafe>=2.0 in /usr/local/lib/python3.10/dist-packages (from jinja2->torch>=2.0.0->gliner) (3.0.2)\n",
            "Requirement already satisfied: charset-normalizer<4,>=2 in /usr/local/lib/python3.10/dist-packages (from requests->huggingface-hub>=0.21.4->gliner) (3.4.0)\n",
            "Requirement already satisfied: idna<4,>=2.5 in /usr/local/lib/python3.10/dist-packages (from requests->huggingface-hub>=0.21.4->gliner) (3.10)\n",
            "Requirement already satisfied: urllib3<3,>=1.21.1 in /usr/local/lib/python3.10/dist-packages (from requests->huggingface-hub>=0.21.4->gliner) (2.2.3)\n",
            "Requirement already satisfied: certifi>=2017.4.17 in /usr/local/lib/python3.10/dist-packages (from requests->huggingface-hub>=0.21.4->gliner) (2024.8.30)\n"
          ]
        }
      ],
      "source": [
        "# Datasets\n",
        "import pandas as pd\n",
        "\n",
        "# Modelado:\n",
        "!pip install sentiment_analysis_spanish\n",
        "!pip install transformers\n",
        "!pip install https://github.com/explosion/spacy-models/releases/download/es_core_news_lg-3.5.0/es_core_news_lg-3.5.0.tar.gz\n",
        "!pip install gliner\n",
        "from gliner import GLiNER\n",
        "from transformers import BertTokenizer, BertForSequenceClassification\n",
        "from transformers import pipeline\n",
        "from sklearn.model_selection import train_test_split\n",
        "from sklearn.linear_model import LogisticRegression\n",
        "from sklearn.metrics import accuracy_score, classification_report\n",
        "import nltk\n",
        "from nltk.corpus import stopwords\n",
        "from nltk.tokenize import word_tokenize\n",
        "!python -m spacy download en_core_web_sm\n",
        "import spacy\n",
        "from sentiment_analysis_spanish import sentiment_analysis\n",
        "\n",
        "from sklearn.feature_extraction.text import TfidfVectorizer\n",
        "from sklearn.metrics.pairwise import cosine_similarity\n",
        "\n",
        "# Configuración de warnings:\n",
        "import warnings\n",
        "warnings.filterwarnings('ignore')"
      ]
    },
    {
      "cell_type": "markdown",
      "source": [
        "## Prompts\n",
        "\n",
        "Ingreso del usuario mediante teclado de los prompts a evaluar por el programa."
      ],
      "metadata": {
        "id": "p19kyk5qZCL9"
      }
    },
    {
      "cell_type": "code",
      "source": [
        "def sentiment_input() -> str:\n",
        "  \"\"\"\n",
        "  Inicia el programa y pide al usuario que ingrese un prompt.\n",
        "  \"\"\"\n",
        "  print('¡Bienvenido al recomendador de actividades!')\n",
        "  sentiment_input = input(\"¿Cómo te sientes hoy?: \")\n",
        "  return sentiment_input"
      ],
      "metadata": {
        "id": "naLzIvyvZBzL"
      },
      "execution_count": 26,
      "outputs": []
    },
    {
      "cell_type": "code",
      "source": [
        "def preference_input() -> str:\n",
        "  \"\"\"\n",
        "  Pide al usuario que ingrese su temática a explorar.\n",
        "  \"\"\"\n",
        "  preference_input = input(\"¿Qué tipo de temática querés abordar?: \")\n",
        "  return preference_input"
      ],
      "metadata": {
        "id": "5u9M-iRdfrJj"
      },
      "execution_count": 27,
      "outputs": []
    },
    {
      "cell_type": "markdown",
      "metadata": {
        "id": "XrzLF0X5V57d"
      },
      "source": [
        "## Modelado\n",
        "- Se utiliza transformers para clasificar el estado de ánimo de la persona. Este puede ser: \"Alegre\", \"Melancólico\" o \"Ni fu ni fa\"."
      ]
    },
    {
      "cell_type": "markdown",
      "source": [
        "### Transformers"
      ],
      "metadata": {
        "id": "0CU0LSSAgXcj"
      }
    },
    {
      "cell_type": "code",
      "execution_count": 28,
      "metadata": {
        "id": "8iRSbNLeV57e"
      },
      "outputs": [],
      "source": [
        "# Cargamos el tokenizador y el modelo.\n",
        "model_name: str = \"nlptown/bert-base-multilingual-uncased-sentiment\"\n",
        "tokenizer: BertTokenizer = BertTokenizer.from_pretrained(model_name)\n",
        "model: BertForSequenceClassification = BertForSequenceClassification.from_pretrained(model_name)\n",
        "\n",
        "\n",
        "# Creación de pipeline.\n",
        "nlp: pipeline = pipeline(\"sentiment-analysis\", model=model, tokenizer=tokenizer)"
      ]
    },
    {
      "cell_type": "code",
      "execution_count": 29,
      "metadata": {
        "id": "Eh0ab-v4V57f"
      },
      "outputs": [],
      "source": [
        "def get_sentiment(text: str) -> str:\n",
        "    \"\"\"\n",
        "    Retorna el sentimiento de un texto, mediante el uso de transformers.\n",
        "    \"\"\"\n",
        "    label: str = nlp(text)[0]['label']\n",
        "    score: float = nlp(text)[0]['score']\n",
        "\n",
        "    if label in ['5 stars', '4 stars']:\n",
        "        print(score)\n",
        "        return 'Alegre'\n",
        "    elif label == '3 stars':\n",
        "        print(score)\n",
        "        return 'Ni fu ni fa'\n",
        "    elif label in ['2 stars', '1 star']:\n",
        "        print(score)\n",
        "        return 'Melancólico'"
      ]
    },
    {
      "cell_type": "code",
      "execution_count": 30,
      "metadata": {
        "collapsed": true,
        "id": "sdl2HFD9V57f",
        "outputId": "2911c1fb-a4ad-46b5-b757-6caf144e7c8d",
        "colab": {
          "base_uri": "https://localhost:8080/"
        }
      },
      "outputs": [
        {
          "output_type": "stream",
          "name": "stdout",
          "text": [
            "0.7204190492630005\n",
            "Estoy muy feliz -> Alegre\n",
            "0.5104050636291504\n",
            "Me siento entusiasmado -> Alegre\n",
            "0.4654117822647095\n",
            "Estoy tranquilo -> Alegre\n",
            "0.3073946535587311\n",
            "Me siento relajado -> Melancólico\n",
            "0.6528457999229431\n",
            "Estoy aburrido -> Melancólico\n",
            "0.32323989272117615\n",
            "Me siento nostálgico -> Alegre\n",
            "0.5161958932876587\n",
            "Estoy un poco triste -> Ni fu ni fa\n",
            "0.3490581214427948\n",
            "Me siento melancólico -> Melancólico\n",
            "0.6465574502944946\n",
            "Estoy frustrado -> Melancólico\n",
            "0.45507076382637024\n",
            "Me siento ansioso -> Alegre\n",
            "0.6622191667556763\n",
            "Estoy enojado -> Melancólico\n",
            "0.469738245010376\n",
            "Me siento decepcionado -> Melancólico\n",
            "0.6982787847518921\n",
            "Estoy muy emocionado -> Alegre\n",
            "0.38369399309158325\n",
            "Me siento inspirado -> Alegre\n",
            "0.6665818095207214\n",
            "Estoy cansado -> Melancólico\n",
            "0.40258100628852844\n",
            "Me siento agotado -> Melancólico\n",
            "0.35649794340133667\n",
            "Estoy preocupado -> Melancólico\n",
            "0.30568787455558777\n",
            "Me siento optimista -> Ni fu ni fa\n",
            "0.4021136164665222\n",
            "Estoy motivado -> Alegre\n",
            "0.45900627970695496\n",
            "Me siento agradecido -> Alegre\n",
            "0.5986759066581726\n",
            "Estoy desconcentrado -> Melancólico\n",
            "0.40013623237609863\n",
            "Me siento esperanzado -> Alegre\n",
            "0.721733808517456\n",
            "Estoy estresado -> Melancólico\n",
            "0.5222796201705933\n",
            "Me siento insatisfecho -> Melancólico\n",
            "0.49637967348098755\n",
            "Estoy satisfecho -> Alegre\n",
            "0.3431619703769684\n",
            "Me siento apático -> Melancólico\n",
            "0.47068098187446594\n",
            "Estoy en paz -> Alegre\n",
            "0.4387659430503845\n",
            "Me siento irritado -> Melancólico\n",
            "0.5843652486801147\n",
            "Estoy un poco nervioso -> Ni fu ni fa\n",
            "0.3784652352333069\n",
            "Me siento confiado -> Alegre\n",
            "0.3130936026573181\n",
            "Estoy renovado -> Alegre\n",
            "0.25980812311172485\n",
            "Me siento pleno -> Ni fu ni fa\n",
            "0.6606146693229675\n",
            "Estoy resignado -> Melancólico\n",
            "0.25144141912460327\n",
            "Me siento inquieto -> Alegre\n",
            "0.49626633524894714\n",
            "Estoy contento -> Alegre\n",
            "0.43724098801612854\n",
            "Me siento vulnerable -> Melancólico\n",
            "0.5553121566772461\n",
            "Estoy enamorado -> Alegre\n",
            "0.480991393327713\n",
            "Me siento frustrado -> Melancólico\n",
            "0.6224414110183716\n",
            "Estoy ilusionado -> Alegre\n",
            "0.3604552149772644\n",
            "Me siento reflexivo -> Ni fu ni fa\n",
            "0.5599895715713501\n",
            "Estoy agradecido -> Alegre\n",
            "0.449918270111084\n",
            "Me siento emocionalmente agotado -> Melancólico\n"
          ]
        }
      ],
      "source": [
        "test_list: list[str] = [\n",
        "    \"Estoy muy feliz\",\n",
        "    \"Me siento entusiasmado\",\n",
        "    \"Estoy tranquilo\",\n",
        "    \"Me siento relajado\",\n",
        "    \"Estoy aburrido\",\n",
        "    \"Me siento nostálgico\",\n",
        "    \"Estoy un poco triste\",\n",
        "    \"Me siento melancólico\",\n",
        "    \"Estoy frustrado\",\n",
        "    \"Me siento ansioso\",\n",
        "    \"Estoy enojado\",\n",
        "    \"Me siento decepcionado\",\n",
        "    \"Estoy muy emocionado\",\n",
        "    \"Me siento inspirado\",\n",
        "    \"Estoy cansado\",\n",
        "    \"Me siento agotado\",\n",
        "    \"Estoy preocupado\",\n",
        "    \"Me siento optimista\",\n",
        "    \"Estoy motivado\",\n",
        "    \"Me siento agradecido\",\n",
        "    \"Estoy desconcentrado\",\n",
        "    \"Me siento esperanzado\",\n",
        "    \"Estoy estresado\",\n",
        "    \"Me siento insatisfecho\",\n",
        "    \"Estoy satisfecho\",\n",
        "    \"Me siento apático\",\n",
        "    \"Estoy en paz\",\n",
        "    \"Me siento irritado\",\n",
        "    \"Estoy un poco nervioso\",\n",
        "    \"Me siento confiado\",\n",
        "    \"Estoy renovado\",\n",
        "    \"Me siento pleno\",\n",
        "    \"Estoy resignado\",\n",
        "    \"Me siento inquieto\",\n",
        "    \"Estoy contento\",\n",
        "    \"Me siento vulnerable\",\n",
        "    \"Estoy enamorado\",\n",
        "    \"Me siento frustrado\",\n",
        "    \"Estoy ilusionado\",\n",
        "    \"Me siento reflexivo\",\n",
        "    \"Estoy agradecido\",\n",
        "    \"Me siento emocionalmente agotado\"\n",
        "]\n",
        "\n",
        "for text in test_list:\n",
        "  print(f'{text} -> {get_sentiment(text)}')"
      ]
    },
    {
      "cell_type": "markdown",
      "source": [
        "### sentiment_analysis_spanish library\n",
        "\n",
        "A fin de realizar una comparación, utilizamos sentiment-analysis sobre la misma lista de test.\n",
        "\n",
        "El rendimiento obtenido es inferior, teniendo en cuenta que un resultado cercano a uno es un texto positivo, cercano a cero es negativo y en los valores medios es neutro. Por eso se optó por los transformers.\n",
        "\n",
        "Para obtener esta conclusión se visitó la [Documentación](https://pypi.org/project/sentiment-analysis-spanish/)."
      ],
      "metadata": {
        "id": "z_BQuQ9UgiRU"
      }
    },
    {
      "cell_type": "code",
      "execution_count": 31,
      "metadata": {
        "collapsed": true,
        "id": "sFUkNaZMV57g"
      },
      "outputs": [],
      "source": [
        "sentiment = sentiment_analysis.SentimentAnalysisSpanish()"
      ]
    },
    {
      "cell_type": "markdown",
      "source": [],
      "metadata": {
        "id": "R5edCVQhgoxS"
      }
    },
    {
      "cell_type": "code",
      "source": [
        "for texto in test_list:\n",
        "  print(f'{texto} -> {sentiment.sentiment(texto)}')"
      ],
      "metadata": {
        "collapsed": true,
        "id": "zz6aD182fPfv",
        "outputId": "86ef8067-46bc-4694-91cf-a7bb07915639",
        "colab": {
          "base_uri": "https://localhost:8080/"
        }
      },
      "execution_count": 32,
      "outputs": [
        {
          "output_type": "stream",
          "name": "stdout",
          "text": [
            "Estoy muy feliz -> 0.6889487711193526\n",
            "Me siento entusiasmado -> 0.0728752984896165\n",
            "Estoy tranquilo -> 0.7826378949098491\n",
            "Me siento relajado -> 0.23951579470116582\n",
            "Estoy aburrido -> 0.31062133515766494\n",
            "Me siento nostálgico -> 0.0728752984896165\n",
            "Estoy un poco triste -> 0.04078651378014973\n",
            "Me siento melancólico -> 0.0728752984896165\n",
            "Estoy frustrado -> 0.31062133515766494\n",
            "Me siento ansioso -> 0.0728752984896165\n",
            "Estoy enojado -> 0.31062133515766494\n",
            "Me siento decepcionado -> 0.005644903897282337\n",
            "Estoy muy emocionado -> 0.537734459784737\n",
            "Me siento inspirado -> 0.0728752984896165\n",
            "Estoy cansado -> 0.31062133515766494\n",
            "Me siento agotado -> 0.0728752984896165\n",
            "Estoy preocupado -> 0.31062133515766494\n",
            "Me siento optimista -> 0.0728752984896165\n",
            "Estoy motivado -> 0.31062133515766494\n",
            "Me siento agradecido -> 0.0728752984896165\n",
            "Estoy desconcentrado -> 0.31062133515766494\n",
            "Me siento esperanzado -> 0.0728752984896165\n",
            "Estoy estresado -> 0.31062133515766494\n",
            "Me siento insatisfecho -> 0.0728752984896165\n",
            "Estoy satisfecho -> 0.31062133515766494\n",
            "Me siento apático -> 0.0728752984896165\n",
            "Estoy en paz -> 0.30160317594964886\n",
            "Me siento irritado -> 0.0728752984896165\n",
            "Estoy un poco nervioso -> 0.40047998155699016\n",
            "Me siento confiado -> 0.0728752984896165\n",
            "Estoy renovado -> 0.592384185163465\n",
            "Me siento pleno -> 0.24540937211136493\n",
            "Estoy resignado -> 0.31062133515766494\n",
            "Me siento inquieto -> 0.0728752984896165\n",
            "Estoy contento -> 0.3890029009603382\n",
            "Me siento vulnerable -> 0.0728752984896165\n",
            "Estoy enamorado -> 0.31062133515766494\n",
            "Me siento frustrado -> 0.0728752984896165\n",
            "Estoy ilusionado -> 0.31062133515766494\n",
            "Me siento reflexivo -> 0.0728752984896165\n",
            "Estoy agradecido -> 0.31062133515766494\n",
            "Me siento emocionalmente agotado -> 0.0728752984896165\n"
          ]
        }
      ]
    },
    {
      "cell_type": "markdown",
      "source": [
        "### NER\n",
        "\n",
        "Se emplea para la identificación de entidades que facilitarán la búsqueda en los datos, entendiendo y analizando tanto sus preferencias como el contexto."
      ],
      "metadata": {
        "id": "CUQpWw0bh96O"
      }
    },
    {
      "cell_type": "code",
      "source": [
        "ner = spacy.load('es_core_news_lg')"
      ],
      "metadata": {
        "id": "CMAhZMkHiUPp"
      },
      "execution_count": 33,
      "outputs": []
    },
    {
      "cell_type": "code",
      "source": [
        "for texto in test_list:\n",
        "  doc = ner(texto)\n",
        "  for ent in doc.ents:\n",
        "    print(f'Entidad: {ent.text}, Etiqueta: {ent.label_}, Explicación: {spacy.explain(ent.label_)}')"
      ],
      "metadata": {
        "id": "vcxT_E8quanl",
        "outputId": "93978f99-1d36-4fcd-9ba5-8785be6d8274",
        "colab": {
          "base_uri": "https://localhost:8080/"
        }
      },
      "execution_count": 34,
      "outputs": [
        {
          "output_type": "stream",
          "name": "stdout",
          "text": [
            "Entidad: Estoy muy feliz, Etiqueta: MISC, Explicación: Miscellaneous entities, e.g. events, nationalities, products or works of art\n",
            "Entidad: Estoy enojado, Etiqueta: MISC, Explicación: Miscellaneous entities, e.g. events, nationalities, products or works of art\n",
            "Entidad: Estoy cansado, Etiqueta: MISC, Explicación: Miscellaneous entities, e.g. events, nationalities, products or works of art\n",
            "Entidad: Estoy estresado, Etiqueta: MISC, Explicación: Miscellaneous entities, e.g. events, nationalities, products or works of art\n",
            "Entidad: Estoy en paz, Etiqueta: MISC, Explicación: Miscellaneous entities, e.g. events, nationalities, products or works of art\n",
            "Entidad: Estoy enamorado, Etiqueta: MISC, Explicación: Miscellaneous entities, e.g. events, nationalities, products or works of art\n"
          ]
        }
      ]
    },
    {
      "cell_type": "code",
      "source": [
        "!pip install gliner\n",
        "from gliner import GLiNER\n",
        "\n",
        "gliner_model = GLiNER.from_pretrained(\"urchade/gliner_multi-v2.1\")"
      ],
      "metadata": {
        "id": "-QBKoA89wC0W",
        "outputId": "b1ebfbac-8e19-4a6c-8e01-fb9d200d7af7",
        "colab": {
          "base_uri": "https://localhost:8080/",
          "height": 585,
          "referenced_widgets": [
            "dab6bb0cf58f4f609aa6fce35a2b5144",
            "2d279f5479d649b0aa45598653e8ed43",
            "5d74c65aac2a4f07a730889e6541cb1c",
            "4d63c371feb9442eb93b1105343a487e",
            "3f36983643ea4899bcde320b8c3e8c24",
            "c21ee0d528154b2e87792f6ec6b17aac",
            "752534f6397347c3887972c04ae82248",
            "cb3902f9d1a84ed298d707e744ecc9e4",
            "e70ac75a79e74086a41825d7d2195eb6",
            "051cd83b25864c76a0c819936f8675cb",
            "4bb203448c744130b63929ed7662a4c5"
          ]
        }
      },
      "execution_count": 35,
      "outputs": [
        {
          "output_type": "stream",
          "name": "stdout",
          "text": [
            "Requirement already satisfied: gliner in /usr/local/lib/python3.10/dist-packages (0.2.13)\n",
            "Requirement already satisfied: torch>=2.0.0 in /usr/local/lib/python3.10/dist-packages (from gliner) (2.5.0+cu121)\n",
            "Requirement already satisfied: transformers>=4.38.2 in /usr/local/lib/python3.10/dist-packages (from gliner) (4.44.2)\n",
            "Requirement already satisfied: huggingface-hub>=0.21.4 in /usr/local/lib/python3.10/dist-packages (from gliner) (0.24.7)\n",
            "Requirement already satisfied: tqdm in /usr/local/lib/python3.10/dist-packages (from gliner) (4.66.6)\n",
            "Requirement already satisfied: onnxruntime in /usr/local/lib/python3.10/dist-packages (from gliner) (1.20.0)\n",
            "Requirement already satisfied: sentencepiece in /usr/local/lib/python3.10/dist-packages (from gliner) (0.2.0)\n",
            "Requirement already satisfied: filelock in /usr/local/lib/python3.10/dist-packages (from huggingface-hub>=0.21.4->gliner) (3.16.1)\n",
            "Requirement already satisfied: fsspec>=2023.5.0 in /usr/local/lib/python3.10/dist-packages (from huggingface-hub>=0.21.4->gliner) (2024.10.0)\n",
            "Requirement already satisfied: packaging>=20.9 in /usr/local/lib/python3.10/dist-packages (from huggingface-hub>=0.21.4->gliner) (24.1)\n",
            "Requirement already satisfied: pyyaml>=5.1 in /usr/local/lib/python3.10/dist-packages (from huggingface-hub>=0.21.4->gliner) (6.0.2)\n",
            "Requirement already satisfied: requests in /usr/local/lib/python3.10/dist-packages (from huggingface-hub>=0.21.4->gliner) (2.32.3)\n",
            "Requirement already satisfied: typing-extensions>=3.7.4.3 in /usr/local/lib/python3.10/dist-packages (from huggingface-hub>=0.21.4->gliner) (4.12.2)\n",
            "Requirement already satisfied: networkx in /usr/local/lib/python3.10/dist-packages (from torch>=2.0.0->gliner) (3.4.2)\n",
            "Requirement already satisfied: jinja2 in /usr/local/lib/python3.10/dist-packages (from torch>=2.0.0->gliner) (3.1.4)\n",
            "Requirement already satisfied: sympy==1.13.1 in /usr/local/lib/python3.10/dist-packages (from torch>=2.0.0->gliner) (1.13.1)\n",
            "Requirement already satisfied: mpmath<1.4,>=1.1.0 in /usr/local/lib/python3.10/dist-packages (from sympy==1.13.1->torch>=2.0.0->gliner) (1.3.0)\n",
            "Requirement already satisfied: numpy>=1.17 in /usr/local/lib/python3.10/dist-packages (from transformers>=4.38.2->gliner) (1.26.4)\n",
            "Requirement already satisfied: regex!=2019.12.17 in /usr/local/lib/python3.10/dist-packages (from transformers>=4.38.2->gliner) (2024.9.11)\n",
            "Requirement already satisfied: safetensors>=0.4.1 in /usr/local/lib/python3.10/dist-packages (from transformers>=4.38.2->gliner) (0.4.5)\n",
            "Requirement already satisfied: tokenizers<0.20,>=0.19 in /usr/local/lib/python3.10/dist-packages (from transformers>=4.38.2->gliner) (0.19.1)\n",
            "Requirement already satisfied: coloredlogs in /usr/local/lib/python3.10/dist-packages (from onnxruntime->gliner) (15.0.1)\n",
            "Requirement already satisfied: flatbuffers in /usr/local/lib/python3.10/dist-packages (from onnxruntime->gliner) (24.3.25)\n",
            "Requirement already satisfied: protobuf in /usr/local/lib/python3.10/dist-packages (from onnxruntime->gliner) (3.20.3)\n",
            "Requirement already satisfied: humanfriendly>=9.1 in /usr/local/lib/python3.10/dist-packages (from coloredlogs->onnxruntime->gliner) (10.0)\n",
            "Requirement already satisfied: MarkupSafe>=2.0 in /usr/local/lib/python3.10/dist-packages (from jinja2->torch>=2.0.0->gliner) (3.0.2)\n",
            "Requirement already satisfied: charset-normalizer<4,>=2 in /usr/local/lib/python3.10/dist-packages (from requests->huggingface-hub>=0.21.4->gliner) (3.4.0)\n",
            "Requirement already satisfied: idna<4,>=2.5 in /usr/local/lib/python3.10/dist-packages (from requests->huggingface-hub>=0.21.4->gliner) (3.10)\n",
            "Requirement already satisfied: urllib3<3,>=1.21.1 in /usr/local/lib/python3.10/dist-packages (from requests->huggingface-hub>=0.21.4->gliner) (2.2.3)\n",
            "Requirement already satisfied: certifi>=2017.4.17 in /usr/local/lib/python3.10/dist-packages (from requests->huggingface-hub>=0.21.4->gliner) (2024.8.30)\n"
          ]
        },
        {
          "output_type": "display_data",
          "data": {
            "text/plain": [
              "Fetching 4 files:   0%|          | 0/4 [00:00<?, ?it/s]"
            ],
            "application/vnd.jupyter.widget-view+json": {
              "version_major": 2,
              "version_minor": 0,
              "model_id": "dab6bb0cf58f4f609aa6fce35a2b5144"
            }
          },
          "metadata": {}
        }
      ]
    },
    {
      "cell_type": "code",
      "source": [
        "gliner_model.eval()\n",
        "\n",
        "labels: list[str] = [\"person\", \"book\", \"location\", \"date\", \"actor\", \"character\",\"game\"]\n",
        "\n",
        "\n",
        "for text in test_list:\n",
        "  entities = gliner_model.predict_entities(text, labels, threshold=0.4)\n",
        "  for entity in entities:\n",
        "    print(entity, \"=>\", entity[\"label\"])"
      ],
      "metadata": {
        "id": "X_9tBRu1wmEh",
        "outputId": "931330a2-f99e-4769-dd13-42c3dc3cf816",
        "colab": {
          "base_uri": "https://localhost:8080/"
        }
      },
      "execution_count": 36,
      "outputs": [
        {
          "output_type": "stream",
          "name": "stderr",
          "text": [
            "Asking to truncate to max_length but no maximum length is provided and the model has no predefined maximum length. Default to no truncation.\n"
          ]
        }
      ]
    },
    {
      "cell_type": "markdown",
      "source": [
        "### POS"
      ],
      "metadata": {
        "id": "ZlProbuox1wK"
      }
    },
    {
      "cell_type": "code",
      "source": [
        "pos = spacy.load('es_core_news_lg')\n",
        "\n",
        "data = []\n",
        "# Procesar el texto con el modelo de spaCy\n",
        "for text in test_list:\n",
        "  doc = pos(texto)\n",
        "  for token in doc:\n",
        "      data.append([token.text, token.pos_, spacy.explain(token.pos_)])\n",
        "\n",
        "\n",
        "df = pd.DataFrame(data, columns=['Palabra', 'Etiqueta POS', 'Explicación'])\n",
        "\n",
        "print(df)"
      ],
      "metadata": {
        "id": "CbIw5PxFx24D",
        "outputId": "6e8ec571-8c13-4490-c972-1f1fa038bd68",
        "colab": {
          "base_uri": "https://localhost:8080/",
          "height": 365
        }
      },
      "execution_count": 37,
      "outputs": [
        {
          "output_type": "error",
          "ename": "KeyboardInterrupt",
          "evalue": "",
          "traceback": [
            "\u001b[0;31m---------------------------------------------------------------------------\u001b[0m",
            "\u001b[0;31mKeyboardInterrupt\u001b[0m                         Traceback (most recent call last)",
            "\u001b[0;32m<ipython-input-37-d96aff4f373c>\u001b[0m in \u001b[0;36m<cell line: 1>\u001b[0;34m()\u001b[0m\n\u001b[0;32m----> 1\u001b[0;31m \u001b[0mpos\u001b[0m \u001b[0;34m=\u001b[0m \u001b[0mspacy\u001b[0m\u001b[0;34m.\u001b[0m\u001b[0mload\u001b[0m\u001b[0;34m(\u001b[0m\u001b[0;34m'es_core_news_lg'\u001b[0m\u001b[0;34m)\u001b[0m\u001b[0;34m\u001b[0m\u001b[0;34m\u001b[0m\u001b[0m\n\u001b[0m\u001b[1;32m      2\u001b[0m \u001b[0;34m\u001b[0m\u001b[0m\n\u001b[1;32m      3\u001b[0m \u001b[0mdata\u001b[0m \u001b[0;34m=\u001b[0m \u001b[0;34m[\u001b[0m\u001b[0;34m]\u001b[0m\u001b[0;34m\u001b[0m\u001b[0;34m\u001b[0m\u001b[0m\n\u001b[1;32m      4\u001b[0m \u001b[0;31m# Procesar el texto con el modelo de spaCy\u001b[0m\u001b[0;34m\u001b[0m\u001b[0;34m\u001b[0m\u001b[0m\n\u001b[1;32m      5\u001b[0m \u001b[0;32mfor\u001b[0m \u001b[0mtext\u001b[0m \u001b[0;32min\u001b[0m \u001b[0mtest_list\u001b[0m\u001b[0;34m:\u001b[0m\u001b[0;34m\u001b[0m\u001b[0;34m\u001b[0m\u001b[0m\n",
            "\u001b[0;32m/usr/local/lib/python3.10/dist-packages/spacy/__init__.py\u001b[0m in \u001b[0;36mload\u001b[0;34m(name, vocab, disable, enable, exclude, config)\u001b[0m\n\u001b[1;32m     52\u001b[0m     \u001b[0mRETURNS\u001b[0m \u001b[0;34m(\u001b[0m\u001b[0mLanguage\u001b[0m\u001b[0;34m)\u001b[0m\u001b[0;34m:\u001b[0m \u001b[0mThe\u001b[0m \u001b[0mloaded\u001b[0m \u001b[0mnlp\u001b[0m \u001b[0mobject\u001b[0m\u001b[0;34m.\u001b[0m\u001b[0;34m\u001b[0m\u001b[0;34m\u001b[0m\u001b[0m\n\u001b[1;32m     53\u001b[0m     \"\"\"\n\u001b[0;32m---> 54\u001b[0;31m     return util.load_model(\n\u001b[0m\u001b[1;32m     55\u001b[0m         \u001b[0mname\u001b[0m\u001b[0;34m,\u001b[0m\u001b[0;34m\u001b[0m\u001b[0;34m\u001b[0m\u001b[0m\n\u001b[1;32m     56\u001b[0m         \u001b[0mvocab\u001b[0m\u001b[0;34m=\u001b[0m\u001b[0mvocab\u001b[0m\u001b[0;34m,\u001b[0m\u001b[0;34m\u001b[0m\u001b[0;34m\u001b[0m\u001b[0m\n",
            "\u001b[0;32m/usr/local/lib/python3.10/dist-packages/spacy/util.py\u001b[0m in \u001b[0;36mload_model\u001b[0;34m(name, vocab, disable, enable, exclude, config)\u001b[0m\n\u001b[1;32m    440\u001b[0m             \u001b[0;32mreturn\u001b[0m \u001b[0mget_lang_class\u001b[0m\u001b[0;34m(\u001b[0m\u001b[0mname\u001b[0m\u001b[0;34m.\u001b[0m\u001b[0mreplace\u001b[0m\u001b[0;34m(\u001b[0m\u001b[0;34m\"blank:\"\u001b[0m\u001b[0;34m,\u001b[0m \u001b[0;34m\"\"\u001b[0m\u001b[0;34m)\u001b[0m\u001b[0;34m)\u001b[0m\u001b[0;34m(\u001b[0m\u001b[0;34m)\u001b[0m\u001b[0;34m\u001b[0m\u001b[0;34m\u001b[0m\u001b[0m\n\u001b[1;32m    441\u001b[0m         \u001b[0;32mif\u001b[0m \u001b[0mis_package\u001b[0m\u001b[0;34m(\u001b[0m\u001b[0mname\u001b[0m\u001b[0;34m)\u001b[0m\u001b[0;34m:\u001b[0m  \u001b[0;31m# installed as package\u001b[0m\u001b[0;34m\u001b[0m\u001b[0;34m\u001b[0m\u001b[0m\n\u001b[0;32m--> 442\u001b[0;31m             \u001b[0;32mreturn\u001b[0m \u001b[0mload_model_from_package\u001b[0m\u001b[0;34m(\u001b[0m\u001b[0mname\u001b[0m\u001b[0;34m,\u001b[0m \u001b[0;34m**\u001b[0m\u001b[0mkwargs\u001b[0m\u001b[0;34m)\u001b[0m  \u001b[0;31m# type: ignore[arg-type]\u001b[0m\u001b[0;34m\u001b[0m\u001b[0;34m\u001b[0m\u001b[0m\n\u001b[0m\u001b[1;32m    443\u001b[0m         \u001b[0;32mif\u001b[0m \u001b[0mPath\u001b[0m\u001b[0;34m(\u001b[0m\u001b[0mname\u001b[0m\u001b[0;34m)\u001b[0m\u001b[0;34m.\u001b[0m\u001b[0mexists\u001b[0m\u001b[0;34m(\u001b[0m\u001b[0;34m)\u001b[0m\u001b[0;34m:\u001b[0m  \u001b[0;31m# path to model data directory\u001b[0m\u001b[0;34m\u001b[0m\u001b[0;34m\u001b[0m\u001b[0m\n\u001b[1;32m    444\u001b[0m             \u001b[0;32mreturn\u001b[0m \u001b[0mload_model_from_path\u001b[0m\u001b[0;34m(\u001b[0m\u001b[0mPath\u001b[0m\u001b[0;34m(\u001b[0m\u001b[0mname\u001b[0m\u001b[0;34m)\u001b[0m\u001b[0;34m,\u001b[0m \u001b[0;34m**\u001b[0m\u001b[0mkwargs\u001b[0m\u001b[0;34m)\u001b[0m  \u001b[0;31m# type: ignore[arg-type]\u001b[0m\u001b[0;34m\u001b[0m\u001b[0;34m\u001b[0m\u001b[0m\n",
            "\u001b[0;32m/usr/local/lib/python3.10/dist-packages/spacy/util.py\u001b[0m in \u001b[0;36mload_model_from_package\u001b[0;34m(name, vocab, disable, enable, exclude, config)\u001b[0m\n\u001b[1;32m    476\u001b[0m     \"\"\"\n\u001b[1;32m    477\u001b[0m     \u001b[0mcls\u001b[0m \u001b[0;34m=\u001b[0m \u001b[0mimportlib\u001b[0m\u001b[0;34m.\u001b[0m\u001b[0mimport_module\u001b[0m\u001b[0;34m(\u001b[0m\u001b[0mname\u001b[0m\u001b[0;34m)\u001b[0m\u001b[0;34m\u001b[0m\u001b[0;34m\u001b[0m\u001b[0m\n\u001b[0;32m--> 478\u001b[0;31m     \u001b[0;32mreturn\u001b[0m \u001b[0mcls\u001b[0m\u001b[0;34m.\u001b[0m\u001b[0mload\u001b[0m\u001b[0;34m(\u001b[0m\u001b[0mvocab\u001b[0m\u001b[0;34m=\u001b[0m\u001b[0mvocab\u001b[0m\u001b[0;34m,\u001b[0m \u001b[0mdisable\u001b[0m\u001b[0;34m=\u001b[0m\u001b[0mdisable\u001b[0m\u001b[0;34m,\u001b[0m \u001b[0menable\u001b[0m\u001b[0;34m=\u001b[0m\u001b[0menable\u001b[0m\u001b[0;34m,\u001b[0m \u001b[0mexclude\u001b[0m\u001b[0;34m=\u001b[0m\u001b[0mexclude\u001b[0m\u001b[0;34m,\u001b[0m \u001b[0mconfig\u001b[0m\u001b[0;34m=\u001b[0m\u001b[0mconfig\u001b[0m\u001b[0;34m)\u001b[0m  \u001b[0;31m# type: ignore[attr-defined]\u001b[0m\u001b[0;34m\u001b[0m\u001b[0;34m\u001b[0m\u001b[0m\n\u001b[0m\u001b[1;32m    479\u001b[0m \u001b[0;34m\u001b[0m\u001b[0m\n\u001b[1;32m    480\u001b[0m \u001b[0;34m\u001b[0m\u001b[0m\n",
            "\u001b[0;32m/usr/local/lib/python3.10/dist-packages/es_core_news_lg/__init__.py\u001b[0m in \u001b[0;36mload\u001b[0;34m(**overrides)\u001b[0m\n\u001b[1;32m      8\u001b[0m \u001b[0;34m\u001b[0m\u001b[0m\n\u001b[1;32m      9\u001b[0m \u001b[0;32mdef\u001b[0m \u001b[0mload\u001b[0m\u001b[0;34m(\u001b[0m\u001b[0;34m**\u001b[0m\u001b[0moverrides\u001b[0m\u001b[0;34m)\u001b[0m\u001b[0;34m:\u001b[0m\u001b[0;34m\u001b[0m\u001b[0;34m\u001b[0m\u001b[0m\n\u001b[0;32m---> 10\u001b[0;31m     \u001b[0;32mreturn\u001b[0m \u001b[0mload_model_from_init_py\u001b[0m\u001b[0;34m(\u001b[0m\u001b[0m__file__\u001b[0m\u001b[0;34m,\u001b[0m \u001b[0;34m**\u001b[0m\u001b[0moverrides\u001b[0m\u001b[0;34m)\u001b[0m\u001b[0;34m\u001b[0m\u001b[0;34m\u001b[0m\u001b[0m\n\u001b[0m",
            "\u001b[0;32m/usr/local/lib/python3.10/dist-packages/spacy/util.py\u001b[0m in \u001b[0;36mload_model_from_init_py\u001b[0;34m(init_file, vocab, disable, enable, exclude, config)\u001b[0m\n\u001b[1;32m    657\u001b[0m     \u001b[0;32mif\u001b[0m \u001b[0;32mnot\u001b[0m \u001b[0mmodel_path\u001b[0m\u001b[0;34m.\u001b[0m\u001b[0mexists\u001b[0m\u001b[0;34m(\u001b[0m\u001b[0;34m)\u001b[0m\u001b[0;34m:\u001b[0m\u001b[0;34m\u001b[0m\u001b[0;34m\u001b[0m\u001b[0m\n\u001b[1;32m    658\u001b[0m         \u001b[0;32mraise\u001b[0m \u001b[0mIOError\u001b[0m\u001b[0;34m(\u001b[0m\u001b[0mErrors\u001b[0m\u001b[0;34m.\u001b[0m\u001b[0mE052\u001b[0m\u001b[0;34m.\u001b[0m\u001b[0mformat\u001b[0m\u001b[0;34m(\u001b[0m\u001b[0mpath\u001b[0m\u001b[0;34m=\u001b[0m\u001b[0mdata_path\u001b[0m\u001b[0;34m)\u001b[0m\u001b[0;34m)\u001b[0m\u001b[0;34m\u001b[0m\u001b[0;34m\u001b[0m\u001b[0m\n\u001b[0;32m--> 659\u001b[0;31m     return load_model_from_path(\n\u001b[0m\u001b[1;32m    660\u001b[0m         \u001b[0mdata_path\u001b[0m\u001b[0;34m,\u001b[0m\u001b[0;34m\u001b[0m\u001b[0;34m\u001b[0m\u001b[0m\n\u001b[1;32m    661\u001b[0m         \u001b[0mvocab\u001b[0m\u001b[0;34m=\u001b[0m\u001b[0mvocab\u001b[0m\u001b[0;34m,\u001b[0m\u001b[0;34m\u001b[0m\u001b[0;34m\u001b[0m\u001b[0m\n",
            "\u001b[0;32m/usr/local/lib/python3.10/dist-packages/spacy/util.py\u001b[0m in \u001b[0;36mload_model_from_path\u001b[0;34m(model_path, meta, vocab, disable, enable, exclude, config)\u001b[0m\n\u001b[1;32m    522\u001b[0m         \u001b[0mmeta\u001b[0m\u001b[0;34m=\u001b[0m\u001b[0mmeta\u001b[0m\u001b[0;34m,\u001b[0m\u001b[0;34m\u001b[0m\u001b[0;34m\u001b[0m\u001b[0m\n\u001b[1;32m    523\u001b[0m     )\n\u001b[0;32m--> 524\u001b[0;31m     \u001b[0;32mreturn\u001b[0m \u001b[0mnlp\u001b[0m\u001b[0;34m.\u001b[0m\u001b[0mfrom_disk\u001b[0m\u001b[0;34m(\u001b[0m\u001b[0mmodel_path\u001b[0m\u001b[0;34m,\u001b[0m \u001b[0mexclude\u001b[0m\u001b[0;34m=\u001b[0m\u001b[0mexclude\u001b[0m\u001b[0;34m,\u001b[0m \u001b[0moverrides\u001b[0m\u001b[0;34m=\u001b[0m\u001b[0moverrides\u001b[0m\u001b[0;34m)\u001b[0m\u001b[0;34m\u001b[0m\u001b[0;34m\u001b[0m\u001b[0m\n\u001b[0m\u001b[1;32m    525\u001b[0m \u001b[0;34m\u001b[0m\u001b[0m\n\u001b[1;32m    526\u001b[0m \u001b[0;34m\u001b[0m\u001b[0m\n",
            "\u001b[0;32m/usr/local/lib/python3.10/dist-packages/spacy/language.py\u001b[0m in \u001b[0;36mfrom_disk\u001b[0;34m(self, path, exclude, overrides)\u001b[0m\n\u001b[1;32m   2125\u001b[0m             \u001b[0;31m# Convert to list here in case exclude is (default) tuple\u001b[0m\u001b[0;34m\u001b[0m\u001b[0;34m\u001b[0m\u001b[0m\n\u001b[1;32m   2126\u001b[0m             \u001b[0mexclude\u001b[0m \u001b[0;34m=\u001b[0m \u001b[0mlist\u001b[0m\u001b[0;34m(\u001b[0m\u001b[0mexclude\u001b[0m\u001b[0;34m)\u001b[0m \u001b[0;34m+\u001b[0m \u001b[0;34m[\u001b[0m\u001b[0;34m\"vocab\"\u001b[0m\u001b[0;34m]\u001b[0m\u001b[0;34m\u001b[0m\u001b[0;34m\u001b[0m\u001b[0m\n\u001b[0;32m-> 2127\u001b[0;31m         \u001b[0mutil\u001b[0m\u001b[0;34m.\u001b[0m\u001b[0mfrom_disk\u001b[0m\u001b[0;34m(\u001b[0m\u001b[0mpath\u001b[0m\u001b[0;34m,\u001b[0m \u001b[0mdeserializers\u001b[0m\u001b[0;34m,\u001b[0m \u001b[0mexclude\u001b[0m\u001b[0;34m)\u001b[0m  \u001b[0;31m# type: ignore[arg-type]\u001b[0m\u001b[0;34m\u001b[0m\u001b[0;34m\u001b[0m\u001b[0m\n\u001b[0m\u001b[1;32m   2128\u001b[0m         \u001b[0mself\u001b[0m\u001b[0;34m.\u001b[0m\u001b[0m_path\u001b[0m \u001b[0;34m=\u001b[0m \u001b[0mpath\u001b[0m  \u001b[0;31m# type: ignore[assignment]\u001b[0m\u001b[0;34m\u001b[0m\u001b[0;34m\u001b[0m\u001b[0m\n\u001b[1;32m   2129\u001b[0m         \u001b[0mself\u001b[0m\u001b[0;34m.\u001b[0m\u001b[0m_link_components\u001b[0m\u001b[0;34m(\u001b[0m\u001b[0;34m)\u001b[0m\u001b[0;34m\u001b[0m\u001b[0;34m\u001b[0m\u001b[0m\n",
            "\u001b[0;32m/usr/local/lib/python3.10/dist-packages/spacy/util.py\u001b[0m in \u001b[0;36mfrom_disk\u001b[0;34m(path, readers, exclude)\u001b[0m\n\u001b[1;32m   1367\u001b[0m         \u001b[0;31m# Split to support file names like meta.json\u001b[0m\u001b[0;34m\u001b[0m\u001b[0;34m\u001b[0m\u001b[0m\n\u001b[1;32m   1368\u001b[0m         \u001b[0;32mif\u001b[0m \u001b[0mkey\u001b[0m\u001b[0;34m.\u001b[0m\u001b[0msplit\u001b[0m\u001b[0;34m(\u001b[0m\u001b[0;34m\".\"\u001b[0m\u001b[0;34m)\u001b[0m\u001b[0;34m[\u001b[0m\u001b[0;36m0\u001b[0m\u001b[0;34m]\u001b[0m \u001b[0;32mnot\u001b[0m \u001b[0;32min\u001b[0m \u001b[0mexclude\u001b[0m\u001b[0;34m:\u001b[0m\u001b[0;34m\u001b[0m\u001b[0;34m\u001b[0m\u001b[0m\n\u001b[0;32m-> 1369\u001b[0;31m             \u001b[0mreader\u001b[0m\u001b[0;34m(\u001b[0m\u001b[0mpath\u001b[0m \u001b[0;34m/\u001b[0m \u001b[0mkey\u001b[0m\u001b[0;34m)\u001b[0m\u001b[0;34m\u001b[0m\u001b[0;34m\u001b[0m\u001b[0m\n\u001b[0m\u001b[1;32m   1370\u001b[0m     \u001b[0;32mreturn\u001b[0m \u001b[0mpath\u001b[0m\u001b[0;34m\u001b[0m\u001b[0;34m\u001b[0m\u001b[0m\n\u001b[1;32m   1371\u001b[0m \u001b[0;34m\u001b[0m\u001b[0m\n",
            "\u001b[0;32m/usr/local/lib/python3.10/dist-packages/spacy/language.py\u001b[0m in \u001b[0;36mdeserialize_vocab\u001b[0;34m(path)\u001b[0m\n\u001b[1;32m   2101\u001b[0m         \u001b[0;32mdef\u001b[0m \u001b[0mdeserialize_vocab\u001b[0m\u001b[0;34m(\u001b[0m\u001b[0mpath\u001b[0m\u001b[0;34m:\u001b[0m \u001b[0mPath\u001b[0m\u001b[0;34m)\u001b[0m \u001b[0;34m->\u001b[0m \u001b[0;32mNone\u001b[0m\u001b[0;34m:\u001b[0m\u001b[0;34m\u001b[0m\u001b[0;34m\u001b[0m\u001b[0m\n\u001b[1;32m   2102\u001b[0m             \u001b[0;32mif\u001b[0m \u001b[0mpath\u001b[0m\u001b[0;34m.\u001b[0m\u001b[0mexists\u001b[0m\u001b[0;34m(\u001b[0m\u001b[0;34m)\u001b[0m\u001b[0;34m:\u001b[0m\u001b[0;34m\u001b[0m\u001b[0;34m\u001b[0m\u001b[0m\n\u001b[0;32m-> 2103\u001b[0;31m                 \u001b[0mself\u001b[0m\u001b[0;34m.\u001b[0m\u001b[0mvocab\u001b[0m\u001b[0;34m.\u001b[0m\u001b[0mfrom_disk\u001b[0m\u001b[0;34m(\u001b[0m\u001b[0mpath\u001b[0m\u001b[0;34m,\u001b[0m \u001b[0mexclude\u001b[0m\u001b[0;34m=\u001b[0m\u001b[0mexclude\u001b[0m\u001b[0;34m)\u001b[0m\u001b[0;34m\u001b[0m\u001b[0;34m\u001b[0m\u001b[0m\n\u001b[0m\u001b[1;32m   2104\u001b[0m \u001b[0;34m\u001b[0m\u001b[0m\n\u001b[1;32m   2105\u001b[0m         \u001b[0mpath\u001b[0m \u001b[0;34m=\u001b[0m \u001b[0mutil\u001b[0m\u001b[0;34m.\u001b[0m\u001b[0mensure_path\u001b[0m\u001b[0;34m(\u001b[0m\u001b[0mpath\u001b[0m\u001b[0;34m)\u001b[0m\u001b[0;34m\u001b[0m\u001b[0;34m\u001b[0m\u001b[0m\n",
            "\u001b[0;32m/usr/local/lib/python3.10/dist-packages/spacy/vocab.pyx\u001b[0m in \u001b[0;36mspacy.vocab.Vocab.from_disk\u001b[0;34m()\u001b[0m\n",
            "\u001b[0;32m/usr/local/lib/python3.10/dist-packages/spacy/vectors.pyx\u001b[0m in \u001b[0;36mspacy.vectors.Vectors.from_disk\u001b[0;34m()\u001b[0m\n",
            "\u001b[0;32m/usr/local/lib/python3.10/dist-packages/spacy/util.py\u001b[0m in \u001b[0;36mfrom_disk\u001b[0;34m(path, readers, exclude)\u001b[0m\n\u001b[1;32m   1358\u001b[0m \u001b[0;34m\u001b[0m\u001b[0m\n\u001b[1;32m   1359\u001b[0m \u001b[0;34m\u001b[0m\u001b[0m\n\u001b[0;32m-> 1360\u001b[0;31m def from_disk(\n\u001b[0m\u001b[1;32m   1361\u001b[0m     \u001b[0mpath\u001b[0m\u001b[0;34m:\u001b[0m \u001b[0mUnion\u001b[0m\u001b[0;34m[\u001b[0m\u001b[0mstr\u001b[0m\u001b[0;34m,\u001b[0m \u001b[0mPath\u001b[0m\u001b[0;34m]\u001b[0m\u001b[0;34m,\u001b[0m\u001b[0;34m\u001b[0m\u001b[0;34m\u001b[0m\u001b[0m\n\u001b[1;32m   1362\u001b[0m     \u001b[0mreaders\u001b[0m\u001b[0;34m:\u001b[0m \u001b[0mDict\u001b[0m\u001b[0;34m[\u001b[0m\u001b[0mstr\u001b[0m\u001b[0;34m,\u001b[0m \u001b[0mCallable\u001b[0m\u001b[0;34m[\u001b[0m\u001b[0;34m[\u001b[0m\u001b[0mPath\u001b[0m\u001b[0;34m]\u001b[0m\u001b[0;34m,\u001b[0m \u001b[0;32mNone\u001b[0m\u001b[0;34m]\u001b[0m\u001b[0;34m]\u001b[0m\u001b[0;34m,\u001b[0m\u001b[0;34m\u001b[0m\u001b[0;34m\u001b[0m\u001b[0m\n",
            "\u001b[0;31mKeyboardInterrupt\u001b[0m: "
          ]
        }
      ]
    },
    {
      "cell_type": "markdown",
      "source": [
        "## Description processing"
      ],
      "metadata": {
        "id": "uiQwylakWnaP"
      }
    },
    {
      "cell_type": "code",
      "source": [
        "df_libros: pd.DataFrame = pd.read_csv('books.csv')\n",
        "df_pelicuas: pd.DataFrame = pd.read_csv('IMDB-Movie-Data.csv')\n",
        "df_juegos: pd.DataFrame = pd.read_csv('bgg_database.csv')"
      ],
      "metadata": {
        "id": "hWbcdfRSWvpM"
      },
      "execution_count": 40,
      "outputs": []
    },
    {
      "cell_type": "markdown",
      "source": [
        "Normalización del texto, conversion a minuscula"
      ],
      "metadata": {
        "id": "r3vwIXb2W_70"
      }
    },
    {
      "cell_type": "code",
      "source": [
        "df_peliculas['description'] = df_peliculas['Description'].str.lower()\n",
        "df_libros['summary'] = df_libros['summary'].str.lower()\n",
        "df_juegos['Description'] = df_juegos['description'].str.lower()\n",
        "df_peliculas['Title'] = df_peliculas['Title'].str.lower()\n",
        "df_libros['title'] = df_libros['title'].str.lower()\n",
        "df_juegos['game_name'] = df_juegos['game_name'].str.lower()"
      ],
      "metadata": {
        "id": "b6VsyaKWWrzp"
      },
      "execution_count": 42,
      "outputs": []
    },
    {
      "cell_type": "markdown",
      "source": [
        "Remoción de stopwords con nltk"
      ],
      "metadata": {
        "id": "_WjT-oqaXTMZ"
      }
    },
    {
      "cell_type": "code",
      "source": [
        "nltk.download('stopwords')\n",
        "nltk.download('punkt')\n",
        "\n",
        "stop_words = set(stopwords.words('english'))\n",
        "\n",
        "def remove_stopwords(text: str) -> str:\n",
        "    \"\"\"\n",
        "    Remueve stopwords de un texto en ingles. Retorna el texto sin stopwords.\n",
        "    \"\"\"\n",
        "    word_tokens = word_tokenize(text)\n",
        "    filtered_text = [word for word in word_tokens if word.casefold() not in stop_words]\n",
        "    return \" \".join(filtered_text)"
      ],
      "metadata": {
        "id": "ZWkbfFTHXSxz",
        "outputId": "9bc5c888-3a80-428f-98a5-f435f59eadc1",
        "colab": {
          "base_uri": "https://localhost:8080/"
        }
      },
      "execution_count": 44,
      "outputs": [
        {
          "output_type": "stream",
          "name": "stderr",
          "text": [
            "[nltk_data] Downloading package stopwords to /root/nltk_data...\n",
            "[nltk_data]   Package stopwords is already up-to-date!\n",
            "[nltk_data] Downloading package punkt to /root/nltk_data...\n",
            "[nltk_data]   Package punkt is already up-to-date!\n"
          ]
        }
      ]
    },
    {
      "cell_type": "code",
      "source": [
        "df_libros.info()"
      ],
      "metadata": {
        "id": "ugHHsvubX4Fu",
        "outputId": "0ba3488a-a7d6-4b85-9378-27308c45c935",
        "colab": {
          "base_uri": "https://localhost:8080/"
        }
      },
      "execution_count": 48,
      "outputs": [
        {
          "output_type": "stream",
          "name": "stdout",
          "text": [
            "<class 'pandas.core.frame.DataFrame'>\n",
            "RangeIndex: 1000 entries, 0 to 999\n",
            "Data columns (total 4 columns):\n",
            " #   Column      Non-Null Count  Dtype \n",
            "---  ------      --------------  ----- \n",
            " 0   Unnamed: 0  1000 non-null   int64 \n",
            " 1   title       1000 non-null   object\n",
            " 2   link        1000 non-null   object\n",
            " 3   summary     954 non-null    object\n",
            "dtypes: int64(1), object(3)\n",
            "memory usage: 31.4+ KB\n"
          ]
        }
      ]
    },
    {
      "cell_type": "code",
      "source": [
        "df_libros = df_libros.dropna()"
      ],
      "metadata": {
        "id": "3gL8mQwxYY38"
      },
      "execution_count": 51,
      "outputs": []
    },
    {
      "cell_type": "code",
      "source": [
        "df_peliculas['description_no_stopwords'] = df_peliculas['description'].apply(remove_stopwords)\n",
        "df_libros['summary_no_stopwords'] = df_libros['summary'].apply(remove_stopwords)\n",
        "df_juegos['Description_no_stopwords'] = df_juegos['Description'].apply(remove_stopwords)"
      ],
      "metadata": {
        "id": "8BiJU4E0XqYf"
      },
      "execution_count": 52,
      "outputs": []
    },
    {
      "cell_type": "markdown",
      "source": [
        "Lematización del texto"
      ],
      "metadata": {
        "id": "ZykB_6vYXzlk"
      }
    },
    {
      "cell_type": "code",
      "source": [
        "!python -m spacy download en_core_web_sm\n",
        "lemmatizer = spacy.load(\"en_core_web_sm\")\n",
        "\n",
        "def lematizar_texto(texto: str) -> str:\n",
        "    \"\"\"\n",
        "    Función para lematizar un texto en inglés\n",
        "    \"\"\"\n",
        "    lemmatizer_ = lemmatizer(texto)\n",
        "    lemmas = [tok.lemma_.lower() for tok in lemmatizer_]\n",
        "    return ' '.join(lemmas)"
      ],
      "metadata": {
        "id": "E8t5zMOwXzaQ",
        "outputId": "499e4348-fac9-4327-dc96-41a87ba2218a",
        "colab": {
          "base_uri": "https://localhost:8080/"
        }
      },
      "execution_count": 62,
      "outputs": [
        {
          "output_type": "stream",
          "name": "stdout",
          "text": [
            "2024-11-05 12:59:14.093966: E external/local_xla/xla/stream_executor/cuda/cuda_fft.cc:485] Unable to register cuFFT factory: Attempting to register factory for plugin cuFFT when one has already been registered\n",
            "2024-11-05 12:59:14.138708: E external/local_xla/xla/stream_executor/cuda/cuda_dnn.cc:8454] Unable to register cuDNN factory: Attempting to register factory for plugin cuDNN when one has already been registered\n",
            "2024-11-05 12:59:14.152443: E external/local_xla/xla/stream_executor/cuda/cuda_blas.cc:1452] Unable to register cuBLAS factory: Attempting to register factory for plugin cuBLAS when one has already been registered\n",
            "2024-11-05 12:59:16.966256: W tensorflow/compiler/tf2tensorrt/utils/py_utils.cc:38] TF-TRT Warning: Could not find TensorRT\n",
            "Collecting en-core-web-sm==3.5.0\n",
            "  Downloading https://github.com/explosion/spacy-models/releases/download/en_core_web_sm-3.5.0/en_core_web_sm-3.5.0-py3-none-any.whl (12.8 MB)\n",
            "\u001b[2K     \u001b[90m━━━━━━━━━━━━━━━━━━━━━━━━━━━━━━━━━━━━━━━━\u001b[0m \u001b[32m12.8/12.8 MB\u001b[0m \u001b[31m23.4 MB/s\u001b[0m eta \u001b[36m0:00:00\u001b[0m\n",
            "\u001b[?25hRequirement already satisfied: spacy<3.6.0,>=3.5.0 in /usr/local/lib/python3.10/dist-packages (from en-core-web-sm==3.5.0) (3.5.4)\n",
            "Requirement already satisfied: spacy-legacy<3.1.0,>=3.0.11 in /usr/local/lib/python3.10/dist-packages (from spacy<3.6.0,>=3.5.0->en-core-web-sm==3.5.0) (3.0.12)\n",
            "Requirement already satisfied: spacy-loggers<2.0.0,>=1.0.0 in /usr/local/lib/python3.10/dist-packages (from spacy<3.6.0,>=3.5.0->en-core-web-sm==3.5.0) (1.0.5)\n",
            "Requirement already satisfied: murmurhash<1.1.0,>=0.28.0 in /usr/local/lib/python3.10/dist-packages (from spacy<3.6.0,>=3.5.0->en-core-web-sm==3.5.0) (1.0.10)\n",
            "Requirement already satisfied: cymem<2.1.0,>=2.0.2 in /usr/local/lib/python3.10/dist-packages (from spacy<3.6.0,>=3.5.0->en-core-web-sm==3.5.0) (2.0.8)\n",
            "Requirement already satisfied: preshed<3.1.0,>=3.0.2 in /usr/local/lib/python3.10/dist-packages (from spacy<3.6.0,>=3.5.0->en-core-web-sm==3.5.0) (3.0.9)\n",
            "Requirement already satisfied: thinc<8.2.0,>=8.1.8 in /usr/local/lib/python3.10/dist-packages (from spacy<3.6.0,>=3.5.0->en-core-web-sm==3.5.0) (8.1.12)\n",
            "Requirement already satisfied: wasabi<1.2.0,>=0.9.1 in /usr/local/lib/python3.10/dist-packages (from spacy<3.6.0,>=3.5.0->en-core-web-sm==3.5.0) (1.1.3)\n",
            "Requirement already satisfied: srsly<3.0.0,>=2.4.3 in /usr/local/lib/python3.10/dist-packages (from spacy<3.6.0,>=3.5.0->en-core-web-sm==3.5.0) (2.4.8)\n",
            "Requirement already satisfied: catalogue<2.1.0,>=2.0.6 in /usr/local/lib/python3.10/dist-packages (from spacy<3.6.0,>=3.5.0->en-core-web-sm==3.5.0) (2.0.10)\n",
            "Requirement already satisfied: typer<0.10.0,>=0.3.0 in /usr/local/lib/python3.10/dist-packages (from spacy<3.6.0,>=3.5.0->en-core-web-sm==3.5.0) (0.9.4)\n",
            "Requirement already satisfied: pathy>=0.10.0 in /usr/local/lib/python3.10/dist-packages (from spacy<3.6.0,>=3.5.0->en-core-web-sm==3.5.0) (0.11.0)\n",
            "Requirement already satisfied: smart-open<7.0.0,>=5.2.1 in /usr/local/lib/python3.10/dist-packages (from spacy<3.6.0,>=3.5.0->en-core-web-sm==3.5.0) (6.4.0)\n",
            "Requirement already satisfied: tqdm<5.0.0,>=4.38.0 in /usr/local/lib/python3.10/dist-packages (from spacy<3.6.0,>=3.5.0->en-core-web-sm==3.5.0) (4.66.6)\n",
            "Requirement already satisfied: numpy>=1.15.0 in /usr/local/lib/python3.10/dist-packages (from spacy<3.6.0,>=3.5.0->en-core-web-sm==3.5.0) (1.26.4)\n",
            "Requirement already satisfied: requests<3.0.0,>=2.13.0 in /usr/local/lib/python3.10/dist-packages (from spacy<3.6.0,>=3.5.0->en-core-web-sm==3.5.0) (2.32.3)\n",
            "Requirement already satisfied: pydantic!=1.8,!=1.8.1,<1.11.0,>=1.7.4 in /usr/local/lib/python3.10/dist-packages (from spacy<3.6.0,>=3.5.0->en-core-web-sm==3.5.0) (1.10.18)\n",
            "Requirement already satisfied: jinja2 in /usr/local/lib/python3.10/dist-packages (from spacy<3.6.0,>=3.5.0->en-core-web-sm==3.5.0) (3.1.4)\n",
            "Requirement already satisfied: setuptools in /usr/local/lib/python3.10/dist-packages (from spacy<3.6.0,>=3.5.0->en-core-web-sm==3.5.0) (75.1.0)\n",
            "Requirement already satisfied: packaging>=20.0 in /usr/local/lib/python3.10/dist-packages (from spacy<3.6.0,>=3.5.0->en-core-web-sm==3.5.0) (24.1)\n",
            "Requirement already satisfied: langcodes<4.0.0,>=3.2.0 in /usr/local/lib/python3.10/dist-packages (from spacy<3.6.0,>=3.5.0->en-core-web-sm==3.5.0) (3.4.1)\n",
            "Requirement already satisfied: language-data>=1.2 in /usr/local/lib/python3.10/dist-packages (from langcodes<4.0.0,>=3.2.0->spacy<3.6.0,>=3.5.0->en-core-web-sm==3.5.0) (1.2.0)\n",
            "Requirement already satisfied: pathlib-abc==0.1.1 in /usr/local/lib/python3.10/dist-packages (from pathy>=0.10.0->spacy<3.6.0,>=3.5.0->en-core-web-sm==3.5.0) (0.1.1)\n",
            "Requirement already satisfied: typing-extensions>=4.2.0 in /usr/local/lib/python3.10/dist-packages (from pydantic!=1.8,!=1.8.1,<1.11.0,>=1.7.4->spacy<3.6.0,>=3.5.0->en-core-web-sm==3.5.0) (4.12.2)\n",
            "Requirement already satisfied: charset-normalizer<4,>=2 in /usr/local/lib/python3.10/dist-packages (from requests<3.0.0,>=2.13.0->spacy<3.6.0,>=3.5.0->en-core-web-sm==3.5.0) (3.4.0)\n",
            "Requirement already satisfied: idna<4,>=2.5 in /usr/local/lib/python3.10/dist-packages (from requests<3.0.0,>=2.13.0->spacy<3.6.0,>=3.5.0->en-core-web-sm==3.5.0) (3.10)\n",
            "Requirement already satisfied: urllib3<3,>=1.21.1 in /usr/local/lib/python3.10/dist-packages (from requests<3.0.0,>=2.13.0->spacy<3.6.0,>=3.5.0->en-core-web-sm==3.5.0) (2.2.3)\n",
            "Requirement already satisfied: certifi>=2017.4.17 in /usr/local/lib/python3.10/dist-packages (from requests<3.0.0,>=2.13.0->spacy<3.6.0,>=3.5.0->en-core-web-sm==3.5.0) (2024.8.30)\n",
            "Requirement already satisfied: blis<0.8.0,>=0.7.8 in /usr/local/lib/python3.10/dist-packages (from thinc<8.2.0,>=8.1.8->spacy<3.6.0,>=3.5.0->en-core-web-sm==3.5.0) (0.7.11)\n",
            "Requirement already satisfied: confection<1.0.0,>=0.0.1 in /usr/local/lib/python3.10/dist-packages (from thinc<8.2.0,>=8.1.8->spacy<3.6.0,>=3.5.0->en-core-web-sm==3.5.0) (0.1.5)\n",
            "Requirement already satisfied: click<9.0.0,>=7.1.1 in /usr/local/lib/python3.10/dist-packages (from typer<0.10.0,>=0.3.0->spacy<3.6.0,>=3.5.0->en-core-web-sm==3.5.0) (8.1.7)\n",
            "Requirement already satisfied: MarkupSafe>=2.0 in /usr/local/lib/python3.10/dist-packages (from jinja2->spacy<3.6.0,>=3.5.0->en-core-web-sm==3.5.0) (3.0.2)\n",
            "Requirement already satisfied: marisa-trie>=0.7.7 in /usr/local/lib/python3.10/dist-packages (from language-data>=1.2->langcodes<4.0.0,>=3.2.0->spacy<3.6.0,>=3.5.0->en-core-web-sm==3.5.0) (1.2.1)\n",
            "\u001b[38;5;2m✔ Download and installation successful\u001b[0m\n",
            "You can now load the package via spacy.load('en_core_web_sm')\n"
          ]
        }
      ]
    },
    {
      "cell_type": "code",
      "source": [
        "df_libros['summary_lematizado'] = df_libros['summary_no_stopwords'].apply(lematizar_texto)\n",
        "df_peliculas['description_lematizado'] = df_peliculas['description_no_stopwords'].apply(lematizar_texto)\n",
        "df_juegos['Description_lematizado'] = df_juegos['Description_no_stopwords'].apply(lematizar_texto)"
      ],
      "metadata": {
        "id": "S9Qw9ZEKZ7PS"
      },
      "execution_count": 63,
      "outputs": []
    },
    {
      "cell_type": "code",
      "source": [
        "df_libros.sample(8)"
      ],
      "metadata": {
        "id": "X9dNEDvrazDd",
        "outputId": "a5b460b7-d80a-4fd3-ae16-b146a6f1363d",
        "colab": {
          "base_uri": "https://localhost:8080/",
          "height": 422
        }
      },
      "execution_count": 64,
      "outputs": [
        {
          "output_type": "execute_result",
          "data": {
            "text/plain": [
              "     Unnamed: 0                                              title  \\\n",
              "63           63  narrative of the life of frederick douglass, a...   \n",
              "504         504         the murder on the links by agatha christie   \n",
              "344         344  the three musketeers by alexandre dumas and au...   \n",
              "756         756  nathan the wise; a dramatic poem in five acts ...   \n",
              "315         315                         revelations of divine love   \n",
              "665         665  nil darpan; or, the indigo planting mirror, a ...   \n",
              "716         716  the danish history, books i-ix by grammaticus ...   \n",
              "393         393              language of flowers by kate greenaway   \n",
              "\n",
              "              link                                            summary  \\\n",
              "63      /ebooks/23  \"narrative of the life of frederick douglass, ...   \n",
              "504  /ebooks/58866  \"the murder on the links\" by agatha christie i...   \n",
              "344   /ebooks/1257  \"the three musketeers\" by alexandre dumas is a...   \n",
              "756   /ebooks/3820  \"nathan the wise\" by gotthold ephraim lessing ...   \n",
              "315  /ebooks/52958  \"revelations of divine love\" by julian of norw...   \n",
              "665  /ebooks/54027  \"nil darpan; or, the indigo planting mirror\" b...   \n",
              "716   /ebooks/1150  \"the danish history, books i-ix\" by saxo gramm...   \n",
              "393  /ebooks/31591  \"language of flowers\" by kate greenaway is a b...   \n",
              "\n",
              "                                  summary_no_stopwords  \\\n",
              "63   `` narrative life frederick douglass , america...   \n",
              "504  `` murder links '' agatha christie detective n...   \n",
              "344  `` three musketeers '' alexandre dumas classic...   \n",
              "756  `` nathan wise '' gotthold ephraim lessing dra...   \n",
              "315  `` revelations divine love '' julian norwich s...   \n",
              "665  `` nil darpan ; , indigo planting mirror '' di...   \n",
              "716  `` danish history , books i-ix '' saxo grammat...   \n",
              "393  `` language flowers '' kate greenaway beautifu...   \n",
              "\n",
              "                                    summary_lematizado  \n",
              "63   ` ` narrative life frederick douglass , americ...  \n",
              "504  ` ` murder link '' agatha christie detective n...  \n",
              "344  ` ` three musketeer '' alexandre duma classic ...  \n",
              "756  ` ` nathan wise '' gotthold ephraim lesse dram...  \n",
              "315  ` ` revelation divine love '' julian norwich s...  \n",
              "665  ` ` nil darpan ; , indigo planting mirror '' d...  \n",
              "716  ` ` danish history , book i - ix '' saxo gramm...  \n",
              "393  ` ` language flower '' kate greenaway beautifu...  "
            ],
            "text/html": [
              "\n",
              "  <div id=\"df-f871c765-c6bb-48d9-9de5-b123f9e6c9d1\" class=\"colab-df-container\">\n",
              "    <div>\n",
              "<style scoped>\n",
              "    .dataframe tbody tr th:only-of-type {\n",
              "        vertical-align: middle;\n",
              "    }\n",
              "\n",
              "    .dataframe tbody tr th {\n",
              "        vertical-align: top;\n",
              "    }\n",
              "\n",
              "    .dataframe thead th {\n",
              "        text-align: right;\n",
              "    }\n",
              "</style>\n",
              "<table border=\"1\" class=\"dataframe\">\n",
              "  <thead>\n",
              "    <tr style=\"text-align: right;\">\n",
              "      <th></th>\n",
              "      <th>Unnamed: 0</th>\n",
              "      <th>title</th>\n",
              "      <th>link</th>\n",
              "      <th>summary</th>\n",
              "      <th>summary_no_stopwords</th>\n",
              "      <th>summary_lematizado</th>\n",
              "    </tr>\n",
              "  </thead>\n",
              "  <tbody>\n",
              "    <tr>\n",
              "      <th>63</th>\n",
              "      <td>63</td>\n",
              "      <td>narrative of the life of frederick douglass, a...</td>\n",
              "      <td>/ebooks/23</td>\n",
              "      <td>\"narrative of the life of frederick douglass, ...</td>\n",
              "      <td>`` narrative life frederick douglass , america...</td>\n",
              "      <td>` ` narrative life frederick douglass , americ...</td>\n",
              "    </tr>\n",
              "    <tr>\n",
              "      <th>504</th>\n",
              "      <td>504</td>\n",
              "      <td>the murder on the links by agatha christie</td>\n",
              "      <td>/ebooks/58866</td>\n",
              "      <td>\"the murder on the links\" by agatha christie i...</td>\n",
              "      <td>`` murder links '' agatha christie detective n...</td>\n",
              "      <td>` ` murder link '' agatha christie detective n...</td>\n",
              "    </tr>\n",
              "    <tr>\n",
              "      <th>344</th>\n",
              "      <td>344</td>\n",
              "      <td>the three musketeers by alexandre dumas and au...</td>\n",
              "      <td>/ebooks/1257</td>\n",
              "      <td>\"the three musketeers\" by alexandre dumas is a...</td>\n",
              "      <td>`` three musketeers '' alexandre dumas classic...</td>\n",
              "      <td>` ` three musketeer '' alexandre duma classic ...</td>\n",
              "    </tr>\n",
              "    <tr>\n",
              "      <th>756</th>\n",
              "      <td>756</td>\n",
              "      <td>nathan the wise; a dramatic poem in five acts ...</td>\n",
              "      <td>/ebooks/3820</td>\n",
              "      <td>\"nathan the wise\" by gotthold ephraim lessing ...</td>\n",
              "      <td>`` nathan wise '' gotthold ephraim lessing dra...</td>\n",
              "      <td>` ` nathan wise '' gotthold ephraim lesse dram...</td>\n",
              "    </tr>\n",
              "    <tr>\n",
              "      <th>315</th>\n",
              "      <td>315</td>\n",
              "      <td>revelations of divine love</td>\n",
              "      <td>/ebooks/52958</td>\n",
              "      <td>\"revelations of divine love\" by julian of norw...</td>\n",
              "      <td>`` revelations divine love '' julian norwich s...</td>\n",
              "      <td>` ` revelation divine love '' julian norwich s...</td>\n",
              "    </tr>\n",
              "    <tr>\n",
              "      <th>665</th>\n",
              "      <td>665</td>\n",
              "      <td>nil darpan; or, the indigo planting mirror, a ...</td>\n",
              "      <td>/ebooks/54027</td>\n",
              "      <td>\"nil darpan; or, the indigo planting mirror\" b...</td>\n",
              "      <td>`` nil darpan ; , indigo planting mirror '' di...</td>\n",
              "      <td>` ` nil darpan ; , indigo planting mirror '' d...</td>\n",
              "    </tr>\n",
              "    <tr>\n",
              "      <th>716</th>\n",
              "      <td>716</td>\n",
              "      <td>the danish history, books i-ix by grammaticus ...</td>\n",
              "      <td>/ebooks/1150</td>\n",
              "      <td>\"the danish history, books i-ix\" by saxo gramm...</td>\n",
              "      <td>`` danish history , books i-ix '' saxo grammat...</td>\n",
              "      <td>` ` danish history , book i - ix '' saxo gramm...</td>\n",
              "    </tr>\n",
              "    <tr>\n",
              "      <th>393</th>\n",
              "      <td>393</td>\n",
              "      <td>language of flowers by kate greenaway</td>\n",
              "      <td>/ebooks/31591</td>\n",
              "      <td>\"language of flowers\" by kate greenaway is a b...</td>\n",
              "      <td>`` language flowers '' kate greenaway beautifu...</td>\n",
              "      <td>` ` language flower '' kate greenaway beautifu...</td>\n",
              "    </tr>\n",
              "  </tbody>\n",
              "</table>\n",
              "</div>\n",
              "    <div class=\"colab-df-buttons\">\n",
              "\n",
              "  <div class=\"colab-df-container\">\n",
              "    <button class=\"colab-df-convert\" onclick=\"convertToInteractive('df-f871c765-c6bb-48d9-9de5-b123f9e6c9d1')\"\n",
              "            title=\"Convert this dataframe to an interactive table.\"\n",
              "            style=\"display:none;\">\n",
              "\n",
              "  <svg xmlns=\"http://www.w3.org/2000/svg\" height=\"24px\" viewBox=\"0 -960 960 960\">\n",
              "    <path d=\"M120-120v-720h720v720H120Zm60-500h600v-160H180v160Zm220 220h160v-160H400v160Zm0 220h160v-160H400v160ZM180-400h160v-160H180v160Zm440 0h160v-160H620v160ZM180-180h160v-160H180v160Zm440 0h160v-160H620v160Z\"/>\n",
              "  </svg>\n",
              "    </button>\n",
              "\n",
              "  <style>\n",
              "    .colab-df-container {\n",
              "      display:flex;\n",
              "      gap: 12px;\n",
              "    }\n",
              "\n",
              "    .colab-df-convert {\n",
              "      background-color: #E8F0FE;\n",
              "      border: none;\n",
              "      border-radius: 50%;\n",
              "      cursor: pointer;\n",
              "      display: none;\n",
              "      fill: #1967D2;\n",
              "      height: 32px;\n",
              "      padding: 0 0 0 0;\n",
              "      width: 32px;\n",
              "    }\n",
              "\n",
              "    .colab-df-convert:hover {\n",
              "      background-color: #E2EBFA;\n",
              "      box-shadow: 0px 1px 2px rgba(60, 64, 67, 0.3), 0px 1px 3px 1px rgba(60, 64, 67, 0.15);\n",
              "      fill: #174EA6;\n",
              "    }\n",
              "\n",
              "    .colab-df-buttons div {\n",
              "      margin-bottom: 4px;\n",
              "    }\n",
              "\n",
              "    [theme=dark] .colab-df-convert {\n",
              "      background-color: #3B4455;\n",
              "      fill: #D2E3FC;\n",
              "    }\n",
              "\n",
              "    [theme=dark] .colab-df-convert:hover {\n",
              "      background-color: #434B5C;\n",
              "      box-shadow: 0px 1px 3px 1px rgba(0, 0, 0, 0.15);\n",
              "      filter: drop-shadow(0px 1px 2px rgba(0, 0, 0, 0.3));\n",
              "      fill: #FFFFFF;\n",
              "    }\n",
              "  </style>\n",
              "\n",
              "    <script>\n",
              "      const buttonEl =\n",
              "        document.querySelector('#df-f871c765-c6bb-48d9-9de5-b123f9e6c9d1 button.colab-df-convert');\n",
              "      buttonEl.style.display =\n",
              "        google.colab.kernel.accessAllowed ? 'block' : 'none';\n",
              "\n",
              "      async function convertToInteractive(key) {\n",
              "        const element = document.querySelector('#df-f871c765-c6bb-48d9-9de5-b123f9e6c9d1');\n",
              "        const dataTable =\n",
              "          await google.colab.kernel.invokeFunction('convertToInteractive',\n",
              "                                                    [key], {});\n",
              "        if (!dataTable) return;\n",
              "\n",
              "        const docLinkHtml = 'Like what you see? Visit the ' +\n",
              "          '<a target=\"_blank\" href=https://colab.research.google.com/notebooks/data_table.ipynb>data table notebook</a>'\n",
              "          + ' to learn more about interactive tables.';\n",
              "        element.innerHTML = '';\n",
              "        dataTable['output_type'] = 'display_data';\n",
              "        await google.colab.output.renderOutput(dataTable, element);\n",
              "        const docLink = document.createElement('div');\n",
              "        docLink.innerHTML = docLinkHtml;\n",
              "        element.appendChild(docLink);\n",
              "      }\n",
              "    </script>\n",
              "  </div>\n",
              "\n",
              "\n",
              "<div id=\"df-3d86403d-28dd-4a05-b3fe-37d39d690366\">\n",
              "  <button class=\"colab-df-quickchart\" onclick=\"quickchart('df-3d86403d-28dd-4a05-b3fe-37d39d690366')\"\n",
              "            title=\"Suggest charts\"\n",
              "            style=\"display:none;\">\n",
              "\n",
              "<svg xmlns=\"http://www.w3.org/2000/svg\" height=\"24px\"viewBox=\"0 0 24 24\"\n",
              "     width=\"24px\">\n",
              "    <g>\n",
              "        <path d=\"M19 3H5c-1.1 0-2 .9-2 2v14c0 1.1.9 2 2 2h14c1.1 0 2-.9 2-2V5c0-1.1-.9-2-2-2zM9 17H7v-7h2v7zm4 0h-2V7h2v10zm4 0h-2v-4h2v4z\"/>\n",
              "    </g>\n",
              "</svg>\n",
              "  </button>\n",
              "\n",
              "<style>\n",
              "  .colab-df-quickchart {\n",
              "      --bg-color: #E8F0FE;\n",
              "      --fill-color: #1967D2;\n",
              "      --hover-bg-color: #E2EBFA;\n",
              "      --hover-fill-color: #174EA6;\n",
              "      --disabled-fill-color: #AAA;\n",
              "      --disabled-bg-color: #DDD;\n",
              "  }\n",
              "\n",
              "  [theme=dark] .colab-df-quickchart {\n",
              "      --bg-color: #3B4455;\n",
              "      --fill-color: #D2E3FC;\n",
              "      --hover-bg-color: #434B5C;\n",
              "      --hover-fill-color: #FFFFFF;\n",
              "      --disabled-bg-color: #3B4455;\n",
              "      --disabled-fill-color: #666;\n",
              "  }\n",
              "\n",
              "  .colab-df-quickchart {\n",
              "    background-color: var(--bg-color);\n",
              "    border: none;\n",
              "    border-radius: 50%;\n",
              "    cursor: pointer;\n",
              "    display: none;\n",
              "    fill: var(--fill-color);\n",
              "    height: 32px;\n",
              "    padding: 0;\n",
              "    width: 32px;\n",
              "  }\n",
              "\n",
              "  .colab-df-quickchart:hover {\n",
              "    background-color: var(--hover-bg-color);\n",
              "    box-shadow: 0 1px 2px rgba(60, 64, 67, 0.3), 0 1px 3px 1px rgba(60, 64, 67, 0.15);\n",
              "    fill: var(--button-hover-fill-color);\n",
              "  }\n",
              "\n",
              "  .colab-df-quickchart-complete:disabled,\n",
              "  .colab-df-quickchart-complete:disabled:hover {\n",
              "    background-color: var(--disabled-bg-color);\n",
              "    fill: var(--disabled-fill-color);\n",
              "    box-shadow: none;\n",
              "  }\n",
              "\n",
              "  .colab-df-spinner {\n",
              "    border: 2px solid var(--fill-color);\n",
              "    border-color: transparent;\n",
              "    border-bottom-color: var(--fill-color);\n",
              "    animation:\n",
              "      spin 1s steps(1) infinite;\n",
              "  }\n",
              "\n",
              "  @keyframes spin {\n",
              "    0% {\n",
              "      border-color: transparent;\n",
              "      border-bottom-color: var(--fill-color);\n",
              "      border-left-color: var(--fill-color);\n",
              "    }\n",
              "    20% {\n",
              "      border-color: transparent;\n",
              "      border-left-color: var(--fill-color);\n",
              "      border-top-color: var(--fill-color);\n",
              "    }\n",
              "    30% {\n",
              "      border-color: transparent;\n",
              "      border-left-color: var(--fill-color);\n",
              "      border-top-color: var(--fill-color);\n",
              "      border-right-color: var(--fill-color);\n",
              "    }\n",
              "    40% {\n",
              "      border-color: transparent;\n",
              "      border-right-color: var(--fill-color);\n",
              "      border-top-color: var(--fill-color);\n",
              "    }\n",
              "    60% {\n",
              "      border-color: transparent;\n",
              "      border-right-color: var(--fill-color);\n",
              "    }\n",
              "    80% {\n",
              "      border-color: transparent;\n",
              "      border-right-color: var(--fill-color);\n",
              "      border-bottom-color: var(--fill-color);\n",
              "    }\n",
              "    90% {\n",
              "      border-color: transparent;\n",
              "      border-bottom-color: var(--fill-color);\n",
              "    }\n",
              "  }\n",
              "</style>\n",
              "\n",
              "  <script>\n",
              "    async function quickchart(key) {\n",
              "      const quickchartButtonEl =\n",
              "        document.querySelector('#' + key + ' button');\n",
              "      quickchartButtonEl.disabled = true;  // To prevent multiple clicks.\n",
              "      quickchartButtonEl.classList.add('colab-df-spinner');\n",
              "      try {\n",
              "        const charts = await google.colab.kernel.invokeFunction(\n",
              "            'suggestCharts', [key], {});\n",
              "      } catch (error) {\n",
              "        console.error('Error during call to suggestCharts:', error);\n",
              "      }\n",
              "      quickchartButtonEl.classList.remove('colab-df-spinner');\n",
              "      quickchartButtonEl.classList.add('colab-df-quickchart-complete');\n",
              "    }\n",
              "    (() => {\n",
              "      let quickchartButtonEl =\n",
              "        document.querySelector('#df-3d86403d-28dd-4a05-b3fe-37d39d690366 button');\n",
              "      quickchartButtonEl.style.display =\n",
              "        google.colab.kernel.accessAllowed ? 'block' : 'none';\n",
              "    })();\n",
              "  </script>\n",
              "</div>\n",
              "\n",
              "    </div>\n",
              "  </div>\n"
            ],
            "application/vnd.google.colaboratory.intrinsic+json": {
              "type": "dataframe",
              "summary": "{\n  \"name\": \"df_libros\",\n  \"rows\": 8,\n  \"fields\": [\n    {\n      \"column\": \"Unnamed: 0\",\n      \"properties\": {\n        \"dtype\": \"number\",\n        \"std\": 236,\n        \"min\": 63,\n        \"max\": 756,\n        \"num_unique_values\": 8,\n        \"samples\": [\n          504,\n          665,\n          63\n        ],\n        \"semantic_type\": \"\",\n        \"description\": \"\"\n      }\n    },\n    {\n      \"column\": \"title\",\n      \"properties\": {\n        \"dtype\": \"string\",\n        \"num_unique_values\": 8,\n        \"samples\": [\n          \"the murder on the links by agatha christie\",\n          \"nil darpan; or, the indigo planting mirror, a drama. by dinabandhu mitra\",\n          \"narrative of the life of frederick douglass, an american slave by frederick douglass\"\n        ],\n        \"semantic_type\": \"\",\n        \"description\": \"\"\n      }\n    },\n    {\n      \"column\": \"link\",\n      \"properties\": {\n        \"dtype\": \"string\",\n        \"num_unique_values\": 8,\n        \"samples\": [\n          \"/ebooks/58866\",\n          \"/ebooks/54027\",\n          \"/ebooks/23\"\n        ],\n        \"semantic_type\": \"\",\n        \"description\": \"\"\n      }\n    },\n    {\n      \"column\": \"summary\",\n      \"properties\": {\n        \"dtype\": \"string\",\n        \"num_unique_values\": 8,\n        \"samples\": [\n          \"\\\"the murder on the links\\\" by agatha christie is a detective novel written in the early 20th century. the story revolves around the iconic belgian detective hercule poirot, who is called upon to investigate the mysterious murder of an english millionaire, paul renauld, in france. the narrative opens with poirot's friend and amateur detective, captain hastings, recounting an encounter with a spirited young actress during a train journey, setting the stage for a thrilling tale of intrigue and deception.  at the start of the novel, hastings shares a train compartment with a lively young woman who reveals that she has lost her sister, leading to an unexpected friendship. in the following chapters, hastings returns to london and soon learns of a dire letter from renauld, requesting poirot's assistance due to an imminent threat on his life. as poirot and hastings travel to the villa genevi\\u00e8ve in merlinville, they discover that renauld has been found murdered, igniting the investigation. the opening showcases a clever blend of character interactions, intriguing setups, and an atmosphere brimming with suspense, capturing readers' attention as poirot embarks on unraveling the secrets behind renauld's death. (this is an automatically generated summary.)\",\n          \"\\\"nil darpan; or, the indigo planting mirror\\\" by dinabandhu mitra is a dramatic work written in the mid-19th century. this play explores the plight of bengali peasants under the oppressive indigo plantation system, highlighting their struggles and the injustices they face at the hands of colonial planters. the narrative is centered around characters like goluk chunder, sadhu churn, and nobin madhab, who represent the suffering yet resilient ryots fighting against servitude and exploitation.  the opening of the drama sets the stage by illustrating the dire circumstances of ryots, specifically focusing on goluk chunder and sadhu churn, who lament their lost prosperity due to the forced cultivation of indigo instead of rice. they express despair over the encroaching control of the indigo planters and the resulting misery that has become their life. the dialogue reveals the deep emotional and financial toll that indigo cultivation has inflicted on their families and communities, showcasing a vivid portrayal of agrarian distress in colonial india. through the characters' conversations, the audience is introduced to themes of resistance, identity, and the quest for justice, drawing attention to the pervasive inequalities of the time. (this is an automatically generated summary.)\",\n          \"\\\"narrative of the life of frederick douglass, an american slave\\\" by douglass is a historical account written in the mid-19th century. the book chronicles the life of frederick douglass, detailing his experiences as a slave and eventually a prominent abolitionist. it offers not only a personal testimony of the brutalities and inhumanities of slavery but also douglass's journey towards freedom and his quest for education.  the opening of the narrative provides an intimate perspective of douglass's early life and the pain inflicted by the institution of slavery. he reflects on the uncertainty of his birth date, the cruel separation from his mother, and the horrific treatment he witnessed as a young slave. douglass introduces readers to his first master, captain anthony, and describes the pervasive brutality of slavery through vivid recollections of witnessed violence and degradation. he emphasizes the emotional trauma caused by the slave system, including the stark reality of being regarded as property rather than a human being. this poignant introduction sets the stage for douglass's courageous quest for literacy and freedom, compelling readers to engage with the profound injustices of his world. (this is an automatically generated summary.)\"\n        ],\n        \"semantic_type\": \"\",\n        \"description\": \"\"\n      }\n    },\n    {\n      \"column\": \"summary_no_stopwords\",\n      \"properties\": {\n        \"dtype\": \"string\",\n        \"num_unique_values\": 8,\n        \"samples\": [\n          \"`` murder links '' agatha christie detective novel written early 20th century . story revolves around iconic belgian detective hercule poirot , called upon investigate mysterious murder english millionaire , paul renauld , france . narrative opens poirot 's friend amateur detective , captain hastings , recounting encounter spirited young actress train journey , setting stage thrilling tale intrigue deception . start novel , hastings shares train compartment lively young woman reveals lost sister , leading unexpected friendship . following chapters , hastings returns london soon learns dire letter renauld , requesting poirot 's assistance due imminent threat life . poirot hastings travel villa genevi\\u00e8ve merlinville , discover renauld found murdered , igniting investigation . opening showcases clever blend character interactions , intriguing setups , atmosphere brimming suspense , capturing readers ' attention poirot embarks unraveling secrets behind renauld 's death . ( automatically generated summary . )\",\n          \"`` nil darpan ; , indigo planting mirror '' dinabandhu mitra dramatic work written mid-19th century . play explores plight bengali peasants oppressive indigo plantation system , highlighting struggles injustices face hands colonial planters . narrative centered around characters like goluk chunder , sadhu churn , nobin madhab , represent suffering yet resilient ryots fighting servitude exploitation . opening drama sets stage illustrating dire circumstances ryots , specifically focusing goluk chunder sadhu churn , lament lost prosperity due forced cultivation indigo instead rice . express despair encroaching control indigo planters resulting misery become life . dialogue reveals deep emotional financial toll indigo cultivation inflicted families communities , showcasing vivid portrayal agrarian distress colonial india . characters ' conversations , audience introduced themes resistance , identity , quest justice , drawing attention pervasive inequalities time . ( automatically generated summary . )\",\n          \"`` narrative life frederick douglass , american slave '' douglass historical account written mid-19th century . book chronicles life frederick douglass , detailing experiences slave eventually prominent abolitionist . offers personal testimony brutalities inhumanities slavery also douglass 's journey towards freedom quest education . opening narrative provides intimate perspective douglass 's early life pain inflicted institution slavery . reflects uncertainty birth date , cruel separation mother , horrific treatment witnessed young slave . douglass introduces readers first master , captain anthony , describes pervasive brutality slavery vivid recollections witnessed violence degradation . emphasizes emotional trauma caused slave system , including stark reality regarded property rather human . poignant introduction sets stage douglass 's courageous quest literacy freedom , compelling readers engage profound injustices world . ( automatically generated summary . )\"\n        ],\n        \"semantic_type\": \"\",\n        \"description\": \"\"\n      }\n    },\n    {\n      \"column\": \"summary_lematizado\",\n      \"properties\": {\n        \"dtype\": \"string\",\n        \"num_unique_values\": 8,\n        \"samples\": [\n          \"` ` murder link '' agatha christie detective novel write early 20th century . story revolve around iconic belgian detective hercule poirot , call upon investigate mysterious murder english millionaire , paul renauld , france . narrative open poirot 's friend amateur detective , captain hasting , recounting encounter spirit young actress train journey , set stage thrilling tale intrigue deception . start novel , hastings shares train compartment lively young woman reveal lose sister , lead unexpected friendship . follow chapter , hastings return london soon learn dire letter renauld , request poirot 's assistance due imminent threat life . poirot hastings travel villa genevi\\u00e8ve merlinville , discover renauld find murder , ignite investigation . open showcase clever blend character interaction , intrigue setup , atmosphere brim suspense , capture reader ' attention poirot embark unravel secret behind renauld 's death . ( automatically generate summary . )\",\n          \"` ` nil darpan ; , indigo planting mirror '' dinabandhu mitra dramatic work write mid-19th century . play explores plight bengali peasants oppressive indigo plantation system , highlight struggle injustice face hand colonial planter . narrative center around character like goluk chunder , sadhu churn , nobin madhab , represent suffer yet resilient ryot fight servitude exploitation . open drama set stage illustrate dire circumstance ryot , specifically focus goluk chunder sadhu churn , lament lose prosperity due force cultivation indigo instead rice . express despair encroaching control indigo planter result misery become life . dialogue reveal deep emotional financial toll indigo cultivation inflict family community , showcase vivid portrayal agrarian distress colonial india . character ' conversation , audience introduce theme resistance , identity , quest justice , draw attention pervasive inequality time . ( automatically generate summary . )\",\n          \"` ` narrative life frederick douglass , american slave '' douglass historical account write mid-19th century . book chronicle life frederick douglass , detail experience slave eventually prominent abolitionist . offer personal testimony brutality inhumanity slavery also douglass 's journey towards freedom quest education . opening narrative provide intimate perspective douglass 's early life pain inflict institution slavery . reflect uncertainty birth date , cruel separation mother , horrific treatment witness young slave . douglass introduce reader first master , captain anthony , describe pervasive brutality slavery vivid recollection witness violence degradation . emphasize emotional trauma cause slave system , include stark reality regard property rather human . poignant introduction set stage douglass 's courageous quest literacy freedom , compelling reader engage profound injustice world . ( automatically generate summary . )\"\n        ],\n        \"semantic_type\": \"\",\n        \"description\": \"\"\n      }\n    }\n  ]\n}"
            }
          },
          "metadata": {},
          "execution_count": 64
        }
      ]
    },
    {
      "cell_type": "markdown",
      "source": [
        "## modelo"
      ],
      "metadata": {
        "id": "ryzHLlC_a5CB"
      }
    },
    {
      "cell_type": "code",
      "source": [
        "# Calcular TF-IDF: ingeniería de características de peliculas\n",
        "tfidf_vectorizer_peliculas = TfidfVectorizer()\n",
        "\n",
        "tfidf_matrix_peliculas = tfidf_vectorizer_peliculas.fit_transform(df_peliculas['description_lematizado'])"
      ],
      "metadata": {
        "collapsed": true,
        "id": "bGRRE_z7U5px"
      },
      "execution_count": 72,
      "outputs": []
    },
    {
      "cell_type": "code",
      "source": [
        "# Calcular TF-IDF: ingeniería de características de libros\n",
        "tfidf_vectorizer_libros = TfidfVectorizer()\n",
        "\n",
        "tfidf_matrix_libros = tfidf_vectorizer_libros.fit_transform(df_libros['summary_lematizado'])"
      ],
      "metadata": {
        "id": "3N4grdfnVcrY"
      },
      "execution_count": 71,
      "outputs": []
    },
    {
      "cell_type": "code",
      "source": [
        "# Calcular TF-IDF: ingeniería de características de libros\n",
        "tfidf_vectorizer_juegos = TfidfVectorizer()\n",
        "\n",
        "tfidf_matrix_libros = tfidf_vectorizer_juegos.fit_transform(df_juegos['Description_lematizado'])"
      ],
      "metadata": {
        "id": "sVSGVw7Ncb77"
      },
      "execution_count": 68,
      "outputs": []
    }
  ],
  "metadata": {
    "kernelspec": {
      "display_name": ".venv_nlp",
      "language": "python",
      "name": "python3"
    },
    "language_info": {
      "name": "python",
      "version": "3.12.7"
    },
    "colab": {
      "provenance": []
    },
    "widgets": {
      "application/vnd.jupyter.widget-state+json": {
        "dab6bb0cf58f4f609aa6fce35a2b5144": {
          "model_module": "@jupyter-widgets/controls",
          "model_name": "HBoxModel",
          "model_module_version": "1.5.0",
          "state": {
            "_dom_classes": [],
            "_model_module": "@jupyter-widgets/controls",
            "_model_module_version": "1.5.0",
            "_model_name": "HBoxModel",
            "_view_count": null,
            "_view_module": "@jupyter-widgets/controls",
            "_view_module_version": "1.5.0",
            "_view_name": "HBoxView",
            "box_style": "",
            "children": [
              "IPY_MODEL_2d279f5479d649b0aa45598653e8ed43",
              "IPY_MODEL_5d74c65aac2a4f07a730889e6541cb1c",
              "IPY_MODEL_4d63c371feb9442eb93b1105343a487e"
            ],
            "layout": "IPY_MODEL_3f36983643ea4899bcde320b8c3e8c24"
          }
        },
        "2d279f5479d649b0aa45598653e8ed43": {
          "model_module": "@jupyter-widgets/controls",
          "model_name": "HTMLModel",
          "model_module_version": "1.5.0",
          "state": {
            "_dom_classes": [],
            "_model_module": "@jupyter-widgets/controls",
            "_model_module_version": "1.5.0",
            "_model_name": "HTMLModel",
            "_view_count": null,
            "_view_module": "@jupyter-widgets/controls",
            "_view_module_version": "1.5.0",
            "_view_name": "HTMLView",
            "description": "",
            "description_tooltip": null,
            "layout": "IPY_MODEL_c21ee0d528154b2e87792f6ec6b17aac",
            "placeholder": "​",
            "style": "IPY_MODEL_752534f6397347c3887972c04ae82248",
            "value": "Fetching 4 files: 100%"
          }
        },
        "5d74c65aac2a4f07a730889e6541cb1c": {
          "model_module": "@jupyter-widgets/controls",
          "model_name": "FloatProgressModel",
          "model_module_version": "1.5.0",
          "state": {
            "_dom_classes": [],
            "_model_module": "@jupyter-widgets/controls",
            "_model_module_version": "1.5.0",
            "_model_name": "FloatProgressModel",
            "_view_count": null,
            "_view_module": "@jupyter-widgets/controls",
            "_view_module_version": "1.5.0",
            "_view_name": "ProgressView",
            "bar_style": "success",
            "description": "",
            "description_tooltip": null,
            "layout": "IPY_MODEL_cb3902f9d1a84ed298d707e744ecc9e4",
            "max": 4,
            "min": 0,
            "orientation": "horizontal",
            "style": "IPY_MODEL_e70ac75a79e74086a41825d7d2195eb6",
            "value": 4
          }
        },
        "4d63c371feb9442eb93b1105343a487e": {
          "model_module": "@jupyter-widgets/controls",
          "model_name": "HTMLModel",
          "model_module_version": "1.5.0",
          "state": {
            "_dom_classes": [],
            "_model_module": "@jupyter-widgets/controls",
            "_model_module_version": "1.5.0",
            "_model_name": "HTMLModel",
            "_view_count": null,
            "_view_module": "@jupyter-widgets/controls",
            "_view_module_version": "1.5.0",
            "_view_name": "HTMLView",
            "description": "",
            "description_tooltip": null,
            "layout": "IPY_MODEL_051cd83b25864c76a0c819936f8675cb",
            "placeholder": "​",
            "style": "IPY_MODEL_4bb203448c744130b63929ed7662a4c5",
            "value": " 4/4 [00:00&lt;00:00, 69.68it/s]"
          }
        },
        "3f36983643ea4899bcde320b8c3e8c24": {
          "model_module": "@jupyter-widgets/base",
          "model_name": "LayoutModel",
          "model_module_version": "1.2.0",
          "state": {
            "_model_module": "@jupyter-widgets/base",
            "_model_module_version": "1.2.0",
            "_model_name": "LayoutModel",
            "_view_count": null,
            "_view_module": "@jupyter-widgets/base",
            "_view_module_version": "1.2.0",
            "_view_name": "LayoutView",
            "align_content": null,
            "align_items": null,
            "align_self": null,
            "border": null,
            "bottom": null,
            "display": null,
            "flex": null,
            "flex_flow": null,
            "grid_area": null,
            "grid_auto_columns": null,
            "grid_auto_flow": null,
            "grid_auto_rows": null,
            "grid_column": null,
            "grid_gap": null,
            "grid_row": null,
            "grid_template_areas": null,
            "grid_template_columns": null,
            "grid_template_rows": null,
            "height": null,
            "justify_content": null,
            "justify_items": null,
            "left": null,
            "margin": null,
            "max_height": null,
            "max_width": null,
            "min_height": null,
            "min_width": null,
            "object_fit": null,
            "object_position": null,
            "order": null,
            "overflow": null,
            "overflow_x": null,
            "overflow_y": null,
            "padding": null,
            "right": null,
            "top": null,
            "visibility": null,
            "width": null
          }
        },
        "c21ee0d528154b2e87792f6ec6b17aac": {
          "model_module": "@jupyter-widgets/base",
          "model_name": "LayoutModel",
          "model_module_version": "1.2.0",
          "state": {
            "_model_module": "@jupyter-widgets/base",
            "_model_module_version": "1.2.0",
            "_model_name": "LayoutModel",
            "_view_count": null,
            "_view_module": "@jupyter-widgets/base",
            "_view_module_version": "1.2.0",
            "_view_name": "LayoutView",
            "align_content": null,
            "align_items": null,
            "align_self": null,
            "border": null,
            "bottom": null,
            "display": null,
            "flex": null,
            "flex_flow": null,
            "grid_area": null,
            "grid_auto_columns": null,
            "grid_auto_flow": null,
            "grid_auto_rows": null,
            "grid_column": null,
            "grid_gap": null,
            "grid_row": null,
            "grid_template_areas": null,
            "grid_template_columns": null,
            "grid_template_rows": null,
            "height": null,
            "justify_content": null,
            "justify_items": null,
            "left": null,
            "margin": null,
            "max_height": null,
            "max_width": null,
            "min_height": null,
            "min_width": null,
            "object_fit": null,
            "object_position": null,
            "order": null,
            "overflow": null,
            "overflow_x": null,
            "overflow_y": null,
            "padding": null,
            "right": null,
            "top": null,
            "visibility": null,
            "width": null
          }
        },
        "752534f6397347c3887972c04ae82248": {
          "model_module": "@jupyter-widgets/controls",
          "model_name": "DescriptionStyleModel",
          "model_module_version": "1.5.0",
          "state": {
            "_model_module": "@jupyter-widgets/controls",
            "_model_module_version": "1.5.0",
            "_model_name": "DescriptionStyleModel",
            "_view_count": null,
            "_view_module": "@jupyter-widgets/base",
            "_view_module_version": "1.2.0",
            "_view_name": "StyleView",
            "description_width": ""
          }
        },
        "cb3902f9d1a84ed298d707e744ecc9e4": {
          "model_module": "@jupyter-widgets/base",
          "model_name": "LayoutModel",
          "model_module_version": "1.2.0",
          "state": {
            "_model_module": "@jupyter-widgets/base",
            "_model_module_version": "1.2.0",
            "_model_name": "LayoutModel",
            "_view_count": null,
            "_view_module": "@jupyter-widgets/base",
            "_view_module_version": "1.2.0",
            "_view_name": "LayoutView",
            "align_content": null,
            "align_items": null,
            "align_self": null,
            "border": null,
            "bottom": null,
            "display": null,
            "flex": null,
            "flex_flow": null,
            "grid_area": null,
            "grid_auto_columns": null,
            "grid_auto_flow": null,
            "grid_auto_rows": null,
            "grid_column": null,
            "grid_gap": null,
            "grid_row": null,
            "grid_template_areas": null,
            "grid_template_columns": null,
            "grid_template_rows": null,
            "height": null,
            "justify_content": null,
            "justify_items": null,
            "left": null,
            "margin": null,
            "max_height": null,
            "max_width": null,
            "min_height": null,
            "min_width": null,
            "object_fit": null,
            "object_position": null,
            "order": null,
            "overflow": null,
            "overflow_x": null,
            "overflow_y": null,
            "padding": null,
            "right": null,
            "top": null,
            "visibility": null,
            "width": null
          }
        },
        "e70ac75a79e74086a41825d7d2195eb6": {
          "model_module": "@jupyter-widgets/controls",
          "model_name": "ProgressStyleModel",
          "model_module_version": "1.5.0",
          "state": {
            "_model_module": "@jupyter-widgets/controls",
            "_model_module_version": "1.5.0",
            "_model_name": "ProgressStyleModel",
            "_view_count": null,
            "_view_module": "@jupyter-widgets/base",
            "_view_module_version": "1.2.0",
            "_view_name": "StyleView",
            "bar_color": null,
            "description_width": ""
          }
        },
        "051cd83b25864c76a0c819936f8675cb": {
          "model_module": "@jupyter-widgets/base",
          "model_name": "LayoutModel",
          "model_module_version": "1.2.0",
          "state": {
            "_model_module": "@jupyter-widgets/base",
            "_model_module_version": "1.2.0",
            "_model_name": "LayoutModel",
            "_view_count": null,
            "_view_module": "@jupyter-widgets/base",
            "_view_module_version": "1.2.0",
            "_view_name": "LayoutView",
            "align_content": null,
            "align_items": null,
            "align_self": null,
            "border": null,
            "bottom": null,
            "display": null,
            "flex": null,
            "flex_flow": null,
            "grid_area": null,
            "grid_auto_columns": null,
            "grid_auto_flow": null,
            "grid_auto_rows": null,
            "grid_column": null,
            "grid_gap": null,
            "grid_row": null,
            "grid_template_areas": null,
            "grid_template_columns": null,
            "grid_template_rows": null,
            "height": null,
            "justify_content": null,
            "justify_items": null,
            "left": null,
            "margin": null,
            "max_height": null,
            "max_width": null,
            "min_height": null,
            "min_width": null,
            "object_fit": null,
            "object_position": null,
            "order": null,
            "overflow": null,
            "overflow_x": null,
            "overflow_y": null,
            "padding": null,
            "right": null,
            "top": null,
            "visibility": null,
            "width": null
          }
        },
        "4bb203448c744130b63929ed7662a4c5": {
          "model_module": "@jupyter-widgets/controls",
          "model_name": "DescriptionStyleModel",
          "model_module_version": "1.5.0",
          "state": {
            "_model_module": "@jupyter-widgets/controls",
            "_model_module_version": "1.5.0",
            "_model_name": "DescriptionStyleModel",
            "_view_count": null,
            "_view_module": "@jupyter-widgets/base",
            "_view_module_version": "1.2.0",
            "_view_name": "StyleView",
            "description_width": ""
          }
        }
      }
    }
  },
  "nbformat": 4,
  "nbformat_minor": 0
}